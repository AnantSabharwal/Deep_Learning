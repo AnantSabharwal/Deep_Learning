{
  "nbformat": 4,
  "nbformat_minor": 0,
  "metadata": {
    "colab": {
      "provenance": [],
      "collapsed_sections": []
    },
    "kernelspec": {
      "name": "python3",
      "display_name": "Python 3"
    },
    "language_info": {
      "name": "python"
    }
  },
  "cells": [
    {
      "cell_type": "markdown",
      "source": [
        "##### Basic Neural Network\n",
        "\n",
        "Building a basic neural network using tensorflow and keras to perform classification on fashion_mnist dataset"
      ],
      "metadata": {
        "id": "BVEegBUxUihk"
      }
    },
    {
      "cell_type": "code",
      "source": [
        "import tensorflow as tf\n",
        "print(f\"Tensorflow version: {tf.__version__}\")\n",
        "print(f\"Keras version: {tf.keras.__version__}\")"
      ],
      "metadata": {
        "colab": {
          "base_uri": "https://localhost:8080/"
        },
        "id": "uJbxXe6dUqpP",
        "outputId": "c55441f2-534c-423b-b1f0-3d8d73e3a361"
      },
      "execution_count": null,
      "outputs": [
        {
          "output_type": "stream",
          "name": "stdout",
          "text": [
            "Tensorflow version: 2.8.2\n",
            "Keras version: 2.8.0\n"
          ]
        }
      ]
    },
    {
      "cell_type": "code",
      "source": [
        "import numpy as np\n",
        "import pandas as pd\n",
        "import matplotlib.pyplot as plt\n",
        "import seaborn as sns"
      ],
      "metadata": {
        "id": "cDgsYxlUUecR"
      },
      "execution_count": null,
      "outputs": []
    },
    {
      "cell_type": "code",
      "source": [
        "# loading the dataset\n",
        "fmnist = tf.keras.datasets.fashion_mnist"
      ],
      "metadata": {
        "id": "nCxPTNCxVHtb"
      },
      "execution_count": null,
      "outputs": []
    },
    {
      "cell_type": "code",
      "source": [
        "(x_train_full, y_train_full),(x_test_full,y_test_full) = fmnist.load_data()"
      ],
      "metadata": {
        "colab": {
          "base_uri": "https://localhost:8080/"
        },
        "id": "QHkPrHAfVdoV",
        "outputId": "1fe97447-63b1-4525-952c-eb73f53454db"
      },
      "execution_count": null,
      "outputs": [
        {
          "output_type": "stream",
          "name": "stdout",
          "text": [
            "Downloading data from https://storage.googleapis.com/tensorflow/tf-keras-datasets/train-labels-idx1-ubyte.gz\n",
            "32768/29515 [=================================] - 0s 0us/step\n",
            "40960/29515 [=========================================] - 0s 0us/step\n",
            "Downloading data from https://storage.googleapis.com/tensorflow/tf-keras-datasets/train-images-idx3-ubyte.gz\n",
            "26427392/26421880 [==============================] - 0s 0us/step\n",
            "26435584/26421880 [==============================] - 0s 0us/step\n",
            "Downloading data from https://storage.googleapis.com/tensorflow/tf-keras-datasets/t10k-labels-idx1-ubyte.gz\n",
            "16384/5148 [===============================================================================================] - 0s 0us/step\n",
            "Downloading data from https://storage.googleapis.com/tensorflow/tf-keras-datasets/t10k-images-idx3-ubyte.gz\n",
            "4423680/4422102 [==============================] - 0s 0us/step\n",
            "4431872/4422102 [==============================] - 0s 0us/step\n"
          ]
        }
      ]
    },
    {
      "cell_type": "code",
      "source": [
        "x_train_full.shape"
      ],
      "metadata": {
        "colab": {
          "base_uri": "https://localhost:8080/"
        },
        "id": "m-2bX4B8Vfal",
        "outputId": "5ddd28b8-621f-4356-8674-e9dde41ac153"
      },
      "execution_count": null,
      "outputs": [
        {
          "output_type": "execute_result",
          "data": {
            "text/plain": [
              "(60000, 28, 28)"
            ]
          },
          "metadata": {},
          "execution_count": 7
        }
      ]
    },
    {
      "cell_type": "code",
      "source": [
        "np.max(x_train_full[0])"
      ],
      "metadata": {
        "colab": {
          "base_uri": "https://localhost:8080/"
        },
        "id": "Ygl3fLyvaSLI",
        "outputId": "65ecfff1-d868-42b7-8bc2-c45bc5542217"
      },
      "execution_count": null,
      "outputs": [
        {
          "output_type": "execute_result",
          "data": {
            "text/plain": [
              "1.0"
            ]
          },
          "metadata": {},
          "execution_count": 22
        }
      ]
    },
    {
      "cell_type": "code",
      "source": [
        "np.min(x_train_full[0])"
      ],
      "metadata": {
        "colab": {
          "base_uri": "https://localhost:8080/"
        },
        "id": "pqq-veLZaST4",
        "outputId": "b26dea28-64da-440f-bb16-6536816e2e16"
      },
      "execution_count": null,
      "outputs": [
        {
          "output_type": "execute_result",
          "data": {
            "text/plain": [
              "0.0"
            ]
          },
          "metadata": {},
          "execution_count": 21
        }
      ]
    },
    {
      "cell_type": "code",
      "source": [
        "#viewing the data\n",
        "plt.imshow(x_train_full[0],cmap = 'gray')"
      ],
      "metadata": {
        "colab": {
          "base_uri": "https://localhost:8080/",
          "height": 282
        },
        "id": "No5fBh1YaMnf",
        "outputId": "cf067f1a-0e33-4154-d921-f3493a7e1f96"
      },
      "execution_count": null,
      "outputs": [
        {
          "output_type": "execute_result",
          "data": {
            "text/plain": [
              "<matplotlib.image.AxesImage at 0x7f2850ad7650>"
            ]
          },
          "metadata": {},
          "execution_count": 24
        },
        {
          "output_type": "display_data",
          "data": {
            "text/plain": [
              "<Figure size 432x288 with 1 Axes>"
            ],
            "image/png": "[encoded data removed]"
          },
          "metadata": {
            "needs_background": "light"
          }
        }
      ]
    },
    {
      "cell_type": "markdown",
      "source": [
        "#### Finding the number of classes"
      ],
      "metadata": {
        "id": "EXaRjP2_Voec"
      }
    },
    {
      "cell_type": "code",
      "source": [
        "# finding the number of classes\n",
        "K = len(set(y_train_full))\n",
        "print(\"The number of classes are: \",K)"
      ],
      "metadata": {
        "colab": {
          "base_uri": "https://localhost:8080/"
        },
        "id": "AbRTgFywVlMN",
        "outputId": "21dc4b58-0190-4d37-f139-19233fd205a8"
      },
      "execution_count": null,
      "outputs": [
        {
          "output_type": "stream",
          "name": "stdout",
          "text": [
            "The number of classes are:  10\n"
          ]
        }
      ]
    },
    {
      "cell_type": "markdown",
      "source": [
        "#### Finding the dimensions of each image"
      ],
      "metadata": {
        "id": "LAIEvDr3V2BR"
      }
    },
    {
      "cell_type": "code",
      "source": [
        "#finding the dimension of each image\n",
        "print(\"Dimension of each image: \",x_train_full[0].shape)"
      ],
      "metadata": {
        "colab": {
          "base_uri": "https://localhost:8080/"
        },
        "id": "WbA9q3SqVzq9",
        "outputId": "9b3f51ea-f07e-4e2f-89b6-5470d98bff97"
      },
      "execution_count": null,
      "outputs": [
        {
          "output_type": "stream",
          "name": "stdout",
          "text": [
            "Dimension of each image:  (28, 28)\n"
          ]
        }
      ]
    },
    {
      "cell_type": "code",
      "source": [
        "#dimension of the entire dataset\n",
        "print(\"Dimension of each image: \",x_train_full.shape)"
      ],
      "metadata": {
        "colab": {
          "base_uri": "https://localhost:8080/"
        },
        "id": "E2LoLDAueN5d",
        "outputId": "e8a16c6f-7b1b-4f6d-eb10-6f68b8c6252d"
      },
      "execution_count": null,
      "outputs": [
        {
          "output_type": "stream",
          "name": "stdout",
          "text": [
            "Dimension of each image:  (60000, 28, 28)\n"
          ]
        }
      ]
    },
    {
      "cell_type": "markdown",
      "source": [
        "#### Display one image from each class"
      ],
      "metadata": {
        "id": "Ct3wdsAjV_XA"
      }
    },
    {
      "cell_type": "code",
      "source": [
        "fig, ax= plt.subplots(nrows= 2, ncols= 5, figsize= (18,5))\n",
        "plt.suptitle('Image Per Categorie', y= 1.05, fontsize= 16)\n",
        "i= 0\n",
        "for j in range(2):\n",
        "  for k in range(5):\n",
        "    ax[j,k].imshow(x_train_full[list(y_train_full).index(i)])\n",
        "    ax[j,k].axis('off')\n",
        "    ax[j,k].set_title(i)\n",
        "    i+=1\n",
        "plt.tight_layout()\n",
        "plt.show()"
      ],
      "metadata": {
        "colab": {
          "base_uri": "https://localhost:8080/",
          "height": 398
        },
        "id": "LhbHiDlbV7sN",
        "outputId": "56c8b983-cc35-4fe1-f4e2-622a39d1494d"
      },
      "execution_count": null,
      "outputs": [
        {
          "output_type": "display_data",
          "data": {
            "text/plain": [
              "<Figure size 1296x360 with 10 Axes>"
            ],
            "image/png": "[encoded data removed]"
          },
          "metadata": {
            "needs_background": "light"
          }
        }
      ]
    },
    {
      "cell_type": "markdown",
      "source": [
        "#### Performing normalization"
      ],
      "metadata": {
        "id": "3ZY68tVpWMMx"
      }
    },
    {
      "cell_type": "code",
      "source": [
        "x_train_full = x_train_full/255.0\n",
        "x_test_full = x_test_full/255.0"
      ],
      "metadata": {
        "id": "cArajcTZWHu2"
      },
      "execution_count": null,
      "outputs": []
    },
    {
      "cell_type": "code",
      "source": [
        "print(\"max: \",np.max(x_train_full[0]))\n",
        "print(\"min: \",np.min(x_train_full[0]))"
      ],
      "metadata": {
        "colab": {
          "base_uri": "https://localhost:8080/"
        },
        "id": "4wy_sjwzaeY4",
        "outputId": "c0329663-418a-4721-9e15-0ac7686f4dd6"
      },
      "execution_count": null,
      "outputs": [
        {
          "output_type": "stream",
          "name": "stdout",
          "text": [
            "max:  1.0\n",
            "min:  0.0\n"
          ]
        }
      ]
    },
    {
      "cell_type": "code",
      "source": [
        "print(\"Shape of train set: \", x_train_full.shape)\n",
        "print(\"Shape of test set: \", x_test_full.shape)"
      ],
      "metadata": {
        "colab": {
          "base_uri": "https://localhost:8080/"
        },
        "id": "7ajxCyoIWVZs",
        "outputId": "f47316a1-8047-449a-81f0-7a635e2c2955"
      },
      "execution_count": null,
      "outputs": [
        {
          "output_type": "stream",
          "name": "stdout",
          "text": [
            "Shape of train set:  (60000, 28, 28)\n",
            "Shape of test set:  (10000, 28, 28)\n"
          ]
        }
      ]
    },
    {
      "cell_type": "markdown",
      "source": [
        "#### Build two neural networks with 2 hidden layers and 5 hidden layers\n",
        "#### Train and test the networks also"
      ],
      "metadata": {
        "id": "6URrOJVKWrVP"
      }
    },
    {
      "cell_type": "code",
      "source": [
        "#first model\n",
        "model1 = tf.keras.Sequential() #to use the tensor flow sequential API\n",
        "model1.add(tf.keras.layers.Flatten(input_shape = [28,28], name = \"inputLayer\")) #Flatten is used to create a 2D tensor to a 1D array\n",
        "model1.add(tf.keras.layers.Dense(300, activation = \"relu\", name = \"HiddenLayer1\"))\n",
        "model1.add(tf.keras.layers.Dense(100, activation = \"relu\", name = \"HiddenLayer2\")) \n",
        "model1.add(tf.keras.layers.Dense(10, activation = \"softmax\", name = \"outputLayer\")) # used in case of presence of multiple classes\n",
        "model1.summary()"
      ],
      "metadata": {
        "colab": {
          "base_uri": "https://localhost:8080/"
        },
        "id": "k52wGcnHWn8O",
        "outputId": "4bc5bb3c-879b-4af9-8a27-e780ebaba750"
      },
      "execution_count": null,
      "outputs": [
        {
          "output_type": "stream",
          "name": "stdout",
          "text": [
            "Model: \"sequential\"\n",
            "_________________________________________________________________\n",
            " Layer (type)                Output Shape              Param #   \n",
            "=================================================================\n",
            " inputLayer (Flatten)        (None, 784)               0         \n",
            "                                                                 \n",
            " HiddenLayer1 (Dense)        (None, 300)               235500    \n",
            "                                                                 \n",
            " HiddenLayer2 (Dense)        (None, 100)               30100     \n",
            "                                                                 \n",
            " outputLayer (Dense)         (None, 10)                1010      \n",
            "                                                                 \n",
            "=================================================================\n",
            "Total params: 266,610\n",
            "Trainable params: 266,610\n",
            "Non-trainable params: 0\n",
            "_________________________________________________________________\n"
          ]
        }
      ]
    },
    {
      "cell_type": "code",
      "source": [
        "model1.compile(loss = \"sparse_categorical_crossentropy\", optimizer = \"adam\", metrics =[\"accuracy\"])\n",
        "batch_size = 32\n",
        "epochs = 15\n",
        "\n",
        "history1  = model1.fit(x_train_full, y_train_full, batch_size = batch_size, epochs = epochs, validation_split = 0.1)"
      ],
      "metadata": {
        "colab": {
          "base_uri": "https://localhost:8080/"
        },
        "id": "zzwMl3elW6BJ",
        "outputId": "1eed0949-bf2e-4b29-ab51-a380d2ec0bab"
      },
      "execution_count": null,
      "outputs": [
        {
          "output_type": "stream",
          "name": "stdout",
          "text": [
            "Epoch 1/15\n",
            "1688/1688 [==============================] - 8s 5ms/step - loss: 0.4839 - accuracy: 0.8280 - val_loss: 0.3781 - val_accuracy: 0.8643\n",
            "Epoch 2/15\n",
            "1688/1688 [==============================] - 8s 5ms/step - loss: 0.3650 - accuracy: 0.8665 - val_loss: 0.3565 - val_accuracy: 0.8708\n",
            "Epoch 3/15\n",
            "1688/1688 [==============================] - 8s 5ms/step - loss: 0.3289 - accuracy: 0.8783 - val_loss: 0.3457 - val_accuracy: 0.8750\n",
            "Epoch 4/15\n",
            "1688/1688 [==============================] - 8s 5ms/step - loss: 0.3024 - accuracy: 0.8880 - val_loss: 0.3266 - val_accuracy: 0.8785\n",
            "Epoch 5/15\n",
            "1688/1688 [==============================] - 8s 5ms/step - loss: 0.2882 - accuracy: 0.8928 - val_loss: 0.3643 - val_accuracy: 0.8718\n",
            "Epoch 6/15\n",
            "1688/1688 [==============================] - 8s 4ms/step - loss: 0.2717 - accuracy: 0.8979 - val_loss: 0.3868 - val_accuracy: 0.8702\n",
            "Epoch 7/15\n",
            "1688/1688 [==============================] - 8s 5ms/step - loss: 0.2582 - accuracy: 0.9023 - val_loss: 0.3324 - val_accuracy: 0.8870\n",
            "Epoch 8/15\n",
            "1688/1688 [==============================] - 8s 5ms/step - loss: 0.2472 - accuracy: 0.9063 - val_loss: 0.3251 - val_accuracy: 0.8870\n",
            "Epoch 9/15\n",
            "1688/1688 [==============================] - 8s 5ms/step - loss: 0.2363 - accuracy: 0.9109 - val_loss: 0.3476 - val_accuracy: 0.8825\n",
            "Epoch 10/15\n",
            "1688/1688 [==============================] - 8s 5ms/step - loss: 0.2269 - accuracy: 0.9134 - val_loss: 0.3146 - val_accuracy: 0.8888\n",
            "Epoch 11/15\n",
            "1688/1688 [==============================] - 8s 5ms/step - loss: 0.2197 - accuracy: 0.9158 - val_loss: 0.3373 - val_accuracy: 0.8862\n",
            "Epoch 12/15\n",
            "1688/1688 [==============================] - 8s 5ms/step - loss: 0.2101 - accuracy: 0.9201 - val_loss: 0.3632 - val_accuracy: 0.8838\n",
            "Epoch 13/15\n",
            "1688/1688 [==============================] - 8s 5ms/step - loss: 0.2009 - accuracy: 0.9226 - val_loss: 0.3346 - val_accuracy: 0.8898\n",
            "Epoch 14/15\n",
            "1688/1688 [==============================] - 8s 5ms/step - loss: 0.1940 - accuracy: 0.9250 - val_loss: 0.3430 - val_accuracy: 0.8932\n",
            "Epoch 15/15\n",
            "1688/1688 [==============================] - 8s 5ms/step - loss: 0.1886 - accuracy: 0.9280 - val_loss: 0.3442 - val_accuracy: 0.8977\n"
          ]
        }
      ]
    },
    {
      "cell_type": "code",
      "source": [
        "#second model\n",
        "model2 = tf.keras.Sequential() #to use the tensor flow sequential API\n",
        "model2.add(tf.keras.layers.Flatten(input_shape = [28,28], name = \"inputLayer\")) #Flatten is used to create a 2D tensor to a 1D array\n",
        "model2.add(tf.keras.layers.Dense(380, activation = \"relu\", name = \"HiddenLayer1\"))\n",
        "model2.add(tf.keras.layers.Dense(180, activation = \"relu\", name = \"HiddenLayer2\"))\n",
        "model2.add(tf.keras.layers.Dense(85, activation = \"relu\", name = \"HiddenLayer3\"))\n",
        "model2.add(tf.keras.layers.Dense(41, activation = \"relu\", name = \"HiddenLayer4\"))\n",
        "model2.add(tf.keras.layers.Dense(20, activation = \"relu\", name = \"HiddenLayer5\")) \n",
        "model2.add(tf.keras.layers.Dense(10, activation = \"softmax\", name = \"outputLayer\")) # used in case of presence of multiple classes\n",
        "model2.summary()"
      ],
      "metadata": {
        "colab": {
          "base_uri": "https://localhost:8080/"
        },
        "id": "XqYQepbbW8Lk",
        "outputId": "64deed8c-fb5e-4a32-845a-627f9a7cd595"
      },
      "execution_count": null,
      "outputs": [
        {
          "output_type": "stream",
          "name": "stdout",
          "text": [
            "Model: \"sequential_1\"\n",
            "_________________________________________________________________\n",
            " Layer (type)                Output Shape              Param #   \n",
            "=================================================================\n",
            " inputLayer (Flatten)        (None, 784)               0         \n",
            "                                                                 \n",
            " HiddenLayer1 (Dense)        (None, 380)               298300    \n",
            "                                                                 \n",
            " HiddenLayer2 (Dense)        (None, 180)               68580     \n",
            "                                                                 \n",
            " HiddenLayer3 (Dense)        (None, 85)                15385     \n",
            "                                                                 \n",
            " HiddenLayer4 (Dense)        (None, 41)                3526      \n",
            "                                                                 \n",
            " HiddenLayer5 (Dense)        (None, 20)                840       \n",
            "                                                                 \n",
            " outputLayer (Dense)         (None, 10)                210       \n",
            "                                                                 \n",
            "=================================================================\n",
            "Total params: 386,841\n",
            "Trainable params: 386,841\n",
            "Non-trainable params: 0\n",
            "_________________________________________________________________\n"
          ]
        }
      ]
    },
    {
      "cell_type": "code",
      "source": [
        "model2.compile(loss = \"sparse_categorical_crossentropy\", optimizer = \"adam\", metrics =[\"accuracy\"])\n",
        "batch_size = 32\n",
        "epochs = 15\n",
        "\n",
        "history2  = model2.fit(x_train_full, y_train_full, batch_size = batch_size, epochs = epochs, validation_split = 0.1)"
      ],
      "metadata": {
        "colab": {
          "base_uri": "https://localhost:8080/"
        },
        "id": "L-KBqGZZXymL",
        "outputId": "234f96f8-4602-479b-db7a-f7811f1a7442"
      },
      "execution_count": null,
      "outputs": [
        {
          "output_type": "stream",
          "name": "stdout",
          "text": [
            "Epoch 1/15\n",
            "1688/1688 [==============================] - 12s 7ms/step - loss: 0.5431 - accuracy: 0.8055 - val_loss: 0.4233 - val_accuracy: 0.8410\n",
            "Epoch 2/15\n",
            "1688/1688 [==============================] - 10s 6ms/step - loss: 0.3786 - accuracy: 0.8613 - val_loss: 0.3599 - val_accuracy: 0.8697\n",
            "Epoch 3/15\n",
            "1688/1688 [==============================] - 10s 6ms/step - loss: 0.3427 - accuracy: 0.8746 - val_loss: 0.3618 - val_accuracy: 0.8722\n",
            "Epoch 4/15\n",
            "1688/1688 [==============================] - 10s 6ms/step - loss: 0.3179 - accuracy: 0.8843 - val_loss: 0.3470 - val_accuracy: 0.8738\n",
            "Epoch 5/15\n",
            "1688/1688 [==============================] - 10s 6ms/step - loss: 0.3021 - accuracy: 0.8882 - val_loss: 0.3435 - val_accuracy: 0.8795\n",
            "Epoch 6/15\n",
            "1688/1688 [==============================] - 10s 6ms/step - loss: 0.2819 - accuracy: 0.8950 - val_loss: 0.3489 - val_accuracy: 0.8777\n",
            "Epoch 7/15\n",
            "1688/1688 [==============================] - 10s 6ms/step - loss: 0.2713 - accuracy: 0.8989 - val_loss: 0.3216 - val_accuracy: 0.8865\n",
            "Epoch 8/15\n",
            "1688/1688 [==============================] - 10s 6ms/step - loss: 0.2610 - accuracy: 0.9041 - val_loss: 0.3433 - val_accuracy: 0.8782\n",
            "Epoch 9/15\n",
            "1688/1688 [==============================] - 10s 6ms/step - loss: 0.2500 - accuracy: 0.9064 - val_loss: 0.3295 - val_accuracy: 0.8818\n",
            "Epoch 10/15\n",
            "1688/1688 [==============================] - 10s 6ms/step - loss: 0.2416 - accuracy: 0.9083 - val_loss: 0.3223 - val_accuracy: 0.8893\n",
            "Epoch 11/15\n",
            "1688/1688 [==============================] - 10s 6ms/step - loss: 0.2302 - accuracy: 0.9128 - val_loss: 0.3439 - val_accuracy: 0.8852\n",
            "Epoch 12/15\n",
            "1688/1688 [==============================] - 10s 6ms/step - loss: 0.2216 - accuracy: 0.9166 - val_loss: 0.3281 - val_accuracy: 0.8885\n",
            "Epoch 13/15\n",
            "1688/1688 [==============================] - 10s 6ms/step - loss: 0.2165 - accuracy: 0.9187 - val_loss: 0.3270 - val_accuracy: 0.8888\n",
            "Epoch 14/15\n",
            "1688/1688 [==============================] - 10s 6ms/step - loss: 0.2089 - accuracy: 0.9216 - val_loss: 0.3544 - val_accuracy: 0.8877\n",
            "Epoch 15/15\n",
            "1688/1688 [==============================] - 10s 6ms/step - loss: 0.2010 - accuracy: 0.9247 - val_loss: 0.3312 - val_accuracy: 0.8890\n"
          ]
        }
      ]
    },
    {
      "cell_type": "code",
      "source": [
        "model1.evaluate(x_test_full, y_test_full)"
      ],
      "metadata": {
        "colab": {
          "base_uri": "https://localhost:8080/"
        },
        "id": "at08Ud3hX4fr",
        "outputId": "f4b60612-fbc5-40ba-a726-e5c98cabf0ba"
      },
      "execution_count": null,
      "outputs": [
        {
          "output_type": "stream",
          "name": "stdout",
          "text": [
            "313/313 [==============================] - 1s 3ms/step - loss: 0.3500 - accuracy: 0.8934\n"
          ]
        },
        {
          "output_type": "execute_result",
          "data": {
            "text/plain": [
              "[0.35003694891929626, 0.8934000134468079]"
            ]
          },
          "metadata": {},
          "execution_count": 19
        }
      ]
    },
    {
      "cell_type": "code",
      "source": [
        "model2.evaluate(x_test_full, y_test_full)"
      ],
      "metadata": {
        "colab": {
          "base_uri": "https://localhost:8080/"
        },
        "id": "LYI6ZWjdY-Al",
        "outputId": "cb8a59b3-36b1-4af3-e5d5-1450b3c482ca"
      },
      "execution_count": null,
      "outputs": [
        {
          "output_type": "stream",
          "name": "stdout",
          "text": [
            "313/313 [==============================] - 1s 3ms/step - loss: 0.3556 - accuracy: 0.8920\n"
          ]
        },
        {
          "output_type": "execute_result",
          "data": {
            "text/plain": [
              "[0.35562369227409363, 0.8920000195503235]"
            ]
          },
          "metadata": {},
          "execution_count": 20
        }
      ]
    },
    {
      "cell_type": "markdown",
      "source": [
        "#### Compare their performances\n",
        "The two models with 2 hidden layers and 5 hidden layers respectively have approximately the same accuracy and changing the number of hidden layers did not really affect the accuracy of the network that we built the loss has also not been affected. "
      ],
      "metadata": {
        "id": "J9CeHzkNZd5c"
      }
    },
    {
      "cell_type": "markdown",
      "source": [
        "#### Visualizing the performance of both the models using confusion matrix"
      ],
      "metadata": {
        "id": "TALkjIvjdJ2b"
      }
    },
    {
      "cell_type": "markdown",
      "source": [
        "###### MODEL1"
      ],
      "metadata": {
        "id": "oa6E5Y_tdc0R"
      }
    },
    {
      "cell_type": "code",
      "source": [
        "from sklearn.metrics import classification_report, confusion_matrix\n",
        "Y_pred1 = model1.predict(x_test_full, len(y_test_full))"
      ],
      "metadata": {
        "id": "EKmS3VfnbnFR"
      },
      "execution_count": null,
      "outputs": []
    },
    {
      "cell_type": "code",
      "source": [
        "y_pred1 = np.argmax(Y_pred1, axis=1)"
      ],
      "metadata": {
        "id": "LD_psDVEdgkK"
      },
      "execution_count": null,
      "outputs": []
    },
    {
      "cell_type": "code",
      "source": [
        "print('Confusion Matrix')\n",
        "cm = confusion_matrix(y_test_full, y_pred1)\n",
        "print(cm)"
      ],
      "metadata": {
        "colab": {
          "base_uri": "https://localhost:8080/"
        },
        "id": "lfyCWQOCdmSh",
        "outputId": "48ec250e-6390-4d8d-e601-ec938d1b2641"
      },
      "execution_count": null,
      "outputs": [
        {
          "output_type": "stream",
          "name": "stdout",
          "text": [
            "Confusion Matrix\n",
            "[[869   1   9  12   3   1 102   0   3   0]\n",
            " [  5 978   1  11   3   0   2   0   0   0]\n",
            " [ 21   1 766  11  93   0 108   0   0   0]\n",
            " [ 22  11  11 877  42   0  35   0   2   0]\n",
            " [  2   0  76  23 822   0  76   0   1   0]\n",
            " [  0   0   0   0   0 977   0  14   1   8]\n",
            " [116   1  62  17  53   0 745   0   6   0]\n",
            " [  0   0   0   0   0  11   0 974   0  15]\n",
            " [ 11   0   1   3   1   2   3   4 975   0]\n",
            " [  0   0   0   1   0   7   1  40   0 951]]\n"
          ]
        }
      ]
    },
    {
      "cell_type": "markdown",
      "source": [
        "###### MODEL2"
      ],
      "metadata": {
        "id": "9BxbKCMUdwf8"
      }
    },
    {
      "cell_type": "code",
      "source": [
        "Y_pred2 = model2.predict(x_test_full, len(y_test_full))"
      ],
      "metadata": {
        "id": "rfMG0EuqdqAR"
      },
      "execution_count": null,
      "outputs": []
    },
    {
      "cell_type": "code",
      "source": [
        "y_pred2 = np.argmax(Y_pred2, axis=1)"
      ],
      "metadata": {
        "id": "yZ_m0KcOd5hB"
      },
      "execution_count": null,
      "outputs": []
    },
    {
      "cell_type": "code",
      "source": [
        "print('Confusion Matrix')\n",
        "cm = confusion_matrix(y_test_full, y_pred1)\n",
        "print(cm)"
      ],
      "metadata": {
        "colab": {
          "base_uri": "https://localhost:8080/"
        },
        "id": "Brv_lPoId9vB",
        "outputId": "c37d1f4a-b023-4561-d4d9-fe0e44d284a7"
      },
      "execution_count": null,
      "outputs": [
        {
          "output_type": "stream",
          "name": "stdout",
          "text": [
            "Confusion Matrix\n",
            "[[869   1   9  12   3   1 102   0   3   0]\n",
            " [  5 978   1  11   3   0   2   0   0   0]\n",
            " [ 21   1 766  11  93   0 108   0   0   0]\n",
            " [ 22  11  11 877  42   0  35   0   2   0]\n",
            " [  2   0  76  23 822   0  76   0   1   0]\n",
            " [  0   0   0   0   0 977   0  14   1   8]\n",
            " [116   1  62  17  53   0 745   0   6   0]\n",
            " [  0   0   0   0   0  11   0 974   0  15]\n",
            " [ 11   0   1   3   1   2   3   4 975   0]\n",
            " [  0   0   0   1   0   7   1  40   0 951]]\n"
          ]
        }
      ]
    },
    {
      "cell_type": "code",
      "source": [],
      "metadata": {
        "id": "yhlMRQTQeAPx"
      },
      "execution_count": null,
      "outputs": []
    }
  ]
}