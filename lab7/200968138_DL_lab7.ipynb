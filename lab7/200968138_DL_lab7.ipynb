{
  "nbformat": 4,
  "nbformat_minor": 0,
  "metadata": {
    "colab": {
      "provenance": [],
      "collapsed_sections": [
        "Nj31pNR6PfJM",
        "-CB-OiXxozil"
      ]
    },
    "kernelspec": {
      "name": "python3",
      "display_name": "Python 3"
    },
    "language_info": {
      "name": "python"
    },
    "accelerator": "GPU"
  },
  "cells": [
    {
      "cell_type": "markdown",
      "source": [
        "#### importing libraries"
      ],
      "metadata": {
        "id": "c00vIr2wsZXo"
      }
    },
    {
      "cell_type": "code",
      "execution_count": 1,
      "metadata": {
        "colab": {
          "base_uri": "https://localhost:8080/"
        },
        "id": "JClWsQ28hec5",
        "outputId": "eddaafc4-2a56-4412-ef49-16bcd237a655"
      },
      "outputs": [
        {
          "output_type": "stream",
          "name": "stdout",
          "text": [
            "Tensorflow version: 2.8.2\n",
            "Keras version: 2.8.0\n"
          ]
        }
      ],
      "source": [
        "#importing basic libraries\n",
        "import pandas as pd\n",
        "import numpy as np\n",
        "import matplotlib.pyplot as plt\n",
        "import seaborn as sns\n",
        "import tensorflow as tf\n",
        "from tensorflow import keras\n",
        "from tensorflow.keras import layers\n",
        "from tensorflow.keras.utils import plot_model\n",
        "print(f\"Tensorflow version: {tf.__version__}\")\n",
        "print(f\"Keras version: {tf.keras.__version__}\")\n",
        "\n",
        "import os\n",
        "import zipfile\n",
        "import shutil\n",
        "import re\n",
        "\n",
        "from keras.models import Sequential\n",
        "from keras.layers import Dense, SimpleRNN, Dropout, LSTM\n",
        "from tensorflow.keras.utils import plot_model\n",
        "from tensorflow.keras.layers import Bidirectional"
      ]
    },
    {
      "cell_type": "markdown",
      "source": [
        "#### Downloading the dataset"
      ],
      "metadata": {
        "id": "kyj8lblVsfJz"
      }
    },
    {
      "cell_type": "code",
      "source": [
        "from google.colab import files\n",
        "files.upload()\n",
        "! mkdir ~/.kaggle\n",
        "! cp kaggle.json ~/.kaggle/\n",
        "! chmod 600 ~/.kaggle/kaggle.json\n",
        "!kaggle datasets download -d columbine/imdb-dataset-sentiment-analysis-in-csv-format"
      ],
      "metadata": {
        "colab": {
          "base_uri": "https://localhost:8080/",
          "height": 128
        },
        "id": "VBdhL9z3hyW3",
        "outputId": "49ae64ec-dbc2-4090-c931-04a8f8f039a5"
      },
      "execution_count": 2,
      "outputs": [
        {
          "output_type": "display_data",
          "data": {
            "text/plain": [
              "<IPython.core.display.HTML object>"
            ],
            "text/html": [
              "\n",
              "     <input type=\"file\" id=\"files-17e3aca8-e5a9-40ee-8322-5b06bbe6f373\" name=\"files[]\" multiple disabled\n",
              "        style=\"border:none\" />\n",
              "     <output id=\"result-17e3aca8-e5a9-40ee-8322-5b06bbe6f373\">\n",
              "      Upload widget is only available when the cell has been executed in the\n",
              "      current browser session. Please rerun this cell to enable.\n",
              "      </output>\n",
              "      <script>// Copyright 2017 Google LLC\n",
              "//\n",
              "// Licensed under the Apache License, Version 2.0 (the \"License\");\n",
              "// you may not use this file except in compliance with the License.\n",
              "// You may obtain a copy of the License at\n",
              "//\n",
              "//      http://www.apache.org/licenses/LICENSE-2.0\n",
              "//\n",
              "// Unless required by applicable law or agreed to in writing, software\n",
              "// distributed under the License is distributed on an \"AS IS\" BASIS,\n",
              "// WITHOUT WARRANTIES OR CONDITIONS OF ANY KIND, either express or implied.\n",
              "// See the License for the specific language governing permissions and\n",
              "// limitations under the License.\n",
              "\n",
              "/**\n",
              " * @fileoverview Helpers for google.colab Python module.\n",
              " */\n",
              "(function(scope) {\n",
              "function span(text, styleAttributes = {}) {\n",
              "  const element = document.createElement('span');\n",
              "  element.textContent = text;\n",
              "  for (const key of Object.keys(styleAttributes)) {\n",
              "    element.style[key] = styleAttributes[key];\n",
              "  }\n",
              "  return element;\n",
              "}\n",
              "\n",
              "// Max number of bytes which will be uploaded at a time.\n",
              "const MAX_PAYLOAD_SIZE = 100 * 1024;\n",
              "\n",
              "function _uploadFiles(inputId, outputId) {\n",
              "  const steps = uploadFilesStep(inputId, outputId);\n",
              "  const outputElement = document.getElementById(outputId);\n",
              "  // Cache steps on the outputElement to make it available for the next call\n",
              "  // to uploadFilesContinue from Python.\n",
              "  outputElement.steps = steps;\n",
              "\n",
              "  return _uploadFilesContinue(outputId);\n",
              "}\n",
              "\n",
              "// This is roughly an async generator (not supported in the browser yet),\n",
              "// where there are multiple asynchronous steps and the Python side is going\n",
              "// to poll for completion of each step.\n",
              "// This uses a Promise to block the python side on completion of each step,\n",
              "// then passes the result of the previous step as the input to the next step.\n",
              "function _uploadFilesContinue(outputId) {\n",
              "  const outputElement = document.getElementById(outputId);\n",
              "  const steps = outputElement.steps;\n",
              "\n",
              "  const next = steps.next(outputElement.lastPromiseValue);\n",
              "  return Promise.resolve(next.value.promise).then((value) => {\n",
              "    // Cache the last promise value to make it available to the next\n",
              "    // step of the generator.\n",
              "    outputElement.lastPromiseValue = value;\n",
              "    return next.value.response;\n",
              "  });\n",
              "}\n",
              "\n",
              "/**\n",
              " * Generator function which is called between each async step of the upload\n",
              " * process.\n",
              " * @param {string} inputId Element ID of the input file picker element.\n",
              " * @param {string} outputId Element ID of the output display.\n",
              " * @return {!Iterable<!Object>} Iterable of next steps.\n",
              " */\n",
              "function* uploadFilesStep(inputId, outputId) {\n",
              "  const inputElement = document.getElementById(inputId);\n",
              "  inputElement.disabled = false;\n",
              "\n",
              "  const outputElement = document.getElementById(outputId);\n",
              "  outputElement.innerHTML = '';\n",
              "\n",
              "  const pickedPromise = new Promise((resolve) => {\n",
              "    inputElement.addEventListener('change', (e) => {\n",
              "      resolve(e.target.files);\n",
              "    });\n",
              "  });\n",
              "\n",
              "  const cancel = document.createElement('button');\n",
              "  inputElement.parentElement.appendChild(cancel);\n",
              "  cancel.textContent = 'Cancel upload';\n",
              "  const cancelPromise = new Promise((resolve) => {\n",
              "    cancel.onclick = () => {\n",
              "      resolve(null);\n",
              "    };\n",
              "  });\n",
              "\n",
              "  // Wait for the user to pick the files.\n",
              "  const files = yield {\n",
              "    promise: Promise.race([pickedPromise, cancelPromise]),\n",
              "    response: {\n",
              "      action: 'starting',\n",
              "    }\n",
              "  };\n",
              "\n",
              "  cancel.remove();\n",
              "\n",
              "  // Disable the input element since further picks are not allowed.\n",
              "  inputElement.disabled = true;\n",
              "\n",
              "  if (!files) {\n",
              "    return {\n",
              "      response: {\n",
              "        action: 'complete',\n",
              "      }\n",
              "    };\n",
              "  }\n",
              "\n",
              "  for (const file of files) {\n",
              "    const li = document.createElement('li');\n",
              "    li.append(span(file.name, {fontWeight: 'bold'}));\n",
              "    li.append(span(\n",
              "        `(${file.type || 'n/a'}) - ${file.size} bytes, ` +\n",
              "        `last modified: ${\n",
              "            file.lastModifiedDate ? file.lastModifiedDate.toLocaleDateString() :\n",
              "                                    'n/a'} - `));\n",
              "    const percent = span('0% done');\n",
              "    li.appendChild(percent);\n",
              "\n",
              "    outputElement.appendChild(li);\n",
              "\n",
              "    const fileDataPromise = new Promise((resolve) => {\n",
              "      const reader = new FileReader();\n",
              "      reader.onload = (e) => {\n",
              "        resolve(e.target.result);\n",
              "      };\n",
              "      reader.readAsArrayBuffer(file);\n",
              "    });\n",
              "    // Wait for the data to be ready.\n",
              "    let fileData = yield {\n",
              "      promise: fileDataPromise,\n",
              "      response: {\n",
              "        action: 'continue',\n",
              "      }\n",
              "    };\n",
              "\n",
              "    // Use a chunked sending to avoid message size limits. See b/62115660.\n",
              "    let position = 0;\n",
              "    do {\n",
              "      const length = Math.min(fileData.byteLength - position, MAX_PAYLOAD_SIZE);\n",
              "      const chunk = new Uint8Array(fileData, position, length);\n",
              "      position += length;\n",
              "\n",
              "      const base64 = btoa(String.fromCharCode.apply(null, chunk));\n",
              "      yield {\n",
              "        response: {\n",
              "          action: 'append',\n",
              "          file: file.name,\n",
              "          data: base64,\n",
              "        },\n",
              "      };\n",
              "\n",
              "      let percentDone = fileData.byteLength === 0 ?\n",
              "          100 :\n",
              "          Math.round((position / fileData.byteLength) * 100);\n",
              "      percent.textContent = `${percentDone}% done`;\n",
              "\n",
              "    } while (position < fileData.byteLength);\n",
              "  }\n",
              "\n",
              "  // All done.\n",
              "  yield {\n",
              "    response: {\n",
              "      action: 'complete',\n",
              "    }\n",
              "  };\n",
              "}\n",
              "\n",
              "scope.google = scope.google || {};\n",
              "scope.google.colab = scope.google.colab || {};\n",
              "scope.google.colab._files = {\n",
              "  _uploadFiles,\n",
              "  _uploadFilesContinue,\n",
              "};\n",
              "})(self);\n",
              "</script> "
            ]
          },
          "metadata": {}
        },
        {
          "output_type": "stream",
          "name": "stdout",
          "text": [
            "Saving kaggle.json to kaggle.json\n",
            "mkdir: cannot create directory ‘/root/.kaggle’: File exists\n",
            "imdb-dataset-sentiment-analysis-in-csv-format.zip: Skipping, found more recently modified local copy (use --force to force download)\n"
          ]
        }
      ]
    },
    {
      "cell_type": "code",
      "source": [
        "local_zip = '/content/imdb-dataset-sentiment-analysis-in-csv-format.zip'\n",
        "zip_ref = zipfile.ZipFile(local_zip, 'r')\n",
        "zip_ref.extractall('/tmp')\n",
        "zip_ref.close()"
      ],
      "metadata": {
        "id": "mZVe8xRkh7eE"
      },
      "execution_count": 3,
      "outputs": []
    },
    {
      "cell_type": "code",
      "source": [
        "train_df = pd.read_csv(\"/tmp/Train.csv\")\n",
        "test_df = pd.read_csv(\"/tmp/Test.csv\")\n",
        "validation_df = pd.read_csv(\"/tmp/Valid.csv\")"
      ],
      "metadata": {
        "id": "5xfXmxWXiCMU"
      },
      "execution_count": 4,
      "outputs": []
    },
    {
      "cell_type": "code",
      "source": [
        "test_df.head()"
      ],
      "metadata": {
        "colab": {
          "base_uri": "https://localhost:8080/",
          "height": 206
        },
        "id": "efsxIYgkiEh8",
        "outputId": "301b503c-ddab-406d-f2c4-5e0ce4ace164"
      },
      "execution_count": 5,
      "outputs": [
        {
          "output_type": "execute_result",
          "data": {
            "text/plain": [
              "                                                text  label\n",
              "0  I always wrote this series off as being a comp...      0\n",
              "1  1st watched 12/7/2002 - 3 out of 10(Dir-Steve ...      0\n",
              "2  This movie was so poorly written and directed ...      0\n",
              "3  The most interesting thing about Miryang (Secr...      1\n",
              "4  when i first read about \"berlin am meer\" i did...      0"
            ],
            "text/html": [
              "\n",
              "  <div id=\"df-b4bc1580-c658-4f48-a849-3bfec6d15e65\">\n",
              "    <div class=\"colab-df-container\">\n",
              "      <div>\n",
              "<style scoped>\n",
              "    .dataframe tbody tr th:only-of-type {\n",
              "        vertical-align: middle;\n",
              "    }\n",
              "\n",
              "    .dataframe tbody tr th {\n",
              "        vertical-align: top;\n",
              "    }\n",
              "\n",
              "    .dataframe thead th {\n",
              "        text-align: right;\n",
              "    }\n",
              "</style>\n",
              "<table border=\"1\" class=\"dataframe\">\n",
              "  <thead>\n",
              "    <tr style=\"text-align: right;\">\n",
              "      <th></th>\n",
              "      <th>text</th>\n",
              "      <th>label</th>\n",
              "    </tr>\n",
              "  </thead>\n",
              "  <tbody>\n",
              "    <tr>\n",
              "      <th>0</th>\n",
              "      <td>I always wrote this series off as being a comp...</td>\n",
              "      <td>0</td>\n",
              "    </tr>\n",
              "    <tr>\n",
              "      <th>1</th>\n",
              "      <td>1st watched 12/7/2002 - 3 out of 10(Dir-Steve ...</td>\n",
              "      <td>0</td>\n",
              "    </tr>\n",
              "    <tr>\n",
              "      <th>2</th>\n",
              "      <td>This movie was so poorly written and directed ...</td>\n",
              "      <td>0</td>\n",
              "    </tr>\n",
              "    <tr>\n",
              "      <th>3</th>\n",
              "      <td>The most interesting thing about Miryang (Secr...</td>\n",
              "      <td>1</td>\n",
              "    </tr>\n",
              "    <tr>\n",
              "      <th>4</th>\n",
              "      <td>when i first read about \"berlin am meer\" i did...</td>\n",
              "      <td>0</td>\n",
              "    </tr>\n",
              "  </tbody>\n",
              "</table>\n",
              "</div>\n",
              "      <button class=\"colab-df-convert\" onclick=\"convertToInteractive('df-b4bc1580-c658-4f48-a849-3bfec6d15e65')\"\n",
              "              title=\"Convert this dataframe to an interactive table.\"\n",
              "              style=\"display:none;\">\n",
              "        \n",
              "  <svg xmlns=\"http://www.w3.org/2000/svg\" height=\"24px\"viewBox=\"0 0 24 24\"\n",
              "       width=\"24px\">\n",
              "    <path d=\"M0 0h24v24H0V0z\" fill=\"none\"/>\n",
              "    <path d=\"M18.56 5.44l.94 2.06.94-2.06 2.06-.94-2.06-.94-.94-2.06-.94 2.06-2.06.94zm-11 1L8.5 8.5l.94-2.06 2.06-.94-2.06-.94L8.5 2.5l-.94 2.06-2.06.94zm10 10l.94 2.06.94-2.06 2.06-.94-2.06-.94-.94-2.06-.94 2.06-2.06.94z\"/><path d=\"M17.41 7.96l-1.37-1.37c-.4-.4-.92-.59-1.43-.59-.52 0-1.04.2-1.43.59L10.3 9.45l-7.72 7.72c-.78.78-.78 2.05 0 2.83L4 21.41c.39.39.9.59 1.41.59.51 0 1.02-.2 1.41-.59l7.78-7.78 2.81-2.81c.8-.78.8-2.07 0-2.86zM5.41 20L4 18.59l7.72-7.72 1.47 1.35L5.41 20z\"/>\n",
              "  </svg>\n",
              "      </button>\n",
              "      \n",
              "  <style>\n",
              "    .colab-df-container {\n",
              "      display:flex;\n",
              "      flex-wrap:wrap;\n",
              "      gap: 12px;\n",
              "    }\n",
              "\n",
              "    .colab-df-convert {\n",
              "      background-color: #E8F0FE;\n",
              "      border: none;\n",
              "      border-radius: 50%;\n",
              "      cursor: pointer;\n",
              "      display: none;\n",
              "      fill: #1967D2;\n",
              "      height: 32px;\n",
              "      padding: 0 0 0 0;\n",
              "      width: 32px;\n",
              "    }\n",
              "\n",
              "    .colab-df-convert:hover {\n",
              "      background-color: #E2EBFA;\n",
              "      box-shadow: 0px 1px 2px rgba(60, 64, 67, 0.3), 0px 1px 3px 1px rgba(60, 64, 67, 0.15);\n",
              "      fill: #174EA6;\n",
              "    }\n",
              "\n",
              "    [theme=dark] .colab-df-convert {\n",
              "      background-color: #3B4455;\n",
              "      fill: #D2E3FC;\n",
              "    }\n",
              "\n",
              "    [theme=dark] .colab-df-convert:hover {\n",
              "      background-color: #434B5C;\n",
              "      box-shadow: 0px 1px 3px 1px rgba(0, 0, 0, 0.15);\n",
              "      filter: drop-shadow(0px 1px 2px rgba(0, 0, 0, 0.3));\n",
              "      fill: #FFFFFF;\n",
              "    }\n",
              "  </style>\n",
              "\n",
              "      <script>\n",
              "        const buttonEl =\n",
              "          document.querySelector('#df-b4bc1580-c658-4f48-a849-3bfec6d15e65 button.colab-df-convert');\n",
              "        buttonEl.style.display =\n",
              "          google.colab.kernel.accessAllowed ? 'block' : 'none';\n",
              "\n",
              "        async function convertToInteractive(key) {\n",
              "          const element = document.querySelector('#df-b4bc1580-c658-4f48-a849-3bfec6d15e65');\n",
              "          const dataTable =\n",
              "            await google.colab.kernel.invokeFunction('convertToInteractive',\n",
              "                                                     [key], {});\n",
              "          if (!dataTable) return;\n",
              "\n",
              "          const docLinkHtml = 'Like what you see? Visit the ' +\n",
              "            '<a target=\"_blank\" href=https://colab.research.google.com/notebooks/data_table.ipynb>data table notebook</a>'\n",
              "            + ' to learn more about interactive tables.';\n",
              "          element.innerHTML = '';\n",
              "          dataTable['output_type'] = 'display_data';\n",
              "          await google.colab.output.renderOutput(dataTable, element);\n",
              "          const docLink = document.createElement('div');\n",
              "          docLink.innerHTML = docLinkHtml;\n",
              "          element.appendChild(docLink);\n",
              "        }\n",
              "      </script>\n",
              "    </div>\n",
              "  </div>\n",
              "  "
            ]
          },
          "metadata": {},
          "execution_count": 5
        }
      ]
    },
    {
      "cell_type": "code",
      "source": [
        "#this is to see the dsitribution of the positive and negative sentiment\n",
        "print(train_df['label'].value_counts())"
      ],
      "metadata": {
        "colab": {
          "base_uri": "https://localhost:8080/"
        },
        "id": "r7tP3lc_iGKb",
        "outputId": "c6d045a9-ac93-4b2b-9f2e-dfc63edc96e9"
      },
      "execution_count": 6,
      "outputs": [
        {
          "output_type": "stream",
          "name": "stdout",
          "text": [
            "0    20019\n",
            "1    19981\n",
            "Name: label, dtype: int64\n"
          ]
        }
      ]
    },
    {
      "cell_type": "code",
      "source": [
        "train_df[\"text\"][0]"
      ],
      "metadata": {
        "colab": {
          "base_uri": "https://localhost:8080/",
          "height": 209
        },
        "id": "jp__LAsuiRk7",
        "outputId": "ee8068a0-bc2a-492c-da34-05c298b2238d"
      },
      "execution_count": 7,
      "outputs": [
        {
          "output_type": "execute_result",
          "data": {
            "text/plain": [
              "'I grew up (b. 1965) watching and loving the Thunderbirds. All my mates at school watched. We played \"Thunderbirds\" before school, during lunch and after school. We all wanted to be Virgil or Scott. No one wanted to be Alan. Counting down from 5 became an art form. I took my children to see the movie hoping they would get a glimpse of what I loved as a child. How bitterly disappointing. The only high point was the snappy theme tune. Not that it could compare with the original score of the Thunderbirds. Thankfully early Saturday mornings one television channel still plays reruns of the series Gerry Anderson and his wife created. Jonatha Frakes should hand in his directors chair, his version was completely hopeless. A waste of film. Utter rubbish. A CGI remake may be acceptable but replacing marionettes with Homo sapiens subsp. sapiens was a huge error of judgment.'"
            ],
            "application/vnd.google.colaboratory.intrinsic+json": {
              "type": "string"
            }
          },
          "metadata": {},
          "execution_count": 7
        }
      ]
    },
    {
      "cell_type": "markdown",
      "source": [
        "#### Preprocessing"
      ],
      "metadata": {
        "id": "jzQicpMPinsH"
      }
    },
    {
      "cell_type": "code",
      "source": [
        "#converting to lower case\n",
        "def convert_lowercase(column):\n",
        "    column = column.str.lower()\n",
        "    return column"
      ],
      "metadata": {
        "id": "41TgsIF0iVv7"
      },
      "execution_count": 8,
      "outputs": []
    },
    {
      "cell_type": "code",
      "source": [
        "train_df['text']=convert_lowercase(train_df['text'])"
      ],
      "metadata": {
        "id": "oVJpW1CHitCL"
      },
      "execution_count": 9,
      "outputs": []
    },
    {
      "cell_type": "code",
      "source": [
        "#removing  urls\n",
        "def remove_url(text):\n",
        "    re_url = re.compile('https?://\\S+|www\\.\\S+')\n",
        "    return re_url.sub('', text)"
      ],
      "metadata": {
        "id": "2pUw3UsEivAr"
      },
      "execution_count": 10,
      "outputs": []
    },
    {
      "cell_type": "code",
      "source": [
        "train_df['text']=train_df['text'].apply(remove_url)"
      ],
      "metadata": {
        "id": "5noPxaJhixe8"
      },
      "execution_count": 11,
      "outputs": []
    },
    {
      "cell_type": "code",
      "source": [
        "#removing html tags if present\n",
        "def clean_html(text):\n",
        "    clean=re.compile('<.*?>')\n",
        "    return re.sub(clean, '', text)"
      ],
      "metadata": {
        "id": "0OJDA8MAizvr"
      },
      "execution_count": 12,
      "outputs": []
    },
    {
      "cell_type": "code",
      "source": [
        "train_df['text']=train_df['text'].apply(clean_html)"
      ],
      "metadata": {
        "id": "-6fDgiX8j91M"
      },
      "execution_count": 13,
      "outputs": []
    },
    {
      "cell_type": "code",
      "source": [
        "#removing special characters\n",
        "import string\n",
        "exclude = string.punctuation\n",
        "\n",
        "def remove_punc(text):\n",
        "    return text.translate(str.maketrans('', '', exclude))"
      ],
      "metadata": {
        "id": "Wkqj6823kCyE"
      },
      "execution_count": 14,
      "outputs": []
    },
    {
      "cell_type": "code",
      "source": [
        "train_df['text']=train_df['text'].apply(remove_punc)"
      ],
      "metadata": {
        "id": "0gOkf2sHkFJE"
      },
      "execution_count": 15,
      "outputs": []
    },
    {
      "cell_type": "code",
      "source": [
        "#removing stop words\n",
        "import nltk\n",
        "nltk.download('stopwords')\n",
        "from nltk.corpus import stopwords\n",
        "stopwords_english = stopwords.words('english')\n",
        "\n",
        "def remove_stopwords(text):\n",
        "    new_text = []\n",
        "    for word in text.split():\n",
        "        if word in stopwords_english:\n",
        "            continue\n",
        "        else:\n",
        "            new_text.append(word)\n",
        "\n",
        "    return ' '.join(new_text)"
      ],
      "metadata": {
        "colab": {
          "base_uri": "https://localhost:8080/"
        },
        "id": "0cKdKH_nkHt9",
        "outputId": "118f6d58-b4df-47c7-996e-b9c9a6c82056"
      },
      "execution_count": 16,
      "outputs": [
        {
          "output_type": "stream",
          "name": "stderr",
          "text": [
            "[nltk_data] Downloading package stopwords to /root/nltk_data...\n",
            "[nltk_data]   Package stopwords is already up-to-date!\n"
          ]
        }
      ]
    },
    {
      "cell_type": "code",
      "source": [
        "train_df['text']=train_df['text'].apply(remove_stopwords)"
      ],
      "metadata": {
        "id": "vFzuNzr-kMiE"
      },
      "execution_count": 17,
      "outputs": []
    },
    {
      "cell_type": "markdown",
      "source": [
        "The following code can be implemented using textblob for spelling correction but is not done as it takes more than 2 days for computation using textblob\n",
        "\n",
        "from textblob import TextBlob\n",
        "def remove_spelling_error(text):\n",
        "  textblob_ = TextBlob(text)\n",
        "  return textblob_.correct().string\n",
        "\n",
        "textblob_ = TextBlob(text)\n",
        "train_df['text']=train_df['text'].apply(remove_spelling_error)"
      ],
      "metadata": {
        "id": "Cdi0ZFOPkVIk"
      }
    },
    {
      "cell_type": "code",
      "source": [
        "pip install pyspellchecker"
      ],
      "metadata": {
        "colab": {
          "base_uri": "https://localhost:8080/"
        },
        "id": "cWx6eZXsk-Lz",
        "outputId": "2774bcb7-26e5-44e6-aa3c-8590ac9d74e8"
      },
      "execution_count": 18,
      "outputs": [
        {
          "output_type": "stream",
          "name": "stdout",
          "text": [
            "Looking in indexes: https://pypi.org/simple, https://us-python.pkg.dev/colab-wheels/public/simple/\n",
            "Requirement already satisfied: pyspellchecker in /usr/local/lib/python3.7/dist-packages (0.7.0)\n"
          ]
        }
      ]
    },
    {
      "cell_type": "code",
      "source": [
        "from spellchecker import SpellChecker\n",
        "spell = SpellChecker()\n",
        "\n",
        "def remove_spelling_error(text):\n",
        "  return spell.correction(text)\n",
        "\n",
        "train_df['text']=train_df['text'].apply(remove_spelling_error)"
      ],
      "metadata": {
        "id": "B1vwEUS0lCXM"
      },
      "execution_count": 19,
      "outputs": []
    },
    {
      "cell_type": "markdown",
      "source": [
        "##### Test data"
      ],
      "metadata": {
        "id": "2zTa7aVwCBtP"
      }
    },
    {
      "cell_type": "code",
      "source": [
        "test_df['text']=convert_lowercase(test_df['text'])"
      ],
      "metadata": {
        "id": "XqpVSBpgCHQ-"
      },
      "execution_count": 46,
      "outputs": []
    },
    {
      "cell_type": "code",
      "source": [
        "test_df['text']=test_df['text'].apply(remove_url)"
      ],
      "metadata": {
        "id": "LYXEPDWeCHaD"
      },
      "execution_count": 47,
      "outputs": []
    },
    {
      "cell_type": "code",
      "source": [
        "test_df['text']=test_df['text'].apply(clean_html)"
      ],
      "metadata": {
        "id": "Di454ZFxCHhs"
      },
      "execution_count": 48,
      "outputs": []
    },
    {
      "cell_type": "code",
      "source": [
        "test_df['text']=test_df['text'].apply(remove_punc)"
      ],
      "metadata": {
        "id": "tOzU9pZdCHsx"
      },
      "execution_count": 49,
      "outputs": []
    },
    {
      "cell_type": "code",
      "source": [
        "test_df['text']=test_df['text'].apply(remove_stopwords)"
      ],
      "metadata": {
        "id": "quzsnbYI2kkj"
      },
      "execution_count": 50,
      "outputs": []
    },
    {
      "cell_type": "markdown",
      "source": [
        "#### tokenization and lemmatizing"
      ],
      "metadata": {
        "id": "Nj31pNR6PfJM"
      }
    },
    {
      "cell_type": "code",
      "source": [
        "import nltk\n",
        "from nltk.stem import WordNetLemmatizer\n",
        "lemmatizer = WordNetLemmatizer()\n",
        "\n",
        "nltk.download('wordnet')\n",
        "nltk.download('punkt')\n",
        "nltk.download('omw-1.4')"
      ],
      "metadata": {
        "id": "hmyvp3F1lEmk",
        "colab": {
          "base_uri": "https://localhost:8080/"
        },
        "outputId": "60faca3a-c054-442b-a892-038ff7adfbde"
      },
      "execution_count": 20,
      "outputs": [
        {
          "output_type": "stream",
          "name": "stderr",
          "text": [
            "[nltk_data] Downloading package wordnet to /root/nltk_data...\n",
            "[nltk_data]   Package wordnet is already up-to-date!\n",
            "[nltk_data] Downloading package punkt to /root/nltk_data...\n",
            "[nltk_data]   Package punkt is already up-to-date!\n",
            "[nltk_data] Downloading package omw-1.4 to /root/nltk_data...\n",
            "[nltk_data]   Package omw-1.4 is already up-to-date!\n"
          ]
        },
        {
          "output_type": "execute_result",
          "data": {
            "text/plain": [
              "True"
            ]
          },
          "metadata": {},
          "execution_count": 20
        }
      ]
    },
    {
      "cell_type": "code",
      "source": [
        "train_df['text']=train_df['text'].apply(str)"
      ],
      "metadata": {
        "id": "09oFmrq4m5nG"
      },
      "execution_count": 21,
      "outputs": []
    },
    {
      "cell_type": "code",
      "source": [
        "def tokenize_and_lemmatize(text):\n",
        "  punctuations=\"?:!.,;\"\n",
        "  sentence_words = nltk.word_tokenize(text)\n",
        "  for word in sentence_words:\n",
        "      if word in punctuations:\n",
        "          sentence_words.remove(word)\n",
        "  lemmatized_output = ' '.join([lemmatizer.lemmatize(w) for w in sentence_words])\n",
        "  return lemmatized_output"
      ],
      "metadata": {
        "id": "ns6kTMasP8Jq"
      },
      "execution_count": 22,
      "outputs": []
    },
    {
      "cell_type": "code",
      "source": [
        "train_df['text']=train_df['text'].apply(tokenize_and_lemmatize)"
      ],
      "metadata": {
        "id": "7KJMxMc0TAm7"
      },
      "execution_count": 23,
      "outputs": []
    },
    {
      "cell_type": "code",
      "source": [
        "train_df['text'][0]"
      ],
      "metadata": {
        "colab": {
          "base_uri": "https://localhost:8080/",
          "height": 0
        },
        "id": "myWMdOsgcSni",
        "outputId": "3ed16a71-e4d9-421d-92fc-f7014be78632"
      },
      "execution_count": 24,
      "outputs": [
        {
          "output_type": "execute_result",
          "data": {
            "text/plain": [
              "'grew b 1965 watching loving thunderbird mate school watched played thunderbird school lunch school wanted virgil scott one wanted alan counting 5 became art form took child see movie hoping would get glimpse loved child bitterly disappointing high point snappy theme tune could compare original score thunderbird thankfully early saturday morning one television channel still play rerun series gerry anderson wife created jonatha frakes hand director chair version completely hopeless waste film utter rubbish cgi remake may acceptable replacing marionette homo sapiens subsp sapiens huge error judgment'"
            ],
            "application/vnd.google.colaboratory.intrinsic+json": {
              "type": "string"
            }
          },
          "metadata": {},
          "execution_count": 24
        }
      ]
    },
    {
      "cell_type": "markdown",
      "source": [
        "#### most common distribution of words"
      ],
      "metadata": {
        "id": "-CB-OiXxozil"
      }
    },
    {
      "cell_type": "code",
      "source": [
        "import cufflinks as cf\n",
        "cf.go_offline()\n",
        "cf.set_config_file(offline=False, world_readable=True)"
      ],
      "metadata": {
        "colab": {
          "base_uri": "https://localhost:8080/",
          "height": 0
        },
        "id": "llsu_LT-q59o",
        "outputId": "6739f2a8-6e25-4f0b-8b98-df84de8c68db"
      },
      "execution_count": 25,
      "outputs": [
        {
          "output_type": "display_data",
          "data": {
            "text/html": [
              "        <script type=\"text/javascript\">\n",
              "        window.PlotlyConfig = {MathJaxConfig: 'local'};\n",
              "        if (window.MathJax) {MathJax.Hub.Config({SVG: {font: \"STIX-Web\"}});}\n",
              "        if (typeof require !== 'undefined') {\n",
              "        require.undef(\"plotly\");\n",
              "        requirejs.config({\n",
              "            paths: {\n",
              "                'plotly': ['https://cdn.plot.ly/plotly-2.8.3.min']\n",
              "            }\n",
              "        });\n",
              "        require(['plotly'], function(Plotly) {\n",
              "            window._Plotly = Plotly;\n",
              "        });\n",
              "        }\n",
              "        </script>\n",
              "        "
            ]
          },
          "metadata": {}
        }
      ]
    },
    {
      "cell_type": "code",
      "source": [
        "from nltk import FreqDist\n",
        "words_list = []\n",
        "for i in range(0,len(train_df[\"text\"])):\n",
        "  for w in train_df[\"text\"][i]:\n",
        "    words_list.append(w)"
      ],
      "metadata": {
        "id": "HIYR6ltHo4d7"
      },
      "execution_count": 26,
      "outputs": []
    },
    {
      "cell_type": "code",
      "source": [
        "from sklearn.feature_extraction.text import CountVectorizer"
      ],
      "metadata": {
        "id": "OD06KEr-qDFm"
      },
      "execution_count": 27,
      "outputs": []
    },
    {
      "cell_type": "code",
      "source": [
        "def get_top_n_words(x, n=None):\n",
        "    vec = CountVectorizer(stop_words='english').fit(x)\n",
        "    bag_of_words = vec.transform(x)\n",
        "    sum_words = bag_of_words.sum(axis=0) \n",
        "    words_freq = [(word, sum_words[0, idx]) for word, idx in vec.vocabulary_.items()]\n",
        "    words_freq =sorted(words_freq, key = lambda x: x[1], reverse=True)\n",
        "    return words_freq[:n]"
      ],
      "metadata": {
        "id": "3TgMSgOEqM-f"
      },
      "execution_count": 28,
      "outputs": []
    },
    {
      "cell_type": "code",
      "source": [
        "common_words = get_top_n_words(train_df[\"text\"], 20)\n",
        "common_words"
      ],
      "metadata": {
        "colab": {
          "base_uri": "https://localhost:8080/"
        },
        "id": "WGwDSUfNqNC6",
        "outputId": "cf2804b3-3c4e-4001-e024-7162ddf4470b"
      },
      "execution_count": 29,
      "outputs": [
        {
          "output_type": "execute_result",
          "data": {
            "text/plain": [
              "[('movie', 79352),\n",
              " ('film', 71714),\n",
              " ('like', 31964),\n",
              " ('time', 23537),\n",
              " ('good', 23001),\n",
              " ('character', 22118),\n",
              " ('story', 19358),\n",
              " ('make', 18953),\n",
              " ('really', 18391),\n",
              " ('scene', 16527),\n",
              " ('people', 14408),\n",
              " ('great', 14193),\n",
              " ('bad', 14106),\n",
              " ('dont', 13268),\n",
              " ('way', 13231),\n",
              " ('thing', 12938),\n",
              " ('think', 12044),\n",
              " ('life', 11543),\n",
              " ('know', 11297),\n",
              " ('watch', 10914)]"
            ]
          },
          "metadata": {},
          "execution_count": 29
        }
      ]
    },
    {
      "cell_type": "code",
      "source": [
        "dfu = pd.DataFrame(common_words, columns = ['Unigram Text', 'Count'])\n",
        "dfu\n",
        "dfu.groupby('Unigram Text').sum()['Count'].sort_values(ascending=False).iplot(kind='bar', yTitle='Count', linecolor='black', title='The distribution of Top 20 Unigram')"
      ],
      "metadata": {
        "colab": {
          "base_uri": "https://localhost:8080/",
          "height": 0
        },
        "id": "xfqBBhw8qidr",
        "outputId": "b10c55b8-a278-4d81-87e5-3eb2b6019908"
      },
      "execution_count": 30,
      "outputs": [
        {
          "output_type": "display_data",
          "data": {
            "application/vnd.plotly.v1+json": {
              "data": [
                {
                  "marker": {
                    "color": "rgba(255, 153, 51, 0.6)",
                    "line": {
                      "color": "rgba(255, 153, 51, 1.0)",
                      "width": 1
                    }
                  },
                  "name": "Count",
                  "orientation": "v",
                  "text": "",
                  "x": [
                    "movie",
                    "film",
                    "like",
                    "time",
                    "good",
                    "character",
                    "story",
                    "make",
                    "really",
                    "scene",
                    "people",
                    "great",
                    "bad",
                    "dont",
                    "way",
                    "thing",
                    "think",
                    "life",
                    "know",
                    "watch"
                  ],
                  "y": [
                    79352,
                    71714,
                    31964,
                    23537,
                    23001,
                    22118,
                    19358,
                    18953,
                    18391,
                    16527,
                    14408,
                    14193,
                    14106,
                    13268,
                    13231,
                    12938,
                    12044,
                    11543,
                    11297,
                    10914
                  ],
                  "type": "bar"
                }
              ],
              "layout": {
                "legend": {
                  "bgcolor": "#F5F6F9",
                  "font": {
                    "color": "#4D5663"
                  }
                },
                "paper_bgcolor": "#F5F6F9",
                "plot_bgcolor": "#F5F6F9",
                "template": {
                  "data": {
                    "barpolar": [
                      {
                        "marker": {
                          "line": {
                            "color": "#E5ECF6",
                            "width": 0.5
                          },
                          "pattern": {
                            "fillmode": "overlay",
                            "size": 10,
                            "solidity": 0.2
                          }
                        },
                        "type": "barpolar"
                      }
                    ],
                    "bar": [
                      {
                        "error_x": {
                          "color": "#2a3f5f"
                        },
                        "error_y": {
                          "color": "#2a3f5f"
                        },
                        "marker": {
                          "line": {
                            "color": "#E5ECF6",
                            "width": 0.5
                          },
                          "pattern": {
                            "fillmode": "overlay",
                            "size": 10,
                            "solidity": 0.2
                          }
                        },
                        "type": "bar"
                      }
                    ],
                    "carpet": [
                      {
                        "aaxis": {
                          "endlinecolor": "#2a3f5f",
                          "gridcolor": "white",
                          "linecolor": "white",
                          "minorgridcolor": "white",
                          "startlinecolor": "#2a3f5f"
                        },
                        "baxis": {
                          "endlinecolor": "#2a3f5f",
                          "gridcolor": "white",
                          "linecolor": "white",
                          "minorgridcolor": "white",
                          "startlinecolor": "#2a3f5f"
                        },
                        "type": "carpet"
                      }
                    ],
                    "choropleth": [
                      {
                        "colorbar": {
                          "outlinewidth": 0,
                          "ticks": ""
                        },
                        "type": "choropleth"
                      }
                    ],
                    "contourcarpet": [
                      {
                        "colorbar": {
                          "outlinewidth": 0,
                          "ticks": ""
                        },
                        "type": "contourcarpet"
                      }
                    ],
                    "contour": [
                      {
                        "colorbar": {
                          "outlinewidth": 0,
                          "ticks": ""
                        },
                        "colorscale": [
                          [
                            0,
                            "#0d0887"
                          ],
                          [
                            0.1111111111111111,
                            "#46039f"
                          ],
                          [
                            0.2222222222222222,
                            "#7201a8"
                          ],
                          [
                            0.3333333333333333,
                            "#9c179e"
                          ],
                          [
                            0.4444444444444444,
                            "#bd3786"
                          ],
                          [
                            0.5555555555555556,
                            "#d8576b"
                          ],
                          [
                            0.6666666666666666,
                            "#ed7953"
                          ],
                          [
                            0.7777777777777778,
                            "#fb9f3a"
                          ],
                          [
                            0.8888888888888888,
                            "#fdca26"
                          ],
                          [
                            1,
                            "#f0f921"
                          ]
                        ],
                        "type": "contour"
                      }
                    ],
                    "heatmapgl": [
                      {
                        "colorbar": {
                          "outlinewidth": 0,
                          "ticks": ""
                        },
                        "colorscale": [
                          [
                            0,
                            "#0d0887"
                          ],
                          [
                            0.1111111111111111,
                            "#46039f"
                          ],
                          [
                            0.2222222222222222,
                            "#7201a8"
                          ],
                          [
                            0.3333333333333333,
                            "#9c179e"
                          ],
                          [
                            0.4444444444444444,
                            "#bd3786"
                          ],
                          [
                            0.5555555555555556,
                            "#d8576b"
                          ],
                          [
                            0.6666666666666666,
                            "#ed7953"
                          ],
                          [
                            0.7777777777777778,
                            "#fb9f3a"
                          ],
                          [
                            0.8888888888888888,
                            "#fdca26"
                          ],
                          [
                            1,
                            "#f0f921"
                          ]
                        ],
                        "type": "heatmapgl"
                      }
                    ],
                    "heatmap": [
                      {
                        "colorbar": {
                          "outlinewidth": 0,
                          "ticks": ""
                        },
                        "colorscale": [
                          [
                            0,
                            "#0d0887"
                          ],
                          [
                            0.1111111111111111,
                            "#46039f"
                          ],
                          [
                            0.2222222222222222,
                            "#7201a8"
                          ],
                          [
                            0.3333333333333333,
                            "#9c179e"
                          ],
                          [
                            0.4444444444444444,
                            "#bd3786"
                          ],
                          [
                            0.5555555555555556,
                            "#d8576b"
                          ],
                          [
                            0.6666666666666666,
                            "#ed7953"
                          ],
                          [
                            0.7777777777777778,
                            "#fb9f3a"
                          ],
                          [
                            0.8888888888888888,
                            "#fdca26"
                          ],
                          [
                            1,
                            "#f0f921"
                          ]
                        ],
                        "type": "heatmap"
                      }
                    ],
                    "histogram2dcontour": [
                      {
                        "colorbar": {
                          "outlinewidth": 0,
                          "ticks": ""
                        },
                        "colorscale": [
                          [
                            0,
                            "#0d0887"
                          ],
                          [
                            0.1111111111111111,
                            "#46039f"
                          ],
                          [
                            0.2222222222222222,
                            "#7201a8"
                          ],
                          [
                            0.3333333333333333,
                            "#9c179e"
                          ],
                          [
                            0.4444444444444444,
                            "#bd3786"
                          ],
                          [
                            0.5555555555555556,
                            "#d8576b"
                          ],
                          [
                            0.6666666666666666,
                            "#ed7953"
                          ],
                          [
                            0.7777777777777778,
                            "#fb9f3a"
                          ],
                          [
                            0.8888888888888888,
                            "#fdca26"
                          ],
                          [
                            1,
                            "#f0f921"
                          ]
                        ],
                        "type": "histogram2dcontour"
                      }
                    ],
                    "histogram2d": [
                      {
                        "colorbar": {
                          "outlinewidth": 0,
                          "ticks": ""
                        },
                        "colorscale": [
                          [
                            0,
                            "#0d0887"
                          ],
                          [
                            0.1111111111111111,
                            "#46039f"
                          ],
                          [
                            0.2222222222222222,
                            "#7201a8"
                          ],
                          [
                            0.3333333333333333,
                            "#9c179e"
                          ],
                          [
                            0.4444444444444444,
                            "#bd3786"
                          ],
                          [
                            0.5555555555555556,
                            "#d8576b"
                          ],
                          [
                            0.6666666666666666,
                            "#ed7953"
                          ],
                          [
                            0.7777777777777778,
                            "#fb9f3a"
                          ],
                          [
                            0.8888888888888888,
                            "#fdca26"
                          ],
                          [
                            1,
                            "#f0f921"
                          ]
                        ],
                        "type": "histogram2d"
                      }
                    ],
                    "histogram": [
                      {
                        "marker": {
                          "pattern": {
                            "fillmode": "overlay",
                            "size": 10,
                            "solidity": 0.2
                          }
                        },
                        "type": "histogram"
                      }
                    ],
                    "mesh3d": [
                      {
                        "colorbar": {
                          "outlinewidth": 0,
                          "ticks": ""
                        },
                        "type": "mesh3d"
                      }
                    ],
                    "parcoords": [
                      {
                        "line": {
                          "colorbar": {
                            "outlinewidth": 0,
                            "ticks": ""
                          }
                        },
                        "type": "parcoords"
                      }
                    ],
                    "pie": [
                      {
                        "automargin": true,
                        "type": "pie"
                      }
                    ],
                    "scatter3d": [
                      {
                        "line": {
                          "colorbar": {
                            "outlinewidth": 0,
                            "ticks": ""
                          }
                        },
                        "marker": {
                          "colorbar": {
                            "outlinewidth": 0,
                            "ticks": ""
                          }
                        },
                        "type": "scatter3d"
                      }
                    ],
                    "scattercarpet": [
                      {
                        "marker": {
                          "colorbar": {
                            "outlinewidth": 0,
                            "ticks": ""
                          }
                        },
                        "type": "scattercarpet"
                      }
                    ],
                    "scattergeo": [
                      {
                        "marker": {
                          "colorbar": {
                            "outlinewidth": 0,
                            "ticks": ""
                          }
                        },
                        "type": "scattergeo"
                      }
                    ],
                    "scattergl": [
                      {
                        "marker": {
                          "colorbar": {
                            "outlinewidth": 0,
                            "ticks": ""
                          }
                        },
                        "type": "scattergl"
                      }
                    ],
                    "scattermapbox": [
                      {
                        "marker": {
                          "colorbar": {
                            "outlinewidth": 0,
                            "ticks": ""
                          }
                        },
                        "type": "scattermapbox"
                      }
                    ],
                    "scatterpolargl": [
                      {
                        "marker": {
                          "colorbar": {
                            "outlinewidth": 0,
                            "ticks": ""
                          }
                        },
                        "type": "scatterpolargl"
                      }
                    ],
                    "scatterpolar": [
                      {
                        "marker": {
                          "colorbar": {
                            "outlinewidth": 0,
                            "ticks": ""
                          }
                        },
                        "type": "scatterpolar"
                      }
                    ],
                    "scatter": [
                      {
                        "marker": {
                          "colorbar": {
                            "outlinewidth": 0,
                            "ticks": ""
                          }
                        },
                        "type": "scatter"
                      }
                    ],
                    "scatterternary": [
                      {
                        "marker": {
                          "colorbar": {
                            "outlinewidth": 0,
                            "ticks": ""
                          }
                        },
                        "type": "scatterternary"
                      }
                    ],
                    "surface": [
                      {
                        "colorbar": {
                          "outlinewidth": 0,
                          "ticks": ""
                        },
                        "colorscale": [
                          [
                            0,
                            "#0d0887"
                          ],
                          [
                            0.1111111111111111,
                            "#46039f"
                          ],
                          [
                            0.2222222222222222,
                            "#7201a8"
                          ],
                          [
                            0.3333333333333333,
                            "#9c179e"
                          ],
                          [
                            0.4444444444444444,
                            "#bd3786"
                          ],
                          [
                            0.5555555555555556,
                            "#d8576b"
                          ],
                          [
                            0.6666666666666666,
                            "#ed7953"
                          ],
                          [
                            0.7777777777777778,
                            "#fb9f3a"
                          ],
                          [
                            0.8888888888888888,
                            "#fdca26"
                          ],
                          [
                            1,
                            "#f0f921"
                          ]
                        ],
                        "type": "surface"
                      }
                    ],
                    "table": [
                      {
                        "cells": {
                          "fill": {
                            "color": "#EBF0F8"
                          },
                          "line": {
                            "color": "white"
                          }
                        },
                        "header": {
                          "fill": {
                            "color": "#C8D4E3"
                          },
                          "line": {
                            "color": "white"
                          }
                        },
                        "type": "table"
                      }
                    ]
                  },
                  "layout": {
                    "annotationdefaults": {
                      "arrowcolor": "#2a3f5f",
                      "arrowhead": 0,
                      "arrowwidth": 1
                    },
                    "autotypenumbers": "strict",
                    "coloraxis": {
                      "colorbar": {
                        "outlinewidth": 0,
                        "ticks": ""
                      }
                    },
                    "colorscale": {
                      "diverging": [
                        [
                          0,
                          "#8e0152"
                        ],
                        [
                          0.1,
                          "#c51b7d"
                        ],
                        [
                          0.2,
                          "#de77ae"
                        ],
                        [
                          0.3,
                          "#f1b6da"
                        ],
                        [
                          0.4,
                          "#fde0ef"
                        ],
                        [
                          0.5,
                          "#f7f7f7"
                        ],
                        [
                          0.6,
                          "#e6f5d0"
                        ],
                        [
                          0.7,
                          "#b8e186"
                        ],
                        [
                          0.8,
                          "#7fbc41"
                        ],
                        [
                          0.9,
                          "#4d9221"
                        ],
                        [
                          1,
                          "#276419"
                        ]
                      ],
                      "sequential": [
                        [
                          0,
                          "#0d0887"
                        ],
                        [
                          0.1111111111111111,
                          "#46039f"
                        ],
                        [
                          0.2222222222222222,
                          "#7201a8"
                        ],
                        [
                          0.3333333333333333,
                          "#9c179e"
                        ],
                        [
                          0.4444444444444444,
                          "#bd3786"
                        ],
                        [
                          0.5555555555555556,
                          "#d8576b"
                        ],
                        [
                          0.6666666666666666,
                          "#ed7953"
                        ],
                        [
                          0.7777777777777778,
                          "#fb9f3a"
                        ],
                        [
                          0.8888888888888888,
                          "#fdca26"
                        ],
                        [
                          1,
                          "#f0f921"
                        ]
                      ],
                      "sequentialminus": [
                        [
                          0,
                          "#0d0887"
                        ],
                        [
                          0.1111111111111111,
                          "#46039f"
                        ],
                        [
                          0.2222222222222222,
                          "#7201a8"
                        ],
                        [
                          0.3333333333333333,
                          "#9c179e"
                        ],
                        [
                          0.4444444444444444,
                          "#bd3786"
                        ],
                        [
                          0.5555555555555556,
                          "#d8576b"
                        ],
                        [
                          0.6666666666666666,
                          "#ed7953"
                        ],
                        [
                          0.7777777777777778,
                          "#fb9f3a"
                        ],
                        [
                          0.8888888888888888,
                          "#fdca26"
                        ],
                        [
                          1,
                          "#f0f921"
                        ]
                      ]
                    },
                    "colorway": [
                      "#636efa",
                      "#EF553B",
                      "#00cc96",
                      "#ab63fa",
                      "#FFA15A",
                      "#19d3f3",
                      "#FF6692",
                      "#B6E880",
                      "#FF97FF",
                      "#FECB52"
                    ],
                    "font": {
                      "color": "#2a3f5f"
                    },
                    "geo": {
                      "bgcolor": "white",
                      "lakecolor": "white",
                      "landcolor": "#E5ECF6",
                      "showlakes": true,
                      "showland": true,
                      "subunitcolor": "white"
                    },
                    "hoverlabel": {
                      "align": "left"
                    },
                    "hovermode": "closest",
                    "mapbox": {
                      "style": "light"
                    },
                    "paper_bgcolor": "white",
                    "plot_bgcolor": "#E5ECF6",
                    "polar": {
                      "angularaxis": {
                        "gridcolor": "white",
                        "linecolor": "white",
                        "ticks": ""
                      },
                      "bgcolor": "#E5ECF6",
                      "radialaxis": {
                        "gridcolor": "white",
                        "linecolor": "white",
                        "ticks": ""
                      }
                    },
                    "scene": {
                      "xaxis": {
                        "backgroundcolor": "#E5ECF6",
                        "gridcolor": "white",
                        "gridwidth": 2,
                        "linecolor": "white",
                        "showbackground": true,
                        "ticks": "",
                        "zerolinecolor": "white"
                      },
                      "yaxis": {
                        "backgroundcolor": "#E5ECF6",
                        "gridcolor": "white",
                        "gridwidth": 2,
                        "linecolor": "white",
                        "showbackground": true,
                        "ticks": "",
                        "zerolinecolor": "white"
                      },
                      "zaxis": {
                        "backgroundcolor": "#E5ECF6",
                        "gridcolor": "white",
                        "gridwidth": 2,
                        "linecolor": "white",
                        "showbackground": true,
                        "ticks": "",
                        "zerolinecolor": "white"
                      }
                    },
                    "shapedefaults": {
                      "line": {
                        "color": "#2a3f5f"
                      }
                    },
                    "ternary": {
                      "aaxis": {
                        "gridcolor": "white",
                        "linecolor": "white",
                        "ticks": ""
                      },
                      "baxis": {
                        "gridcolor": "white",
                        "linecolor": "white",
                        "ticks": ""
                      },
                      "bgcolor": "#E5ECF6",
                      "caxis": {
                        "gridcolor": "white",
                        "linecolor": "white",
                        "ticks": ""
                      }
                    },
                    "title": {
                      "x": 0.05
                    },
                    "xaxis": {
                      "automargin": true,
                      "gridcolor": "white",
                      "linecolor": "white",
                      "ticks": "",
                      "title": {
                        "standoff": 15
                      },
                      "zerolinecolor": "white",
                      "zerolinewidth": 2
                    },
                    "yaxis": {
                      "automargin": true,
                      "gridcolor": "white",
                      "linecolor": "white",
                      "ticks": "",
                      "title": {
                        "standoff": 15
                      },
                      "zerolinecolor": "white",
                      "zerolinewidth": 2
                    }
                  }
                },
                "title": {
                  "font": {
                    "color": "#4D5663"
                  },
                  "text": "The distribution of Top 20 Unigram"
                },
                "xaxis": {
                  "gridcolor": "#E1E5ED",
                  "linecolor": "black",
                  "showgrid": true,
                  "tickfont": {
                    "color": "#4D5663"
                  },
                  "title": {
                    "font": {
                      "color": "#4D5663"
                    },
                    "text": ""
                  },
                  "zerolinecolor": "#E1E5ED"
                },
                "yaxis": {
                  "gridcolor": "#E1E5ED",
                  "linecolor": "black",
                  "showgrid": true,
                  "tickfont": {
                    "color": "#4D5663"
                  },
                  "title": {
                    "font": {
                      "color": "#4D5663"
                    },
                    "text": "Count"
                  },
                  "zerolinecolor": "#E1E5ED"
                }
              },
              "config": {
                "showLink": true,
                "linkText": "Export to plot.ly",
                "plotlyServerURL": "https://plot.ly"
              }
            },
            "text/html": [
              "<div>                            <div id=\"82087210-0a0a-4f2d-bf33-ced217ddbce7\" class=\"plotly-graph-div\" style=\"height:525px; width:100%;\"></div>            <script type=\"text/javascript\">                require([\"plotly\"], function(Plotly) {                    window.PLOTLYENV=window.PLOTLYENV || {};\n",
              "                    window.PLOTLYENV.BASE_URL='https://plot.ly';                                    if (document.getElementById(\"82087210-0a0a-4f2d-bf33-ced217ddbce7\")) {                    Plotly.newPlot(                        \"82087210-0a0a-4f2d-bf33-ced217ddbce7\",                        [{\"marker\":{\"color\":\"rgba(255, 153, 51, 0.6)\",\"line\":{\"color\":\"rgba(255, 153, 51, 1.0)\",\"width\":1}},\"name\":\"Count\",\"orientation\":\"v\",\"text\":\"\",\"x\":[\"movie\",\"film\",\"like\",\"time\",\"good\",\"character\",\"story\",\"make\",\"really\",\"scene\",\"people\",\"great\",\"bad\",\"dont\",\"way\",\"thing\",\"think\",\"life\",\"know\",\"watch\"],\"y\":[79352,71714,31964,23537,23001,22118,19358,18953,18391,16527,14408,14193,14106,13268,13231,12938,12044,11543,11297,10914],\"type\":\"bar\"}],                        {\"legend\":{\"bgcolor\":\"#F5F6F9\",\"font\":{\"color\":\"#4D5663\"}},\"paper_bgcolor\":\"#F5F6F9\",\"plot_bgcolor\":\"#F5F6F9\",\"template\":{\"data\":{\"barpolar\":[{\"marker\":{\"line\":{\"color\":\"#E5ECF6\",\"width\":0.5},\"pattern\":{\"fillmode\":\"overlay\",\"size\":10,\"solidity\":0.2}},\"type\":\"barpolar\"}],\"bar\":[{\"error_x\":{\"color\":\"#2a3f5f\"},\"error_y\":{\"color\":\"#2a3f5f\"},\"marker\":{\"line\":{\"color\":\"#E5ECF6\",\"width\":0.5},\"pattern\":{\"fillmode\":\"overlay\",\"size\":10,\"solidity\":0.2}},\"type\":\"bar\"}],\"carpet\":[{\"aaxis\":{\"endlinecolor\":\"#2a3f5f\",\"gridcolor\":\"white\",\"linecolor\":\"white\",\"minorgridcolor\":\"white\",\"startlinecolor\":\"#2a3f5f\"},\"baxis\":{\"endlinecolor\":\"#2a3f5f\",\"gridcolor\":\"white\",\"linecolor\":\"white\",\"minorgridcolor\":\"white\",\"startlinecolor\":\"#2a3f5f\"},\"type\":\"carpet\"}],\"choropleth\":[{\"colorbar\":{\"outlinewidth\":0,\"ticks\":\"\"},\"type\":\"choropleth\"}],\"contourcarpet\":[{\"colorbar\":{\"outlinewidth\":0,\"ticks\":\"\"},\"type\":\"contourcarpet\"}],\"contour\":[{\"colorbar\":{\"outlinewidth\":0,\"ticks\":\"\"},\"colorscale\":[[0.0,\"#0d0887\"],[0.1111111111111111,\"#46039f\"],[0.2222222222222222,\"#7201a8\"],[0.3333333333333333,\"#9c179e\"],[0.4444444444444444,\"#bd3786\"],[0.5555555555555556,\"#d8576b\"],[0.6666666666666666,\"#ed7953\"],[0.7777777777777778,\"#fb9f3a\"],[0.8888888888888888,\"#fdca26\"],[1.0,\"#f0f921\"]],\"type\":\"contour\"}],\"heatmapgl\":[{\"colorbar\":{\"outlinewidth\":0,\"ticks\":\"\"},\"colorscale\":[[0.0,\"#0d0887\"],[0.1111111111111111,\"#46039f\"],[0.2222222222222222,\"#7201a8\"],[0.3333333333333333,\"#9c179e\"],[0.4444444444444444,\"#bd3786\"],[0.5555555555555556,\"#d8576b\"],[0.6666666666666666,\"#ed7953\"],[0.7777777777777778,\"#fb9f3a\"],[0.8888888888888888,\"#fdca26\"],[1.0,\"#f0f921\"]],\"type\":\"heatmapgl\"}],\"heatmap\":[{\"colorbar\":{\"outlinewidth\":0,\"ticks\":\"\"},\"colorscale\":[[0.0,\"#0d0887\"],[0.1111111111111111,\"#46039f\"],[0.2222222222222222,\"#7201a8\"],[0.3333333333333333,\"#9c179e\"],[0.4444444444444444,\"#bd3786\"],[0.5555555555555556,\"#d8576b\"],[0.6666666666666666,\"#ed7953\"],[0.7777777777777778,\"#fb9f3a\"],[0.8888888888888888,\"#fdca26\"],[1.0,\"#f0f921\"]],\"type\":\"heatmap\"}],\"histogram2dcontour\":[{\"colorbar\":{\"outlinewidth\":0,\"ticks\":\"\"},\"colorscale\":[[0.0,\"#0d0887\"],[0.1111111111111111,\"#46039f\"],[0.2222222222222222,\"#7201a8\"],[0.3333333333333333,\"#9c179e\"],[0.4444444444444444,\"#bd3786\"],[0.5555555555555556,\"#d8576b\"],[0.6666666666666666,\"#ed7953\"],[0.7777777777777778,\"#fb9f3a\"],[0.8888888888888888,\"#fdca26\"],[1.0,\"#f0f921\"]],\"type\":\"histogram2dcontour\"}],\"histogram2d\":[{\"colorbar\":{\"outlinewidth\":0,\"ticks\":\"\"},\"colorscale\":[[0.0,\"#0d0887\"],[0.1111111111111111,\"#46039f\"],[0.2222222222222222,\"#7201a8\"],[0.3333333333333333,\"#9c179e\"],[0.4444444444444444,\"#bd3786\"],[0.5555555555555556,\"#d8576b\"],[0.6666666666666666,\"#ed7953\"],[0.7777777777777778,\"#fb9f3a\"],[0.8888888888888888,\"#fdca26\"],[1.0,\"#f0f921\"]],\"type\":\"histogram2d\"}],\"histogram\":[{\"marker\":{\"pattern\":{\"fillmode\":\"overlay\",\"size\":10,\"solidity\":0.2}},\"type\":\"histogram\"}],\"mesh3d\":[{\"colorbar\":{\"outlinewidth\":0,\"ticks\":\"\"},\"type\":\"mesh3d\"}],\"parcoords\":[{\"line\":{\"colorbar\":{\"outlinewidth\":0,\"ticks\":\"\"}},\"type\":\"parcoords\"}],\"pie\":[{\"automargin\":true,\"type\":\"pie\"}],\"scatter3d\":[{\"line\":{\"colorbar\":{\"outlinewidth\":0,\"ticks\":\"\"}},\"marker\":{\"colorbar\":{\"outlinewidth\":0,\"ticks\":\"\"}},\"type\":\"scatter3d\"}],\"scattercarpet\":[{\"marker\":{\"colorbar\":{\"outlinewidth\":0,\"ticks\":\"\"}},\"type\":\"scattercarpet\"}],\"scattergeo\":[{\"marker\":{\"colorbar\":{\"outlinewidth\":0,\"ticks\":\"\"}},\"type\":\"scattergeo\"}],\"scattergl\":[{\"marker\":{\"colorbar\":{\"outlinewidth\":0,\"ticks\":\"\"}},\"type\":\"scattergl\"}],\"scattermapbox\":[{\"marker\":{\"colorbar\":{\"outlinewidth\":0,\"ticks\":\"\"}},\"type\":\"scattermapbox\"}],\"scatterpolargl\":[{\"marker\":{\"colorbar\":{\"outlinewidth\":0,\"ticks\":\"\"}},\"type\":\"scatterpolargl\"}],\"scatterpolar\":[{\"marker\":{\"colorbar\":{\"outlinewidth\":0,\"ticks\":\"\"}},\"type\":\"scatterpolar\"}],\"scatter\":[{\"marker\":{\"colorbar\":{\"outlinewidth\":0,\"ticks\":\"\"}},\"type\":\"scatter\"}],\"scatterternary\":[{\"marker\":{\"colorbar\":{\"outlinewidth\":0,\"ticks\":\"\"}},\"type\":\"scatterternary\"}],\"surface\":[{\"colorbar\":{\"outlinewidth\":0,\"ticks\":\"\"},\"colorscale\":[[0.0,\"#0d0887\"],[0.1111111111111111,\"#46039f\"],[0.2222222222222222,\"#7201a8\"],[0.3333333333333333,\"#9c179e\"],[0.4444444444444444,\"#bd3786\"],[0.5555555555555556,\"#d8576b\"],[0.6666666666666666,\"#ed7953\"],[0.7777777777777778,\"#fb9f3a\"],[0.8888888888888888,\"#fdca26\"],[1.0,\"#f0f921\"]],\"type\":\"surface\"}],\"table\":[{\"cells\":{\"fill\":{\"color\":\"#EBF0F8\"},\"line\":{\"color\":\"white\"}},\"header\":{\"fill\":{\"color\":\"#C8D4E3\"},\"line\":{\"color\":\"white\"}},\"type\":\"table\"}]},\"layout\":{\"annotationdefaults\":{\"arrowcolor\":\"#2a3f5f\",\"arrowhead\":0,\"arrowwidth\":1},\"autotypenumbers\":\"strict\",\"coloraxis\":{\"colorbar\":{\"outlinewidth\":0,\"ticks\":\"\"}},\"colorscale\":{\"diverging\":[[0,\"#8e0152\"],[0.1,\"#c51b7d\"],[0.2,\"#de77ae\"],[0.3,\"#f1b6da\"],[0.4,\"#fde0ef\"],[0.5,\"#f7f7f7\"],[0.6,\"#e6f5d0\"],[0.7,\"#b8e186\"],[0.8,\"#7fbc41\"],[0.9,\"#4d9221\"],[1,\"#276419\"]],\"sequential\":[[0.0,\"#0d0887\"],[0.1111111111111111,\"#46039f\"],[0.2222222222222222,\"#7201a8\"],[0.3333333333333333,\"#9c179e\"],[0.4444444444444444,\"#bd3786\"],[0.5555555555555556,\"#d8576b\"],[0.6666666666666666,\"#ed7953\"],[0.7777777777777778,\"#fb9f3a\"],[0.8888888888888888,\"#fdca26\"],[1.0,\"#f0f921\"]],\"sequentialminus\":[[0.0,\"#0d0887\"],[0.1111111111111111,\"#46039f\"],[0.2222222222222222,\"#7201a8\"],[0.3333333333333333,\"#9c179e\"],[0.4444444444444444,\"#bd3786\"],[0.5555555555555556,\"#d8576b\"],[0.6666666666666666,\"#ed7953\"],[0.7777777777777778,\"#fb9f3a\"],[0.8888888888888888,\"#fdca26\"],[1.0,\"#f0f921\"]]},\"colorway\":[\"#636efa\",\"#EF553B\",\"#00cc96\",\"#ab63fa\",\"#FFA15A\",\"#19d3f3\",\"#FF6692\",\"#B6E880\",\"#FF97FF\",\"#FECB52\"],\"font\":{\"color\":\"#2a3f5f\"},\"geo\":{\"bgcolor\":\"white\",\"lakecolor\":\"white\",\"landcolor\":\"#E5ECF6\",\"showlakes\":true,\"showland\":true,\"subunitcolor\":\"white\"},\"hoverlabel\":{\"align\":\"left\"},\"hovermode\":\"closest\",\"mapbox\":{\"style\":\"light\"},\"paper_bgcolor\":\"white\",\"plot_bgcolor\":\"#E5ECF6\",\"polar\":{\"angularaxis\":{\"gridcolor\":\"white\",\"linecolor\":\"white\",\"ticks\":\"\"},\"bgcolor\":\"#E5ECF6\",\"radialaxis\":{\"gridcolor\":\"white\",\"linecolor\":\"white\",\"ticks\":\"\"}},\"scene\":{\"xaxis\":{\"backgroundcolor\":\"#E5ECF6\",\"gridcolor\":\"white\",\"gridwidth\":2,\"linecolor\":\"white\",\"showbackground\":true,\"ticks\":\"\",\"zerolinecolor\":\"white\"},\"yaxis\":{\"backgroundcolor\":\"#E5ECF6\",\"gridcolor\":\"white\",\"gridwidth\":2,\"linecolor\":\"white\",\"showbackground\":true,\"ticks\":\"\",\"zerolinecolor\":\"white\"},\"zaxis\":{\"backgroundcolor\":\"#E5ECF6\",\"gridcolor\":\"white\",\"gridwidth\":2,\"linecolor\":\"white\",\"showbackground\":true,\"ticks\":\"\",\"zerolinecolor\":\"white\"}},\"shapedefaults\":{\"line\":{\"color\":\"#2a3f5f\"}},\"ternary\":{\"aaxis\":{\"gridcolor\":\"white\",\"linecolor\":\"white\",\"ticks\":\"\"},\"baxis\":{\"gridcolor\":\"white\",\"linecolor\":\"white\",\"ticks\":\"\"},\"bgcolor\":\"#E5ECF6\",\"caxis\":{\"gridcolor\":\"white\",\"linecolor\":\"white\",\"ticks\":\"\"}},\"title\":{\"x\":0.05},\"xaxis\":{\"automargin\":true,\"gridcolor\":\"white\",\"linecolor\":\"white\",\"ticks\":\"\",\"title\":{\"standoff\":15},\"zerolinecolor\":\"white\",\"zerolinewidth\":2},\"yaxis\":{\"automargin\":true,\"gridcolor\":\"white\",\"linecolor\":\"white\",\"ticks\":\"\",\"title\":{\"standoff\":15},\"zerolinecolor\":\"white\",\"zerolinewidth\":2}}},\"title\":{\"font\":{\"color\":\"#4D5663\"},\"text\":\"The distribution of Top 20 Unigram\"},\"xaxis\":{\"gridcolor\":\"#E1E5ED\",\"linecolor\":\"black\",\"showgrid\":true,\"tickfont\":{\"color\":\"#4D5663\"},\"title\":{\"font\":{\"color\":\"#4D5663\"},\"text\":\"\"},\"zerolinecolor\":\"#E1E5ED\"},\"yaxis\":{\"gridcolor\":\"#E1E5ED\",\"linecolor\":\"black\",\"showgrid\":true,\"tickfont\":{\"color\":\"#4D5663\"},\"title\":{\"font\":{\"color\":\"#4D5663\"},\"text\":\"Count\"},\"zerolinecolor\":\"#E1E5ED\"}},                        {\"showLink\": true, \"linkText\": \"Export to plot.ly\", \"plotlyServerURL\": \"https://plot.ly\", \"responsive\": true}                    ).then(function(){\n",
              "                            \n",
              "var gd = document.getElementById('82087210-0a0a-4f2d-bf33-ced217ddbce7');\n",
              "var x = new MutationObserver(function (mutations, observer) {{\n",
              "        var display = window.getComputedStyle(gd).display;\n",
              "        if (!display || display === 'none') {{\n",
              "            console.log([gd, 'removed!']);\n",
              "            Plotly.purge(gd);\n",
              "            observer.disconnect();\n",
              "        }}\n",
              "}});\n",
              "\n",
              "// Listen for the removal of the full notebook cells\n",
              "var notebookContainer = gd.closest('#notebook-container');\n",
              "if (notebookContainer) {{\n",
              "    x.observe(notebookContainer, {childList: true});\n",
              "}}\n",
              "\n",
              "// Listen for the clearing of the current output cell\n",
              "var outputEl = gd.closest('.output');\n",
              "if (outputEl) {{\n",
              "    x.observe(outputEl, {childList: true});\n",
              "}}\n",
              "\n",
              "                        })                };                });            </script>        </div>"
            ]
          },
          "metadata": {}
        }
      ]
    },
    {
      "cell_type": "code",
      "source": [
        "def get_top_n_bigram(x, n=None):\n",
        "    vec = CountVectorizer(ngram_range=(2, 2), stop_words='english').fit(x)\n",
        "    bag_of_words = vec.transform(x)\n",
        "    sum_words = bag_of_words.sum(axis=0) \n",
        "    words_freq = [(word, sum_words[0, idx]) for word, idx in vec.vocabulary_.items()]\n",
        "    words_freq =sorted(words_freq, key = lambda x: x[1], reverse=True)\n",
        "    return words_freq[:n]"
      ],
      "metadata": {
        "id": "Zs5JiLJ8qigr"
      },
      "execution_count": 31,
      "outputs": []
    },
    {
      "cell_type": "code",
      "source": [
        "common_words = get_top_n_bigram(train_df[\"text\"], 20)\n",
        "common_words"
      ],
      "metadata": {
        "colab": {
          "base_uri": "https://localhost:8080/"
        },
        "id": "al2Pxiynqijk",
        "outputId": "492def79-5d9f-42f3-bfb1-b0fba72cc7dc"
      },
      "execution_count": 32,
      "outputs": [
        {
          "output_type": "execute_result",
          "data": {
            "text/plain": [
              "[('ive seen', 2672),\n",
              " ('look like', 2418),\n",
              " ('special effect', 1755),\n",
              " ('dont know', 1739),\n",
              " ('movie like', 1587),\n",
              " ('main character', 1514),\n",
              " ('year old', 1292),\n",
              " ('good movie', 1238),\n",
              " ('horror movie', 1218),\n",
              " ('film like', 1163),\n",
              " ('waste time', 1153),\n",
              " ('watch movie', 1139),\n",
              " ('horror film', 1129),\n",
              " ('bad movie', 1068),\n",
              " ('make movie', 1061),\n",
              " ('im sure', 1059),\n",
              " ('dont think', 1027),\n",
              " ('year ago', 1006),\n",
              " ('low budget', 1001),\n",
              " ('new york', 989)]"
            ]
          },
          "metadata": {},
          "execution_count": 32
        }
      ]
    },
    {
      "cell_type": "code",
      "source": [
        "df2 = pd.DataFrame(common_words, columns = ['Bigram Text', 'Count'])\n",
        "df2\n",
        "df2.groupby('Bigram Text').sum()['Count'].sort_values(ascending=False).iplot(kind='bar', yTitle='Count', linecolor='black', title='The distribution of Top 20 Bigram')"
      ],
      "metadata": {
        "colab": {
          "base_uri": "https://localhost:8080/",
          "height": 0
        },
        "id": "GdLuv_QFrOYS",
        "outputId": "17dc2c5e-229c-4d75-d543-6bb48cb794eb"
      },
      "execution_count": 33,
      "outputs": [
        {
          "output_type": "display_data",
          "data": {
            "application/vnd.plotly.v1+json": {
              "data": [
                {
                  "marker": {
                    "color": "rgba(255, 153, 51, 0.6)",
                    "line": {
                      "color": "rgba(255, 153, 51, 1.0)",
                      "width": 1
                    }
                  },
                  "name": "Count",
                  "orientation": "v",
                  "text": "",
                  "x": [
                    "ive seen",
                    "look like",
                    "special effect",
                    "dont know",
                    "movie like",
                    "main character",
                    "year old",
                    "good movie",
                    "horror movie",
                    "film like",
                    "waste time",
                    "watch movie",
                    "horror film",
                    "bad movie",
                    "make movie",
                    "im sure",
                    "dont think",
                    "year ago",
                    "low budget",
                    "new york"
                  ],
                  "y": [
                    2672,
                    2418,
                    1755,
                    1739,
                    1587,
                    1514,
                    1292,
                    1238,
                    1218,
                    1163,
                    1153,
                    1139,
                    1129,
                    1068,
                    1061,
                    1059,
                    1027,
                    1006,
                    1001,
                    989
                  ],
                  "type": "bar"
                }
              ],
              "layout": {
                "legend": {
                  "bgcolor": "#F5F6F9",
                  "font": {
                    "color": "#4D5663"
                  }
                },
                "paper_bgcolor": "#F5F6F9",
                "plot_bgcolor": "#F5F6F9",
                "template": {
                  "data": {
                    "barpolar": [
                      {
                        "marker": {
                          "line": {
                            "color": "#E5ECF6",
                            "width": 0.5
                          },
                          "pattern": {
                            "fillmode": "overlay",
                            "size": 10,
                            "solidity": 0.2
                          }
                        },
                        "type": "barpolar"
                      }
                    ],
                    "bar": [
                      {
                        "error_x": {
                          "color": "#2a3f5f"
                        },
                        "error_y": {
                          "color": "#2a3f5f"
                        },
                        "marker": {
                          "line": {
                            "color": "#E5ECF6",
                            "width": 0.5
                          },
                          "pattern": {
                            "fillmode": "overlay",
                            "size": 10,
                            "solidity": 0.2
                          }
                        },
                        "type": "bar"
                      }
                    ],
                    "carpet": [
                      {
                        "aaxis": {
                          "endlinecolor": "#2a3f5f",
                          "gridcolor": "white",
                          "linecolor": "white",
                          "minorgridcolor": "white",
                          "startlinecolor": "#2a3f5f"
                        },
                        "baxis": {
                          "endlinecolor": "#2a3f5f",
                          "gridcolor": "white",
                          "linecolor": "white",
                          "minorgridcolor": "white",
                          "startlinecolor": "#2a3f5f"
                        },
                        "type": "carpet"
                      }
                    ],
                    "choropleth": [
                      {
                        "colorbar": {
                          "outlinewidth": 0,
                          "ticks": ""
                        },
                        "type": "choropleth"
                      }
                    ],
                    "contourcarpet": [
                      {
                        "colorbar": {
                          "outlinewidth": 0,
                          "ticks": ""
                        },
                        "type": "contourcarpet"
                      }
                    ],
                    "contour": [
                      {
                        "colorbar": {
                          "outlinewidth": 0,
                          "ticks": ""
                        },
                        "colorscale": [
                          [
                            0,
                            "#0d0887"
                          ],
                          [
                            0.1111111111111111,
                            "#46039f"
                          ],
                          [
                            0.2222222222222222,
                            "#7201a8"
                          ],
                          [
                            0.3333333333333333,
                            "#9c179e"
                          ],
                          [
                            0.4444444444444444,
                            "#bd3786"
                          ],
                          [
                            0.5555555555555556,
                            "#d8576b"
                          ],
                          [
                            0.6666666666666666,
                            "#ed7953"
                          ],
                          [
                            0.7777777777777778,
                            "#fb9f3a"
                          ],
                          [
                            0.8888888888888888,
                            "#fdca26"
                          ],
                          [
                            1,
                            "#f0f921"
                          ]
                        ],
                        "type": "contour"
                      }
                    ],
                    "heatmapgl": [
                      {
                        "colorbar": {
                          "outlinewidth": 0,
                          "ticks": ""
                        },
                        "colorscale": [
                          [
                            0,
                            "#0d0887"
                          ],
                          [
                            0.1111111111111111,
                            "#46039f"
                          ],
                          [
                            0.2222222222222222,
                            "#7201a8"
                          ],
                          [
                            0.3333333333333333,
                            "#9c179e"
                          ],
                          [
                            0.4444444444444444,
                            "#bd3786"
                          ],
                          [
                            0.5555555555555556,
                            "#d8576b"
                          ],
                          [
                            0.6666666666666666,
                            "#ed7953"
                          ],
                          [
                            0.7777777777777778,
                            "#fb9f3a"
                          ],
                          [
                            0.8888888888888888,
                            "#fdca26"
                          ],
                          [
                            1,
                            "#f0f921"
                          ]
                        ],
                        "type": "heatmapgl"
                      }
                    ],
                    "heatmap": [
                      {
                        "colorbar": {
                          "outlinewidth": 0,
                          "ticks": ""
                        },
                        "colorscale": [
                          [
                            0,
                            "#0d0887"
                          ],
                          [
                            0.1111111111111111,
                            "#46039f"
                          ],
                          [
                            0.2222222222222222,
                            "#7201a8"
                          ],
                          [
                            0.3333333333333333,
                            "#9c179e"
                          ],
                          [
                            0.4444444444444444,
                            "#bd3786"
                          ],
                          [
                            0.5555555555555556,
                            "#d8576b"
                          ],
                          [
                            0.6666666666666666,
                            "#ed7953"
                          ],
                          [
                            0.7777777777777778,
                            "#fb9f3a"
                          ],
                          [
                            0.8888888888888888,
                            "#fdca26"
                          ],
                          [
                            1,
                            "#f0f921"
                          ]
                        ],
                        "type": "heatmap"
                      }
                    ],
                    "histogram2dcontour": [
                      {
                        "colorbar": {
                          "outlinewidth": 0,
                          "ticks": ""
                        },
                        "colorscale": [
                          [
                            0,
                            "#0d0887"
                          ],
                          [
                            0.1111111111111111,
                            "#46039f"
                          ],
                          [
                            0.2222222222222222,
                            "#7201a8"
                          ],
                          [
                            0.3333333333333333,
                            "#9c179e"
                          ],
                          [
                            0.4444444444444444,
                            "#bd3786"
                          ],
                          [
                            0.5555555555555556,
                            "#d8576b"
                          ],
                          [
                            0.6666666666666666,
                            "#ed7953"
                          ],
                          [
                            0.7777777777777778,
                            "#fb9f3a"
                          ],
                          [
                            0.8888888888888888,
                            "#fdca26"
                          ],
                          [
                            1,
                            "#f0f921"
                          ]
                        ],
                        "type": "histogram2dcontour"
                      }
                    ],
                    "histogram2d": [
                      {
                        "colorbar": {
                          "outlinewidth": 0,
                          "ticks": ""
                        },
                        "colorscale": [
                          [
                            0,
                            "#0d0887"
                          ],
                          [
                            0.1111111111111111,
                            "#46039f"
                          ],
                          [
                            0.2222222222222222,
                            "#7201a8"
                          ],
                          [
                            0.3333333333333333,
                            "#9c179e"
                          ],
                          [
                            0.4444444444444444,
                            "#bd3786"
                          ],
                          [
                            0.5555555555555556,
                            "#d8576b"
                          ],
                          [
                            0.6666666666666666,
                            "#ed7953"
                          ],
                          [
                            0.7777777777777778,
                            "#fb9f3a"
                          ],
                          [
                            0.8888888888888888,
                            "#fdca26"
                          ],
                          [
                            1,
                            "#f0f921"
                          ]
                        ],
                        "type": "histogram2d"
                      }
                    ],
                    "histogram": [
                      {
                        "marker": {
                          "pattern": {
                            "fillmode": "overlay",
                            "size": 10,
                            "solidity": 0.2
                          }
                        },
                        "type": "histogram"
                      }
                    ],
                    "mesh3d": [
                      {
                        "colorbar": {
                          "outlinewidth": 0,
                          "ticks": ""
                        },
                        "type": "mesh3d"
                      }
                    ],
                    "parcoords": [
                      {
                        "line": {
                          "colorbar": {
                            "outlinewidth": 0,
                            "ticks": ""
                          }
                        },
                        "type": "parcoords"
                      }
                    ],
                    "pie": [
                      {
                        "automargin": true,
                        "type": "pie"
                      }
                    ],
                    "scatter3d": [
                      {
                        "line": {
                          "colorbar": {
                            "outlinewidth": 0,
                            "ticks": ""
                          }
                        },
                        "marker": {
                          "colorbar": {
                            "outlinewidth": 0,
                            "ticks": ""
                          }
                        },
                        "type": "scatter3d"
                      }
                    ],
                    "scattercarpet": [
                      {
                        "marker": {
                          "colorbar": {
                            "outlinewidth": 0,
                            "ticks": ""
                          }
                        },
                        "type": "scattercarpet"
                      }
                    ],
                    "scattergeo": [
                      {
                        "marker": {
                          "colorbar": {
                            "outlinewidth": 0,
                            "ticks": ""
                          }
                        },
                        "type": "scattergeo"
                      }
                    ],
                    "scattergl": [
                      {
                        "marker": {
                          "colorbar": {
                            "outlinewidth": 0,
                            "ticks": ""
                          }
                        },
                        "type": "scattergl"
                      }
                    ],
                    "scattermapbox": [
                      {
                        "marker": {
                          "colorbar": {
                            "outlinewidth": 0,
                            "ticks": ""
                          }
                        },
                        "type": "scattermapbox"
                      }
                    ],
                    "scatterpolargl": [
                      {
                        "marker": {
                          "colorbar": {
                            "outlinewidth": 0,
                            "ticks": ""
                          }
                        },
                        "type": "scatterpolargl"
                      }
                    ],
                    "scatterpolar": [
                      {
                        "marker": {
                          "colorbar": {
                            "outlinewidth": 0,
                            "ticks": ""
                          }
                        },
                        "type": "scatterpolar"
                      }
                    ],
                    "scatter": [
                      {
                        "marker": {
                          "colorbar": {
                            "outlinewidth": 0,
                            "ticks": ""
                          }
                        },
                        "type": "scatter"
                      }
                    ],
                    "scatterternary": [
                      {
                        "marker": {
                          "colorbar": {
                            "outlinewidth": 0,
                            "ticks": ""
                          }
                        },
                        "type": "scatterternary"
                      }
                    ],
                    "surface": [
                      {
                        "colorbar": {
                          "outlinewidth": 0,
                          "ticks": ""
                        },
                        "colorscale": [
                          [
                            0,
                            "#0d0887"
                          ],
                          [
                            0.1111111111111111,
                            "#46039f"
                          ],
                          [
                            0.2222222222222222,
                            "#7201a8"
                          ],
                          [
                            0.3333333333333333,
                            "#9c179e"
                          ],
                          [
                            0.4444444444444444,
                            "#bd3786"
                          ],
                          [
                            0.5555555555555556,
                            "#d8576b"
                          ],
                          [
                            0.6666666666666666,
                            "#ed7953"
                          ],
                          [
                            0.7777777777777778,
                            "#fb9f3a"
                          ],
                          [
                            0.8888888888888888,
                            "#fdca26"
                          ],
                          [
                            1,
                            "#f0f921"
                          ]
                        ],
                        "type": "surface"
                      }
                    ],
                    "table": [
                      {
                        "cells": {
                          "fill": {
                            "color": "#EBF0F8"
                          },
                          "line": {
                            "color": "white"
                          }
                        },
                        "header": {
                          "fill": {
                            "color": "#C8D4E3"
                          },
                          "line": {
                            "color": "white"
                          }
                        },
                        "type": "table"
                      }
                    ]
                  },
                  "layout": {
                    "annotationdefaults": {
                      "arrowcolor": "#2a3f5f",
                      "arrowhead": 0,
                      "arrowwidth": 1
                    },
                    "autotypenumbers": "strict",
                    "coloraxis": {
                      "colorbar": {
                        "outlinewidth": 0,
                        "ticks": ""
                      }
                    },
                    "colorscale": {
                      "diverging": [
                        [
                          0,
                          "#8e0152"
                        ],
                        [
                          0.1,
                          "#c51b7d"
                        ],
                        [
                          0.2,
                          "#de77ae"
                        ],
                        [
                          0.3,
                          "#f1b6da"
                        ],
                        [
                          0.4,
                          "#fde0ef"
                        ],
                        [
                          0.5,
                          "#f7f7f7"
                        ],
                        [
                          0.6,
                          "#e6f5d0"
                        ],
                        [
                          0.7,
                          "#b8e186"
                        ],
                        [
                          0.8,
                          "#7fbc41"
                        ],
                        [
                          0.9,
                          "#4d9221"
                        ],
                        [
                          1,
                          "#276419"
                        ]
                      ],
                      "sequential": [
                        [
                          0,
                          "#0d0887"
                        ],
                        [
                          0.1111111111111111,
                          "#46039f"
                        ],
                        [
                          0.2222222222222222,
                          "#7201a8"
                        ],
                        [
                          0.3333333333333333,
                          "#9c179e"
                        ],
                        [
                          0.4444444444444444,
                          "#bd3786"
                        ],
                        [
                          0.5555555555555556,
                          "#d8576b"
                        ],
                        [
                          0.6666666666666666,
                          "#ed7953"
                        ],
                        [
                          0.7777777777777778,
                          "#fb9f3a"
                        ],
                        [
                          0.8888888888888888,
                          "#fdca26"
                        ],
                        [
                          1,
                          "#f0f921"
                        ]
                      ],
                      "sequentialminus": [
                        [
                          0,
                          "#0d0887"
                        ],
                        [
                          0.1111111111111111,
                          "#46039f"
                        ],
                        [
                          0.2222222222222222,
                          "#7201a8"
                        ],
                        [
                          0.3333333333333333,
                          "#9c179e"
                        ],
                        [
                          0.4444444444444444,
                          "#bd3786"
                        ],
                        [
                          0.5555555555555556,
                          "#d8576b"
                        ],
                        [
                          0.6666666666666666,
                          "#ed7953"
                        ],
                        [
                          0.7777777777777778,
                          "#fb9f3a"
                        ],
                        [
                          0.8888888888888888,
                          "#fdca26"
                        ],
                        [
                          1,
                          "#f0f921"
                        ]
                      ]
                    },
                    "colorway": [
                      "#636efa",
                      "#EF553B",
                      "#00cc96",
                      "#ab63fa",
                      "#FFA15A",
                      "#19d3f3",
                      "#FF6692",
                      "#B6E880",
                      "#FF97FF",
                      "#FECB52"
                    ],
                    "font": {
                      "color": "#2a3f5f"
                    },
                    "geo": {
                      "bgcolor": "white",
                      "lakecolor": "white",
                      "landcolor": "#E5ECF6",
                      "showlakes": true,
                      "showland": true,
                      "subunitcolor": "white"
                    },
                    "hoverlabel": {
                      "align": "left"
                    },
                    "hovermode": "closest",
                    "mapbox": {
                      "style": "light"
                    },
                    "paper_bgcolor": "white",
                    "plot_bgcolor": "#E5ECF6",
                    "polar": {
                      "angularaxis": {
                        "gridcolor": "white",
                        "linecolor": "white",
                        "ticks": ""
                      },
                      "bgcolor": "#E5ECF6",
                      "radialaxis": {
                        "gridcolor": "white",
                        "linecolor": "white",
                        "ticks": ""
                      }
                    },
                    "scene": {
                      "xaxis": {
                        "backgroundcolor": "#E5ECF6",
                        "gridcolor": "white",
                        "gridwidth": 2,
                        "linecolor": "white",
                        "showbackground": true,
                        "ticks": "",
                        "zerolinecolor": "white"
                      },
                      "yaxis": {
                        "backgroundcolor": "#E5ECF6",
                        "gridcolor": "white",
                        "gridwidth": 2,
                        "linecolor": "white",
                        "showbackground": true,
                        "ticks": "",
                        "zerolinecolor": "white"
                      },
                      "zaxis": {
                        "backgroundcolor": "#E5ECF6",
                        "gridcolor": "white",
                        "gridwidth": 2,
                        "linecolor": "white",
                        "showbackground": true,
                        "ticks": "",
                        "zerolinecolor": "white"
                      }
                    },
                    "shapedefaults": {
                      "line": {
                        "color": "#2a3f5f"
                      }
                    },
                    "ternary": {
                      "aaxis": {
                        "gridcolor": "white",
                        "linecolor": "white",
                        "ticks": ""
                      },
                      "baxis": {
                        "gridcolor": "white",
                        "linecolor": "white",
                        "ticks": ""
                      },
                      "bgcolor": "#E5ECF6",
                      "caxis": {
                        "gridcolor": "white",
                        "linecolor": "white",
                        "ticks": ""
                      }
                    },
                    "title": {
                      "x": 0.05
                    },
                    "xaxis": {
                      "automargin": true,
                      "gridcolor": "white",
                      "linecolor": "white",
                      "ticks": "",
                      "title": {
                        "standoff": 15
                      },
                      "zerolinecolor": "white",
                      "zerolinewidth": 2
                    },
                    "yaxis": {
                      "automargin": true,
                      "gridcolor": "white",
                      "linecolor": "white",
                      "ticks": "",
                      "title": {
                        "standoff": 15
                      },
                      "zerolinecolor": "white",
                      "zerolinewidth": 2
                    }
                  }
                },
                "title": {
                  "font": {
                    "color": "#4D5663"
                  },
                  "text": "The distribution of Top 20 Bigram"
                },
                "xaxis": {
                  "gridcolor": "#E1E5ED",
                  "linecolor": "black",
                  "showgrid": true,
                  "tickfont": {
                    "color": "#4D5663"
                  },
                  "title": {
                    "font": {
                      "color": "#4D5663"
                    },
                    "text": ""
                  },
                  "zerolinecolor": "#E1E5ED"
                },
                "yaxis": {
                  "gridcolor": "#E1E5ED",
                  "linecolor": "black",
                  "showgrid": true,
                  "tickfont": {
                    "color": "#4D5663"
                  },
                  "title": {
                    "font": {
                      "color": "#4D5663"
                    },
                    "text": "Count"
                  },
                  "zerolinecolor": "#E1E5ED"
                }
              },
              "config": {
                "showLink": true,
                "linkText": "Export to plot.ly",
                "plotlyServerURL": "https://plot.ly"
              }
            },
            "text/html": [
              "<div>                            <div id=\"8a57338b-6600-4fc3-ba43-36e0b60e8758\" class=\"plotly-graph-div\" style=\"height:525px; width:100%;\"></div>            <script type=\"text/javascript\">                require([\"plotly\"], function(Plotly) {                    window.PLOTLYENV=window.PLOTLYENV || {};\n",
              "                    window.PLOTLYENV.BASE_URL='https://plot.ly';                                    if (document.getElementById(\"8a57338b-6600-4fc3-ba43-36e0b60e8758\")) {                    Plotly.newPlot(                        \"8a57338b-6600-4fc3-ba43-36e0b60e8758\",                        [{\"marker\":{\"color\":\"rgba(255, 153, 51, 0.6)\",\"line\":{\"color\":\"rgba(255, 153, 51, 1.0)\",\"width\":1}},\"name\":\"Count\",\"orientation\":\"v\",\"text\":\"\",\"x\":[\"ive seen\",\"look like\",\"special effect\",\"dont know\",\"movie like\",\"main character\",\"year old\",\"good movie\",\"horror movie\",\"film like\",\"waste time\",\"watch movie\",\"horror film\",\"bad movie\",\"make movie\",\"im sure\",\"dont think\",\"year ago\",\"low budget\",\"new york\"],\"y\":[2672,2418,1755,1739,1587,1514,1292,1238,1218,1163,1153,1139,1129,1068,1061,1059,1027,1006,1001,989],\"type\":\"bar\"}],                        {\"legend\":{\"bgcolor\":\"#F5F6F9\",\"font\":{\"color\":\"#4D5663\"}},\"paper_bgcolor\":\"#F5F6F9\",\"plot_bgcolor\":\"#F5F6F9\",\"template\":{\"data\":{\"barpolar\":[{\"marker\":{\"line\":{\"color\":\"#E5ECF6\",\"width\":0.5},\"pattern\":{\"fillmode\":\"overlay\",\"size\":10,\"solidity\":0.2}},\"type\":\"barpolar\"}],\"bar\":[{\"error_x\":{\"color\":\"#2a3f5f\"},\"error_y\":{\"color\":\"#2a3f5f\"},\"marker\":{\"line\":{\"color\":\"#E5ECF6\",\"width\":0.5},\"pattern\":{\"fillmode\":\"overlay\",\"size\":10,\"solidity\":0.2}},\"type\":\"bar\"}],\"carpet\":[{\"aaxis\":{\"endlinecolor\":\"#2a3f5f\",\"gridcolor\":\"white\",\"linecolor\":\"white\",\"minorgridcolor\":\"white\",\"startlinecolor\":\"#2a3f5f\"},\"baxis\":{\"endlinecolor\":\"#2a3f5f\",\"gridcolor\":\"white\",\"linecolor\":\"white\",\"minorgridcolor\":\"white\",\"startlinecolor\":\"#2a3f5f\"},\"type\":\"carpet\"}],\"choropleth\":[{\"colorbar\":{\"outlinewidth\":0,\"ticks\":\"\"},\"type\":\"choropleth\"}],\"contourcarpet\":[{\"colorbar\":{\"outlinewidth\":0,\"ticks\":\"\"},\"type\":\"contourcarpet\"}],\"contour\":[{\"colorbar\":{\"outlinewidth\":0,\"ticks\":\"\"},\"colorscale\":[[0.0,\"#0d0887\"],[0.1111111111111111,\"#46039f\"],[0.2222222222222222,\"#7201a8\"],[0.3333333333333333,\"#9c179e\"],[0.4444444444444444,\"#bd3786\"],[0.5555555555555556,\"#d8576b\"],[0.6666666666666666,\"#ed7953\"],[0.7777777777777778,\"#fb9f3a\"],[0.8888888888888888,\"#fdca26\"],[1.0,\"#f0f921\"]],\"type\":\"contour\"}],\"heatmapgl\":[{\"colorbar\":{\"outlinewidth\":0,\"ticks\":\"\"},\"colorscale\":[[0.0,\"#0d0887\"],[0.1111111111111111,\"#46039f\"],[0.2222222222222222,\"#7201a8\"],[0.3333333333333333,\"#9c179e\"],[0.4444444444444444,\"#bd3786\"],[0.5555555555555556,\"#d8576b\"],[0.6666666666666666,\"#ed7953\"],[0.7777777777777778,\"#fb9f3a\"],[0.8888888888888888,\"#fdca26\"],[1.0,\"#f0f921\"]],\"type\":\"heatmapgl\"}],\"heatmap\":[{\"colorbar\":{\"outlinewidth\":0,\"ticks\":\"\"},\"colorscale\":[[0.0,\"#0d0887\"],[0.1111111111111111,\"#46039f\"],[0.2222222222222222,\"#7201a8\"],[0.3333333333333333,\"#9c179e\"],[0.4444444444444444,\"#bd3786\"],[0.5555555555555556,\"#d8576b\"],[0.6666666666666666,\"#ed7953\"],[0.7777777777777778,\"#fb9f3a\"],[0.8888888888888888,\"#fdca26\"],[1.0,\"#f0f921\"]],\"type\":\"heatmap\"}],\"histogram2dcontour\":[{\"colorbar\":{\"outlinewidth\":0,\"ticks\":\"\"},\"colorscale\":[[0.0,\"#0d0887\"],[0.1111111111111111,\"#46039f\"],[0.2222222222222222,\"#7201a8\"],[0.3333333333333333,\"#9c179e\"],[0.4444444444444444,\"#bd3786\"],[0.5555555555555556,\"#d8576b\"],[0.6666666666666666,\"#ed7953\"],[0.7777777777777778,\"#fb9f3a\"],[0.8888888888888888,\"#fdca26\"],[1.0,\"#f0f921\"]],\"type\":\"histogram2dcontour\"}],\"histogram2d\":[{\"colorbar\":{\"outlinewidth\":0,\"ticks\":\"\"},\"colorscale\":[[0.0,\"#0d0887\"],[0.1111111111111111,\"#46039f\"],[0.2222222222222222,\"#7201a8\"],[0.3333333333333333,\"#9c179e\"],[0.4444444444444444,\"#bd3786\"],[0.5555555555555556,\"#d8576b\"],[0.6666666666666666,\"#ed7953\"],[0.7777777777777778,\"#fb9f3a\"],[0.8888888888888888,\"#fdca26\"],[1.0,\"#f0f921\"]],\"type\":\"histogram2d\"}],\"histogram\":[{\"marker\":{\"pattern\":{\"fillmode\":\"overlay\",\"size\":10,\"solidity\":0.2}},\"type\":\"histogram\"}],\"mesh3d\":[{\"colorbar\":{\"outlinewidth\":0,\"ticks\":\"\"},\"type\":\"mesh3d\"}],\"parcoords\":[{\"line\":{\"colorbar\":{\"outlinewidth\":0,\"ticks\":\"\"}},\"type\":\"parcoords\"}],\"pie\":[{\"automargin\":true,\"type\":\"pie\"}],\"scatter3d\":[{\"line\":{\"colorbar\":{\"outlinewidth\":0,\"ticks\":\"\"}},\"marker\":{\"colorbar\":{\"outlinewidth\":0,\"ticks\":\"\"}},\"type\":\"scatter3d\"}],\"scattercarpet\":[{\"marker\":{\"colorbar\":{\"outlinewidth\":0,\"ticks\":\"\"}},\"type\":\"scattercarpet\"}],\"scattergeo\":[{\"marker\":{\"colorbar\":{\"outlinewidth\":0,\"ticks\":\"\"}},\"type\":\"scattergeo\"}],\"scattergl\":[{\"marker\":{\"colorbar\":{\"outlinewidth\":0,\"ticks\":\"\"}},\"type\":\"scattergl\"}],\"scattermapbox\":[{\"marker\":{\"colorbar\":{\"outlinewidth\":0,\"ticks\":\"\"}},\"type\":\"scattermapbox\"}],\"scatterpolargl\":[{\"marker\":{\"colorbar\":{\"outlinewidth\":0,\"ticks\":\"\"}},\"type\":\"scatterpolargl\"}],\"scatterpolar\":[{\"marker\":{\"colorbar\":{\"outlinewidth\":0,\"ticks\":\"\"}},\"type\":\"scatterpolar\"}],\"scatter\":[{\"marker\":{\"colorbar\":{\"outlinewidth\":0,\"ticks\":\"\"}},\"type\":\"scatter\"}],\"scatterternary\":[{\"marker\":{\"colorbar\":{\"outlinewidth\":0,\"ticks\":\"\"}},\"type\":\"scatterternary\"}],\"surface\":[{\"colorbar\":{\"outlinewidth\":0,\"ticks\":\"\"},\"colorscale\":[[0.0,\"#0d0887\"],[0.1111111111111111,\"#46039f\"],[0.2222222222222222,\"#7201a8\"],[0.3333333333333333,\"#9c179e\"],[0.4444444444444444,\"#bd3786\"],[0.5555555555555556,\"#d8576b\"],[0.6666666666666666,\"#ed7953\"],[0.7777777777777778,\"#fb9f3a\"],[0.8888888888888888,\"#fdca26\"],[1.0,\"#f0f921\"]],\"type\":\"surface\"}],\"table\":[{\"cells\":{\"fill\":{\"color\":\"#EBF0F8\"},\"line\":{\"color\":\"white\"}},\"header\":{\"fill\":{\"color\":\"#C8D4E3\"},\"line\":{\"color\":\"white\"}},\"type\":\"table\"}]},\"layout\":{\"annotationdefaults\":{\"arrowcolor\":\"#2a3f5f\",\"arrowhead\":0,\"arrowwidth\":1},\"autotypenumbers\":\"strict\",\"coloraxis\":{\"colorbar\":{\"outlinewidth\":0,\"ticks\":\"\"}},\"colorscale\":{\"diverging\":[[0,\"#8e0152\"],[0.1,\"#c51b7d\"],[0.2,\"#de77ae\"],[0.3,\"#f1b6da\"],[0.4,\"#fde0ef\"],[0.5,\"#f7f7f7\"],[0.6,\"#e6f5d0\"],[0.7,\"#b8e186\"],[0.8,\"#7fbc41\"],[0.9,\"#4d9221\"],[1,\"#276419\"]],\"sequential\":[[0.0,\"#0d0887\"],[0.1111111111111111,\"#46039f\"],[0.2222222222222222,\"#7201a8\"],[0.3333333333333333,\"#9c179e\"],[0.4444444444444444,\"#bd3786\"],[0.5555555555555556,\"#d8576b\"],[0.6666666666666666,\"#ed7953\"],[0.7777777777777778,\"#fb9f3a\"],[0.8888888888888888,\"#fdca26\"],[1.0,\"#f0f921\"]],\"sequentialminus\":[[0.0,\"#0d0887\"],[0.1111111111111111,\"#46039f\"],[0.2222222222222222,\"#7201a8\"],[0.3333333333333333,\"#9c179e\"],[0.4444444444444444,\"#bd3786\"],[0.5555555555555556,\"#d8576b\"],[0.6666666666666666,\"#ed7953\"],[0.7777777777777778,\"#fb9f3a\"],[0.8888888888888888,\"#fdca26\"],[1.0,\"#f0f921\"]]},\"colorway\":[\"#636efa\",\"#EF553B\",\"#00cc96\",\"#ab63fa\",\"#FFA15A\",\"#19d3f3\",\"#FF6692\",\"#B6E880\",\"#FF97FF\",\"#FECB52\"],\"font\":{\"color\":\"#2a3f5f\"},\"geo\":{\"bgcolor\":\"white\",\"lakecolor\":\"white\",\"landcolor\":\"#E5ECF6\",\"showlakes\":true,\"showland\":true,\"subunitcolor\":\"white\"},\"hoverlabel\":{\"align\":\"left\"},\"hovermode\":\"closest\",\"mapbox\":{\"style\":\"light\"},\"paper_bgcolor\":\"white\",\"plot_bgcolor\":\"#E5ECF6\",\"polar\":{\"angularaxis\":{\"gridcolor\":\"white\",\"linecolor\":\"white\",\"ticks\":\"\"},\"bgcolor\":\"#E5ECF6\",\"radialaxis\":{\"gridcolor\":\"white\",\"linecolor\":\"white\",\"ticks\":\"\"}},\"scene\":{\"xaxis\":{\"backgroundcolor\":\"#E5ECF6\",\"gridcolor\":\"white\",\"gridwidth\":2,\"linecolor\":\"white\",\"showbackground\":true,\"ticks\":\"\",\"zerolinecolor\":\"white\"},\"yaxis\":{\"backgroundcolor\":\"#E5ECF6\",\"gridcolor\":\"white\",\"gridwidth\":2,\"linecolor\":\"white\",\"showbackground\":true,\"ticks\":\"\",\"zerolinecolor\":\"white\"},\"zaxis\":{\"backgroundcolor\":\"#E5ECF6\",\"gridcolor\":\"white\",\"gridwidth\":2,\"linecolor\":\"white\",\"showbackground\":true,\"ticks\":\"\",\"zerolinecolor\":\"white\"}},\"shapedefaults\":{\"line\":{\"color\":\"#2a3f5f\"}},\"ternary\":{\"aaxis\":{\"gridcolor\":\"white\",\"linecolor\":\"white\",\"ticks\":\"\"},\"baxis\":{\"gridcolor\":\"white\",\"linecolor\":\"white\",\"ticks\":\"\"},\"bgcolor\":\"#E5ECF6\",\"caxis\":{\"gridcolor\":\"white\",\"linecolor\":\"white\",\"ticks\":\"\"}},\"title\":{\"x\":0.05},\"xaxis\":{\"automargin\":true,\"gridcolor\":\"white\",\"linecolor\":\"white\",\"ticks\":\"\",\"title\":{\"standoff\":15},\"zerolinecolor\":\"white\",\"zerolinewidth\":2},\"yaxis\":{\"automargin\":true,\"gridcolor\":\"white\",\"linecolor\":\"white\",\"ticks\":\"\",\"title\":{\"standoff\":15},\"zerolinecolor\":\"white\",\"zerolinewidth\":2}}},\"title\":{\"font\":{\"color\":\"#4D5663\"},\"text\":\"The distribution of Top 20 Bigram\"},\"xaxis\":{\"gridcolor\":\"#E1E5ED\",\"linecolor\":\"black\",\"showgrid\":true,\"tickfont\":{\"color\":\"#4D5663\"},\"title\":{\"font\":{\"color\":\"#4D5663\"},\"text\":\"\"},\"zerolinecolor\":\"#E1E5ED\"},\"yaxis\":{\"gridcolor\":\"#E1E5ED\",\"linecolor\":\"black\",\"showgrid\":true,\"tickfont\":{\"color\":\"#4D5663\"},\"title\":{\"font\":{\"color\":\"#4D5663\"},\"text\":\"Count\"},\"zerolinecolor\":\"#E1E5ED\"}},                        {\"showLink\": true, \"linkText\": \"Export to plot.ly\", \"plotlyServerURL\": \"https://plot.ly\", \"responsive\": true}                    ).then(function(){\n",
              "                            \n",
              "var gd = document.getElementById('8a57338b-6600-4fc3-ba43-36e0b60e8758');\n",
              "var x = new MutationObserver(function (mutations, observer) {{\n",
              "        var display = window.getComputedStyle(gd).display;\n",
              "        if (!display || display === 'none') {{\n",
              "            console.log([gd, 'removed!']);\n",
              "            Plotly.purge(gd);\n",
              "            observer.disconnect();\n",
              "        }}\n",
              "}});\n",
              "\n",
              "// Listen for the removal of the full notebook cells\n",
              "var notebookContainer = gd.closest('#notebook-container');\n",
              "if (notebookContainer) {{\n",
              "    x.observe(notebookContainer, {childList: true});\n",
              "}}\n",
              "\n",
              "// Listen for the clearing of the current output cell\n",
              "var outputEl = gd.closest('.output');\n",
              "if (outputEl) {{\n",
              "    x.observe(outputEl, {childList: true});\n",
              "}}\n",
              "\n",
              "                        })                };                });            </script>        </div>"
            ]
          },
          "metadata": {}
        }
      ]
    },
    {
      "cell_type": "markdown",
      "source": [
        "#### splitting into train and test"
      ],
      "metadata": {
        "id": "xW2A3FkSn0Zi"
      }
    },
    {
      "cell_type": "code",
      "source": [
        "#splitting into x_train and y_train\n",
        "x_train = train_df['text']\n",
        "y_train = train_df['label']"
      ],
      "metadata": {
        "id": "WJOCFxWMmrCE"
      },
      "execution_count": 34,
      "outputs": []
    },
    {
      "cell_type": "code",
      "source": [
        "x_test = test_df['text']\n",
        "y_test = test_df['label']"
      ],
      "metadata": {
        "id": "frFW8gAB3AKC"
      },
      "execution_count": 51,
      "outputs": []
    },
    {
      "cell_type": "code",
      "source": [
        "corpus = []\n",
        "for text in train_df['text']:\n",
        "  words = [word.lower() for word in nltk.word_tokenize(text)]\n",
        "  corpus.append(words)"
      ],
      "metadata": {
        "id": "2hxxjpo2n7n1"
      },
      "execution_count": 35,
      "outputs": []
    },
    {
      "cell_type": "code",
      "source": [
        "num_words = len(corpus)"
      ],
      "metadata": {
        "id": "pQoG294Mz4Ek"
      },
      "execution_count": 36,
      "outputs": []
    },
    {
      "cell_type": "code",
      "source": [
        "from keras.preprocessing.text import Tokenizer\n",
        "from keras.preprocessing.sequence import pad_sequences\n",
        "tokenizer = Tokenizer(num_words)\n",
        "tokenizer.fit_on_texts(x_train)\n",
        "x_train = tokenizer.texts_to_sequences(x_train)\n",
        "x_train = pad_sequences(x_train,maxlen = 1000,padding='post',truncating='post')"
      ],
      "metadata": {
        "id": "4a804HA-zjeb"
      },
      "execution_count": 37,
      "outputs": []
    },
    {
      "cell_type": "code",
      "source": [
        "x_test = tokenizer.texts_to_sequences(x_test)\n",
        "x_train = pad_sequences(x_train,maxlen = 1000,padding='post',truncating='post')"
      ],
      "metadata": {
        "id": "6kC6Qu7OXGko"
      },
      "execution_count": 38,
      "outputs": []
    },
    {
      "cell_type": "markdown",
      "source": [
        "#### LSTM"
      ],
      "metadata": {
        "id": "jy26GrB5s-UF"
      }
    },
    {
      "cell_type": "code",
      "source": [
        "model_lstm = tf.keras.Sequential()\n",
        "model_lstm.add(tf.keras.layers.Embedding(input_dim=num_words,output_dim=100,input_length=1000,trainable=True))\n",
        "\n",
        "#model.add(LSTM(100,dropout=0.2,return_sequences=True))\n",
        "\n",
        "model_lstm.add(tf.keras.layers.LSTM(units = 100, return_sequences=True)) \n",
        "model_lstm.add(Dropout(0.2))\n",
        "\n",
        "model_lstm.add(tf.keras.layers.LSTM(units = 100, return_sequences=True)) \n",
        "model_lstm.add(Dropout(0.2))\n",
        "\n",
        "model_lstm.add(tf.keras.layers.LSTM(units = 100, return_sequences=True)) \n",
        "model_lstm.add(Dropout(0.2))\n",
        "\n",
        "model_lstm.add(tf.keras.layers.LSTM(units = 100, return_sequences=True)) \n",
        "model_lstm.add(Dropout(0.2))\n",
        "\n",
        "model_lstm.add(tf.keras.layers.LSTM(units = 100, return_sequences=True)) \n",
        "model_lstm.add(Dropout(0.2))\n",
        "\n",
        "model_lstm.add(tf.keras.layers.LSTM(units = 100, return_sequences=True)) \n",
        "model_lstm.add(Dropout(0.2))\n",
        "\n",
        "model_lstm.add(tf.keras.layers.LSTM(units = 100, return_sequences=True)) \n",
        "model_lstm.add(Dropout(0.2))\n",
        "\n",
        "model_lstm.add(tf.keras.layers.LSTM(units = 100, return_sequences=True)) \n",
        "model_lstm.add(Dropout(0.2))\n",
        "\n",
        "model_lstm.add(tf.keras.layers.LSTM(units = 100, return_sequences=True)) \n",
        "model_lstm.add(Dropout(0.2))\n",
        "\n",
        "model_lstm.add(tf.keras.layers.LSTM(units = 100, return_sequences=True)) \n",
        "model_lstm.add(Dropout(0.2))\n",
        "\n",
        "model_lstm.add(tf.keras.layers.LSTM(units = 100, return_sequences=True)) \n",
        "model_lstm.add(Dropout(0.2))\n",
        "\n",
        "model_lstm.add(tf.keras.layers.LSTM(units = 100, return_sequences=True)) \n",
        "model_lstm.add(Dropout(0.2))\n",
        "\n",
        "model_lstm.add(tf.keras.layers.LSTM(units = 100, return_sequences=True)) \n",
        "model_lstm.add(Dropout(0.2))\n",
        "\n",
        "model_lstm.add(tf.keras.layers.LSTM(units = 100, return_sequences=True)) \n",
        "model_lstm.add(Dropout(0.2))\n",
        "\n",
        "model_lstm.add(tf.keras.layers.LSTM(units = 100, return_sequences=True)) \n",
        "model_lstm.add(Dropout(0.2))\n",
        "\n",
        "model_lstm.add(tf.keras.layers.LSTM(units = 100)) \n",
        "model_lstm.add(Dropout(0.2))\n",
        "\n",
        "model_lstm.add(Dense(units=1,activation='sigmoid'))\n",
        "\n",
        "model_lstm.compile(loss='binary_crossentropy',optimizer='adam',metrics=['accuracy'])\n",
        "model_lstm.summary()"
      ],
      "metadata": {
        "colab": {
          "base_uri": "https://localhost:8080/"
        },
        "id": "55bosBMhwGJx",
        "outputId": "9b197169-bf51-4993-8e94-80529ce86357"
      },
      "execution_count": 39,
      "outputs": [
        {
          "output_type": "stream",
          "name": "stdout",
          "text": [
            "Model: \"sequential\"\n",
            "_________________________________________________________________\n",
            " Layer (type)                Output Shape              Param #   \n",
            "=================================================================\n",
            " embedding (Embedding)       (None, 1000, 100)         4000000   \n",
            "                                                                 \n",
            " lstm (LSTM)                 (None, 1000, 100)         80400     \n",
            "                                                                 \n",
            " dropout (Dropout)           (None, 1000, 100)         0         \n",
            "                                                                 \n",
            " lstm_1 (LSTM)               (None, 1000, 100)         80400     \n",
            "                                                                 \n",
            " dropout_1 (Dropout)         (None, 1000, 100)         0         \n",
            "                                                                 \n",
            " lstm_2 (LSTM)               (None, 1000, 100)         80400     \n",
            "                                                                 \n",
            " dropout_2 (Dropout)         (None, 1000, 100)         0         \n",
            "                                                                 \n",
            " lstm_3 (LSTM)               (None, 1000, 100)         80400     \n",
            "                                                                 \n",
            " dropout_3 (Dropout)         (None, 1000, 100)         0         \n",
            "                                                                 \n",
            " lstm_4 (LSTM)               (None, 1000, 100)         80400     \n",
            "                                                                 \n",
            " dropout_4 (Dropout)         (None, 1000, 100)         0         \n",
            "                                                                 \n",
            " lstm_5 (LSTM)               (None, 1000, 100)         80400     \n",
            "                                                                 \n",
            " dropout_5 (Dropout)         (None, 1000, 100)         0         \n",
            "                                                                 \n",
            " lstm_6 (LSTM)               (None, 1000, 100)         80400     \n",
            "                                                                 \n",
            " dropout_6 (Dropout)         (None, 1000, 100)         0         \n",
            "                                                                 \n",
            " lstm_7 (LSTM)               (None, 1000, 100)         80400     \n",
            "                                                                 \n",
            " dropout_7 (Dropout)         (None, 1000, 100)         0         \n",
            "                                                                 \n",
            " lstm_8 (LSTM)               (None, 1000, 100)         80400     \n",
            "                                                                 \n",
            " dropout_8 (Dropout)         (None, 1000, 100)         0         \n",
            "                                                                 \n",
            " lstm_9 (LSTM)               (None, 1000, 100)         80400     \n",
            "                                                                 \n",
            " dropout_9 (Dropout)         (None, 1000, 100)         0         \n",
            "                                                                 \n",
            " lstm_10 (LSTM)              (None, 1000, 100)         80400     \n",
            "                                                                 \n",
            " dropout_10 (Dropout)        (None, 1000, 100)         0         \n",
            "                                                                 \n",
            " lstm_11 (LSTM)              (None, 1000, 100)         80400     \n",
            "                                                                 \n",
            " dropout_11 (Dropout)        (None, 1000, 100)         0         \n",
            "                                                                 \n",
            " lstm_12 (LSTM)              (None, 1000, 100)         80400     \n",
            "                                                                 \n",
            " dropout_12 (Dropout)        (None, 1000, 100)         0         \n",
            "                                                                 \n",
            " lstm_13 (LSTM)              (None, 1000, 100)         80400     \n",
            "                                                                 \n",
            " dropout_13 (Dropout)        (None, 1000, 100)         0         \n",
            "                                                                 \n",
            " lstm_14 (LSTM)              (None, 1000, 100)         80400     \n",
            "                                                                 \n",
            " dropout_14 (Dropout)        (None, 1000, 100)         0         \n",
            "                                                                 \n",
            " lstm_15 (LSTM)              (None, 100)               80400     \n",
            "                                                                 \n",
            " dropout_15 (Dropout)        (None, 100)               0         \n",
            "                                                                 \n",
            " dense (Dense)               (None, 1)                 101       \n",
            "                                                                 \n",
            "=================================================================\n",
            "Total params: 5,286,501\n",
            "Trainable params: 5,286,501\n",
            "Non-trainable params: 0\n",
            "_________________________________________________________________\n"
          ]
        }
      ]
    },
    {
      "cell_type": "code",
      "source": [
        "plot_model(model_lstm, show_shapes=True, show_layer_names=True)"
      ],
      "metadata": {
        "colab": {
          "base_uri": "https://localhost:8080/",
          "height": 1000
        },
        "id": "ag5GwnKBjwh3",
        "outputId": "2febef2a-2569-4364-f358-275220b9eb98"
      },
      "execution_count": 40,
      "outputs": [
        {
          "output_type": "execute_result",
          "data": {
            "image/png": "[encoded data removed]",
            "text/plain": [
              "<IPython.core.display.Image object>"
            ]
          },
          "metadata": {},
          "execution_count": 40
        }
      ]
    },
    {
      "cell_type": "code",
      "source": [
        "model_lstm.fit(x_train, y_train,batch_size = 64)"
      ],
      "metadata": {
        "colab": {
          "base_uri": "https://localhost:8080/"
        },
        "id": "C_L8u1SOZtBX",
        "outputId": "503d897f-ca5f-4189-8562-f161defd6053"
      },
      "execution_count": 41,
      "outputs": [
        {
          "output_type": "stream",
          "name": "stdout",
          "text": [
            "625/625 [==============================] - 422s 643ms/step - loss: 0.6936 - accuracy: 0.4959\n"
          ]
        },
        {
          "output_type": "execute_result",
          "data": {
            "text/plain": [
              "<keras.callbacks.History at 0x7fc11adce210>"
            ]
          },
          "metadata": {},
          "execution_count": 41
        }
      ]
    },
    {
      "cell_type": "code",
      "source": [
        "score, acc = model_lstm.evaluate(x_test, y_test,batch_size=64)"
      ],
      "metadata": {
        "colab": {
          "base_uri": "https://localhost:8080/",
          "height": 1000
        },
        "id": "PeQHmY6klIsP",
        "outputId": "9baf7318-bf44-4301-ad1b-80ebc6d9dfde"
      },
      "execution_count": 53,
      "outputs": [
        {
          "output_type": "stream",
          "name": "stderr",
          "text": [
            "WARNING:tensorflow:Model was constructed with shape (None, 1000) for input KerasTensor(type_spec=TensorSpec(shape=(None, 1000), dtype=tf.float32, name='embedding_input'), name='embedding_input', description=\"created by layer 'embedding_input'\"), but it was called on an input with incompatible shape (None, 1).\n"
          ]
        },
        {
          "output_type": "error",
          "ename": "UnimplementedError",
          "evalue": "ignored",
          "traceback": [
            "\u001b[0;31m---------------------------------------------------------------------------\u001b[0m",
            "\u001b[0;31mUnimplementedError\u001b[0m                        Traceback (most recent call last)",
            "\u001b[0;32m<ipython-input-53-f25b9d242e6d>\u001b[0m in \u001b[0;36m<module>\u001b[0;34m\u001b[0m\n\u001b[0;32m----> 1\u001b[0;31m \u001b[0mscore\u001b[0m\u001b[0;34m,\u001b[0m \u001b[0macc\u001b[0m \u001b[0;34m=\u001b[0m \u001b[0mmodel_lstm\u001b[0m\u001b[0;34m.\u001b[0m\u001b[0mevaluate\u001b[0m\u001b[0;34m(\u001b[0m\u001b[0mx_test\u001b[0m\u001b[0;34m,\u001b[0m \u001b[0my_test\u001b[0m\u001b[0;34m,\u001b[0m\u001b[0mbatch_size\u001b[0m\u001b[0;34m=\u001b[0m\u001b[0;36m64\u001b[0m\u001b[0;34m)\u001b[0m\u001b[0;34m\u001b[0m\u001b[0;34m\u001b[0m\u001b[0m\n\u001b[0m",
            "\u001b[0;32m/usr/local/lib/python3.7/dist-packages/keras/utils/traceback_utils.py\u001b[0m in \u001b[0;36merror_handler\u001b[0;34m(*args, **kwargs)\u001b[0m\n\u001b[1;32m     65\u001b[0m     \u001b[0;32mexcept\u001b[0m \u001b[0mException\u001b[0m \u001b[0;32mas\u001b[0m \u001b[0me\u001b[0m\u001b[0;34m:\u001b[0m  \u001b[0;31m# pylint: disable=broad-except\u001b[0m\u001b[0;34m\u001b[0m\u001b[0;34m\u001b[0m\u001b[0m\n\u001b[1;32m     66\u001b[0m       \u001b[0mfiltered_tb\u001b[0m \u001b[0;34m=\u001b[0m \u001b[0m_process_traceback_frames\u001b[0m\u001b[0;34m(\u001b[0m\u001b[0me\u001b[0m\u001b[0;34m.\u001b[0m\u001b[0m__traceback__\u001b[0m\u001b[0;34m)\u001b[0m\u001b[0;34m\u001b[0m\u001b[0;34m\u001b[0m\u001b[0m\n\u001b[0;32m---> 67\u001b[0;31m       \u001b[0;32mraise\u001b[0m \u001b[0me\u001b[0m\u001b[0;34m.\u001b[0m\u001b[0mwith_traceback\u001b[0m\u001b[0;34m(\u001b[0m\u001b[0mfiltered_tb\u001b[0m\u001b[0;34m)\u001b[0m \u001b[0;32mfrom\u001b[0m \u001b[0;32mNone\u001b[0m\u001b[0;34m\u001b[0m\u001b[0;34m\u001b[0m\u001b[0m\n\u001b[0m\u001b[1;32m     68\u001b[0m     \u001b[0;32mfinally\u001b[0m\u001b[0;34m:\u001b[0m\u001b[0;34m\u001b[0m\u001b[0;34m\u001b[0m\u001b[0m\n\u001b[1;32m     69\u001b[0m       \u001b[0;32mdel\u001b[0m \u001b[0mfiltered_tb\u001b[0m\u001b[0;34m\u001b[0m\u001b[0;34m\u001b[0m\u001b[0m\n",
            "\u001b[0;32m/usr/local/lib/python3.7/dist-packages/tensorflow/python/eager/execute.py\u001b[0m in \u001b[0;36mquick_execute\u001b[0;34m(op_name, num_outputs, inputs, attrs, ctx, name)\u001b[0m\n\u001b[1;32m     53\u001b[0m     \u001b[0mctx\u001b[0m\u001b[0;34m.\u001b[0m\u001b[0mensure_initialized\u001b[0m\u001b[0;34m(\u001b[0m\u001b[0;34m)\u001b[0m\u001b[0;34m\u001b[0m\u001b[0;34m\u001b[0m\u001b[0m\n\u001b[1;32m     54\u001b[0m     tensors = pywrap_tfe.TFE_Py_Execute(ctx._handle, device_name, op_name,\n\u001b[0;32m---> 55\u001b[0;31m                                         inputs, attrs, num_outputs)\n\u001b[0m\u001b[1;32m     56\u001b[0m   \u001b[0;32mexcept\u001b[0m \u001b[0mcore\u001b[0m\u001b[0;34m.\u001b[0m\u001b[0m_NotOkStatusException\u001b[0m \u001b[0;32mas\u001b[0m \u001b[0me\u001b[0m\u001b[0;34m:\u001b[0m\u001b[0;34m\u001b[0m\u001b[0;34m\u001b[0m\u001b[0m\n\u001b[1;32m     57\u001b[0m     \u001b[0;32mif\u001b[0m \u001b[0mname\u001b[0m \u001b[0;32mis\u001b[0m \u001b[0;32mnot\u001b[0m \u001b[0;32mNone\u001b[0m\u001b[0;34m:\u001b[0m\u001b[0;34m\u001b[0m\u001b[0;34m\u001b[0m\u001b[0m\n",
            "\u001b[0;31mUnimplementedError\u001b[0m: Graph execution error:\n\nDetected at node 'sequential/Cast' defined at (most recent call last):\n    File \"/usr/lib/python3.7/runpy.py\", line 193, in _run_module_as_main\n      \"__main__\", mod_spec)\n    File \"/usr/lib/python3.7/runpy.py\", line 85, in _run_code\n      exec(code, run_globals)\n    File \"/usr/local/lib/python3.7/dist-packages/ipykernel_launcher.py\", line 16, in <module>\n      app.launch_new_instance()\n    File \"/usr/local/lib/python3.7/dist-packages/traitlets/config/application.py\", line 846, in launch_instance\n      app.start()\n    File \"/usr/local/lib/python3.7/dist-packages/ipykernel/kernelapp.py\", line 612, in start\n      self.io_loop.start()\n    File \"/usr/local/lib/python3.7/dist-packages/tornado/platform/asyncio.py\", line 132, in start\n      self.asyncio_loop.run_forever()\n    File \"/usr/lib/python3.7/asyncio/base_events.py\", line 541, in run_forever\n      self._run_once()\n    File \"/usr/lib/python3.7/asyncio/base_events.py\", line 1786, in _run_once\n      handle._run()\n    File \"/usr/lib/python3.7/asyncio/events.py\", line 88, in _run\n      self._context.run(self._callback, *self._args)\n    File \"/usr/local/lib/python3.7/dist-packages/tornado/ioloop.py\", line 758, in _run_callback\n      ret = callback()\n    File \"/usr/local/lib/python3.7/dist-packages/tornado/stack_context.py\", line 300, in null_wrapper\n      return fn(*args, **kwargs)\n    File \"/usr/local/lib/python3.7/dist-packages/tornado/gen.py\", line 1233, in inner\n      self.run()\n    File \"/usr/local/lib/python3.7/dist-packages/tornado/gen.py\", line 1147, in run\n      yielded = self.gen.send(value)\n    File \"/usr/local/lib/python3.7/dist-packages/ipykernel/kernelbase.py\", line 365, in process_one\n      yield gen.maybe_future(dispatch(*args))\n    File \"/usr/local/lib/python3.7/dist-packages/tornado/gen.py\", line 326, in wrapper\n      yielded = next(result)\n    File \"/usr/local/lib/python3.7/dist-packages/ipykernel/kernelbase.py\", line 268, in dispatch_shell\n      yield gen.maybe_future(handler(stream, idents, msg))\n    File \"/usr/local/lib/python3.7/dist-packages/tornado/gen.py\", line 326, in wrapper\n      yielded = next(result)\n    File \"/usr/local/lib/python3.7/dist-packages/ipykernel/kernelbase.py\", line 545, in execute_request\n      user_expressions, allow_stdin,\n    File \"/usr/local/lib/python3.7/dist-packages/tornado/gen.py\", line 326, in wrapper\n      yielded = next(result)\n    File \"/usr/local/lib/python3.7/dist-packages/ipykernel/ipkernel.py\", line 306, in do_execute\n      res = shell.run_cell(code, store_history=store_history, silent=silent)\n    File \"/usr/local/lib/python3.7/dist-packages/ipykernel/zmqshell.py\", line 536, in run_cell\n      return super(ZMQInteractiveShell, self).run_cell(*args, **kwargs)\n    File \"/usr/local/lib/python3.7/dist-packages/IPython/core/interactiveshell.py\", line 2855, in run_cell\n      raw_cell, store_history, silent, shell_futures)\n    File \"/usr/local/lib/python3.7/dist-packages/IPython/core/interactiveshell.py\", line 2881, in _run_cell\n      return runner(coro)\n    File \"/usr/local/lib/python3.7/dist-packages/IPython/core/async_helpers.py\", line 68, in _pseudo_sync_runner\n      coro.send(None)\n    File \"/usr/local/lib/python3.7/dist-packages/IPython/core/interactiveshell.py\", line 3058, in run_cell_async\n      interactivity=interactivity, compiler=compiler, result=result)\n    File \"/usr/local/lib/python3.7/dist-packages/IPython/core/interactiveshell.py\", line 3249, in run_ast_nodes\n      if (await self.run_code(code, result,  async_=asy)):\n    File \"/usr/local/lib/python3.7/dist-packages/IPython/core/interactiveshell.py\", line 3326, in run_code\n      exec(code_obj, self.user_global_ns, self.user_ns)\n    File \"<ipython-input-53-f25b9d242e6d>\", line 1, in <module>\n      score, acc = model_lstm.evaluate(x_test, y_test,batch_size=64)\n    File \"/usr/local/lib/python3.7/dist-packages/keras/utils/traceback_utils.py\", line 64, in error_handler\n      return fn(*args, **kwargs)\n    File \"/usr/local/lib/python3.7/dist-packages/keras/engine/training.py\", line 1716, in evaluate\n      tmp_logs = self.test_function(iterator)\n    File \"/usr/local/lib/python3.7/dist-packages/keras/engine/training.py\", line 1525, in test_function\n      return step_function(self, iterator)\n    File \"/usr/local/lib/python3.7/dist-packages/keras/engine/training.py\", line 1514, in step_function\n      outputs = model.distribute_strategy.run(run_step, args=(data,))\n    File \"/usr/local/lib/python3.7/dist-packages/keras/engine/training.py\", line 1507, in run_step\n      outputs = model.test_step(data)\n    File \"/usr/local/lib/python3.7/dist-packages/keras/engine/training.py\", line 1471, in test_step\n      y_pred = self(x, training=False)\n    File \"/usr/local/lib/python3.7/dist-packages/keras/utils/traceback_utils.py\", line 64, in error_handler\n      return fn(*args, **kwargs)\n    File \"/usr/local/lib/python3.7/dist-packages/keras/engine/base_layer.py\", line 1096, in __call__\n      outputs = call_fn(inputs, *args, **kwargs)\n    File \"/usr/local/lib/python3.7/dist-packages/keras/utils/traceback_utils.py\", line 92, in error_handler\n      return fn(*args, **kwargs)\n    File \"/usr/local/lib/python3.7/dist-packages/keras/engine/sequential.py\", line 374, in call\n      return super(Sequential, self).call(inputs, training=training, mask=mask)\n    File \"/usr/local/lib/python3.7/dist-packages/keras/engine/functional.py\", line 452, in call\n      inputs, training=training, mask=mask)\n    File \"/usr/local/lib/python3.7/dist-packages/keras/engine/functional.py\", line 571, in _run_internal_graph\n      y = self._conform_to_reference_input(y, ref_input=x)\n    File \"/usr/local/lib/python3.7/dist-packages/keras/engine/functional.py\", line 671, in _conform_to_reference_input\n      tensor = tf.cast(tensor, dtype=ref_input.dtype)\nNode: 'sequential/Cast'\n2 root error(s) found.\n  (0) UNIMPLEMENTED:  Cast string to float is not supported\n\t [[{{node sequential/Cast}}]]\n  (1) CANCELLED:  Function was cancelled before it was started\n0 successful operations.\n0 derived errors ignored. [Op:__inference_test_function_80277]"
          ]
        }
      ]
    },
    {
      "cell_type": "code",
      "source": [
        "print(\"score:\",score)\n",
        "print(\"Accuracy:\",acc)"
      ],
      "metadata": {
        "id": "0-46NKic6f_x"
      },
      "execution_count": null,
      "outputs": []
    },
    {
      "cell_type": "markdown",
      "source": [
        "#### BidRNN"
      ],
      "metadata": {
        "id": "LGPEAGPcbLbo"
      }
    },
    {
      "cell_type": "code",
      "source": [
        "model_brnn = Sequential()\n",
        "model_brnn.add(tf.keras.layers.Embedding(input_dim=num_words,output_dim=100,input_length=1000,trainable=True))\n",
        "\n",
        "model_brnn.add(Bidirectional(SimpleRNN(units = 100, activation = \"tanh\", return_sequences = True)))\n",
        "model_brnn.add(Dropout(0.2))\n",
        "\n",
        "model_brnn.add(Bidirectional(SimpleRNN(units = 100, activation = \"tanh\", return_sequences = True)))\n",
        "model_brnn.add(Dropout(0.2))\n",
        "\n",
        "model_brnn.add(Bidirectional(SimpleRNN(units = 100, activation = \"tanh\", return_sequences = True)))\n",
        "model_brnn.add(Dropout(0.2))\n",
        "\n",
        "model_brnn.add(Bidirectional(SimpleRNN(units = 100, activation = \"tanh\", return_sequences = True)))\n",
        "model_brnn.add(Dropout(0.2))\n",
        "\n",
        "model_brnn.add(Bidirectional(SimpleRNN(units = 100, activation = \"tanh\", return_sequences = True)))\n",
        "model_brnn.add(Dropout(0.2))\n",
        "\n",
        "model_brnn.add(Bidirectional(SimpleRNN(units = 100, activation = \"tanh\", return_sequences = True)))\n",
        "model_brnn.add(Dropout(0.2))\n",
        "\n",
        "model_brnn.add(Bidirectional(SimpleRNN(units = 100, activation = \"tanh\", return_sequences = True)))\n",
        "model_brnn.add(Dropout(0.2))\n",
        "\n",
        "model_brnn.add(Bidirectional(SimpleRNN(units = 100, activation = \"tanh\", return_sequences = True)))\n",
        "model_brnn.add(Dropout(0.2))\n",
        "\n",
        "model_brnn.add(Bidirectional(SimpleRNN(units = 100, activation = \"tanh\", return_sequences = True)))\n",
        "model_brnn.add(Dropout(0.2))\n",
        "\n",
        "model_brnn.add(Bidirectional(SimpleRNN(units = 100, activation = \"tanh\", return_sequences = True)))\n",
        "model_brnn.add(Dropout(0.2))\n",
        "\n",
        "model_brnn.add(Bidirectional(SimpleRNN(units = 100, activation = \"tanh\", return_sequences = True)))\n",
        "model_brnn.add(Dropout(0.2))\n",
        "\n",
        "model_brnn.add(Bidirectional(SimpleRNN(units = 100, activation = \"tanh\", return_sequences = True)))\n",
        "model_brnn.add(Dropout(0.2))\n",
        "\n",
        "model_brnn.add(Bidirectional(SimpleRNN(units = 100, activation = \"tanh\", return_sequences = True)))\n",
        "model_brnn.add(Dropout(0.2))\n",
        "\n",
        "model_brnn.add(Bidirectional(SimpleRNN(units = 100, activation = \"tanh\", return_sequences = True)))\n",
        "model_brnn.add(Dropout(0.2))\n",
        "\n",
        "model_brnn.add(Bidirectional(SimpleRNN(units = 100, activation = \"tanh\", return_sequences = True)))\n",
        "model_brnn.add(Dropout(0.2))\n",
        "\n",
        "model_brnn.add(Bidirectional(SimpleRNN(units = 100, activation = \"tanh\", return_sequences = True)))\n",
        "model_brnn.add(Dropout(0.2))\n",
        "\n",
        "model_brnn.add(Bidirectional(SimpleRNN(units = 100, activation = \"tanh\", return_sequences = True)))\n",
        "model_brnn.add(Dropout(0.2))\n",
        "\n",
        "model_brnn.add(Bidirectional(SimpleRNN(units = 100, activation = \"tanh\", return_sequences = True)))\n",
        "model_brnn.add(Dropout(0.2))\n",
        "\n",
        "model_brnn.add(Bidirectional(SimpleRNN(units = 100, activation = \"tanh\", return_sequences = True)))\n",
        "model_brnn.add(Dropout(0.2))\n",
        "\n",
        "model_brnn.add(Bidirectional(SimpleRNN(units = 100, activation = \"tanh\", return_sequences = True)))\n",
        "model_brnn.add(Dropout(0.2))\n",
        "\n",
        "model_brnn.add(Dense(units=1,activation='sigmoid'))\n",
        "\n",
        "model_brnn.compile(loss='binary_crossentropy',optimizer='adam',metrics=['accuracy'])\n",
        "model_brnn.summary()"
      ],
      "metadata": {
        "colab": {
          "base_uri": "https://localhost:8080/"
        },
        "id": "5qmNXQtLbQEw",
        "outputId": "55143caa-3df0-426a-98ad-fb924c9d29b0"
      },
      "execution_count": 43,
      "outputs": [
        {
          "output_type": "stream",
          "name": "stdout",
          "text": [
            "Model: \"sequential_1\"\n",
            "_________________________________________________________________\n",
            " Layer (type)                Output Shape              Param #   \n",
            "=================================================================\n",
            " embedding_1 (Embedding)     (None, 1000, 100)         4000000   \n",
            "                                                                 \n",
            " bidirectional (Bidirectiona  (None, 1000, 200)        40200     \n",
            " l)                                                              \n",
            "                                                                 \n",
            " dropout_16 (Dropout)        (None, 1000, 200)         0         \n",
            "                                                                 \n",
            " bidirectional_1 (Bidirectio  (None, 1000, 200)        60200     \n",
            " nal)                                                            \n",
            "                                                                 \n",
            " dropout_17 (Dropout)        (None, 1000, 200)         0         \n",
            "                                                                 \n",
            " bidirectional_2 (Bidirectio  (None, 1000, 200)        60200     \n",
            " nal)                                                            \n",
            "                                                                 \n",
            " dropout_18 (Dropout)        (None, 1000, 200)         0         \n",
            "                                                                 \n",
            " bidirectional_3 (Bidirectio  (None, 1000, 200)        60200     \n",
            " nal)                                                            \n",
            "                                                                 \n",
            " dropout_19 (Dropout)        (None, 1000, 200)         0         \n",
            "                                                                 \n",
            " bidirectional_4 (Bidirectio  (None, 1000, 200)        60200     \n",
            " nal)                                                            \n",
            "                                                                 \n",
            " dropout_20 (Dropout)        (None, 1000, 200)         0         \n",
            "                                                                 \n",
            " bidirectional_5 (Bidirectio  (None, 1000, 200)        60200     \n",
            " nal)                                                            \n",
            "                                                                 \n",
            " dropout_21 (Dropout)        (None, 1000, 200)         0         \n",
            "                                                                 \n",
            " bidirectional_6 (Bidirectio  (None, 1000, 200)        60200     \n",
            " nal)                                                            \n",
            "                                                                 \n",
            " dropout_22 (Dropout)        (None, 1000, 200)         0         \n",
            "                                                                 \n",
            " bidirectional_7 (Bidirectio  (None, 1000, 200)        60200     \n",
            " nal)                                                            \n",
            "                                                                 \n",
            " dropout_23 (Dropout)        (None, 1000, 200)         0         \n",
            "                                                                 \n",
            " bidirectional_8 (Bidirectio  (None, 1000, 200)        60200     \n",
            " nal)                                                            \n",
            "                                                                 \n",
            " dropout_24 (Dropout)        (None, 1000, 200)         0         \n",
            "                                                                 \n",
            " bidirectional_9 (Bidirectio  (None, 1000, 200)        60200     \n",
            " nal)                                                            \n",
            "                                                                 \n",
            " dropout_25 (Dropout)        (None, 1000, 200)         0         \n",
            "                                                                 \n",
            " bidirectional_10 (Bidirecti  (None, 1000, 200)        60200     \n",
            " onal)                                                           \n",
            "                                                                 \n",
            " dropout_26 (Dropout)        (None, 1000, 200)         0         \n",
            "                                                                 \n",
            " bidirectional_11 (Bidirecti  (None, 1000, 200)        60200     \n",
            " onal)                                                           \n",
            "                                                                 \n",
            " dropout_27 (Dropout)        (None, 1000, 200)         0         \n",
            "                                                                 \n",
            " bidirectional_12 (Bidirecti  (None, 1000, 200)        60200     \n",
            " onal)                                                           \n",
            "                                                                 \n",
            " dropout_28 (Dropout)        (None, 1000, 200)         0         \n",
            "                                                                 \n",
            " bidirectional_13 (Bidirecti  (None, 1000, 200)        60200     \n",
            " onal)                                                           \n",
            "                                                                 \n",
            " dropout_29 (Dropout)        (None, 1000, 200)         0         \n",
            "                                                                 \n",
            " bidirectional_14 (Bidirecti  (None, 1000, 200)        60200     \n",
            " onal)                                                           \n",
            "                                                                 \n",
            " dropout_30 (Dropout)        (None, 1000, 200)         0         \n",
            "                                                                 \n",
            " bidirectional_15 (Bidirecti  (None, 1000, 200)        60200     \n",
            " onal)                                                           \n",
            "                                                                 \n",
            " dropout_31 (Dropout)        (None, 1000, 200)         0         \n",
            "                                                                 \n",
            " bidirectional_16 (Bidirecti  (None, 1000, 200)        60200     \n",
            " onal)                                                           \n",
            "                                                                 \n",
            " dropout_32 (Dropout)        (None, 1000, 200)         0         \n",
            "                                                                 \n",
            " bidirectional_17 (Bidirecti  (None, 1000, 200)        60200     \n",
            " onal)                                                           \n",
            "                                                                 \n",
            " dropout_33 (Dropout)        (None, 1000, 200)         0         \n",
            "                                                                 \n",
            " bidirectional_18 (Bidirecti  (None, 1000, 200)        60200     \n",
            " onal)                                                           \n",
            "                                                                 \n",
            " dropout_34 (Dropout)        (None, 1000, 200)         0         \n",
            "                                                                 \n",
            " bidirectional_19 (Bidirecti  (None, 1000, 200)        60200     \n",
            " onal)                                                           \n",
            "                                                                 \n",
            " dropout_35 (Dropout)        (None, 1000, 200)         0         \n",
            "                                                                 \n",
            " dense_1 (Dense)             (None, 1000, 1)           201       \n",
            "                                                                 \n",
            "=================================================================\n",
            "Total params: 5,184,201\n",
            "Trainable params: 5,184,201\n",
            "Non-trainable params: 0\n",
            "_________________________________________________________________\n"
          ]
        }
      ]
    },
    {
      "cell_type": "code",
      "source": [
        "plot_model(model_brnn, show_shapes=True, show_layer_names=True,rankdir=\"LR\")"
      ],
      "metadata": {
        "colab": {
          "base_uri": "https://localhost:8080/",
          "height": 34
        },
        "id": "A_sU3wc3dLl-",
        "outputId": "da1748ab-669a-421f-9a4b-0b51aa652be9"
      },
      "execution_count": 44,
      "outputs": [
        {
          "output_type": "execute_result",
          "data": {
            "image/png": "[encoded data removed]",
            "text/plain": [
              "<IPython.core.display.Image object>"
            ]
          },
          "metadata": {},
          "execution_count": 44
        }
      ]
    },
    {
      "cell_type": "code",
      "source": [
        "model_brnn.fit(x_train, y_train,batch_size = 64)"
      ],
      "metadata": {
        "colab": {
          "base_uri": "https://localhost:8080/"
        },
        "id": "NxS8kpfzdLdU",
        "outputId": "bb2ab2ed-6059-4a67-c7b5-977e8d63bb97"
      },
      "execution_count": 45,
      "outputs": [
        {
          "output_type": "stream",
          "name": "stdout",
          "text": [
            "625/625 [==============================] - 16795s 27s/step - loss: 0.7005 - accuracy: 0.4987\n"
          ]
        },
        {
          "output_type": "execute_result",
          "data": {
            "text/plain": [
              "<keras.callbacks.History at 0x7fc1157d9150>"
            ]
          },
          "metadata": {},
          "execution_count": 45
        }
      ]
    },
    {
      "cell_type": "code",
      "source": [
        "batch_size = 64\n",
        "score1, acc1 = model_brnn.evaluate(x_test, y_test,batch_size=batch_size)"
      ],
      "metadata": {
        "colab": {
          "base_uri": "https://localhost:8080/",
          "height": 1000
        },
        "id": "frApes-AlNjO",
        "outputId": "bfa55117-373d-4dc1-d98e-b19216c3b3c6"
      },
      "execution_count": 55,
      "outputs": [
        {
          "output_type": "stream",
          "name": "stderr",
          "text": [
            "WARNING:tensorflow:Model was constructed with shape (None, 1000) for input KerasTensor(type_spec=TensorSpec(shape=(None, 1000), dtype=tf.float32, name='embedding_1_input'), name='embedding_1_input', description=\"created by layer 'embedding_1_input'\"), but it was called on an input with incompatible shape (None, 1).\n"
          ]
        },
        {
          "output_type": "error",
          "ename": "UnimplementedError",
          "evalue": "ignored",
          "traceback": [
            "\u001b[0;31m---------------------------------------------------------------------------\u001b[0m",
            "\u001b[0;31mUnimplementedError\u001b[0m                        Traceback (most recent call last)",
            "\u001b[0;32m<ipython-input-55-42dc9aa8a9ca>\u001b[0m in \u001b[0;36m<module>\u001b[0;34m\u001b[0m\n\u001b[1;32m      1\u001b[0m \u001b[0mbatch_size\u001b[0m \u001b[0;34m=\u001b[0m \u001b[0;36m64\u001b[0m\u001b[0;34m\u001b[0m\u001b[0;34m\u001b[0m\u001b[0m\n\u001b[0;32m----> 2\u001b[0;31m \u001b[0mscore1\u001b[0m\u001b[0;34m,\u001b[0m \u001b[0macc1\u001b[0m \u001b[0;34m=\u001b[0m \u001b[0mmodel_brnn\u001b[0m\u001b[0;34m.\u001b[0m\u001b[0mevaluate\u001b[0m\u001b[0;34m(\u001b[0m\u001b[0mx_test\u001b[0m\u001b[0;34m,\u001b[0m \u001b[0my_test\u001b[0m\u001b[0;34m,\u001b[0m\u001b[0mbatch_size\u001b[0m\u001b[0;34m=\u001b[0m\u001b[0mbatch_size\u001b[0m\u001b[0;34m)\u001b[0m\u001b[0;34m\u001b[0m\u001b[0;34m\u001b[0m\u001b[0m\n\u001b[0m",
            "\u001b[0;32m/usr/local/lib/python3.7/dist-packages/keras/utils/traceback_utils.py\u001b[0m in \u001b[0;36merror_handler\u001b[0;34m(*args, **kwargs)\u001b[0m\n\u001b[1;32m     65\u001b[0m     \u001b[0;32mexcept\u001b[0m \u001b[0mException\u001b[0m \u001b[0;32mas\u001b[0m \u001b[0me\u001b[0m\u001b[0;34m:\u001b[0m  \u001b[0;31m# pylint: disable=broad-except\u001b[0m\u001b[0;34m\u001b[0m\u001b[0;34m\u001b[0m\u001b[0m\n\u001b[1;32m     66\u001b[0m       \u001b[0mfiltered_tb\u001b[0m \u001b[0;34m=\u001b[0m \u001b[0m_process_traceback_frames\u001b[0m\u001b[0;34m(\u001b[0m\u001b[0me\u001b[0m\u001b[0;34m.\u001b[0m\u001b[0m__traceback__\u001b[0m\u001b[0;34m)\u001b[0m\u001b[0;34m\u001b[0m\u001b[0;34m\u001b[0m\u001b[0m\n\u001b[0;32m---> 67\u001b[0;31m       \u001b[0;32mraise\u001b[0m \u001b[0me\u001b[0m\u001b[0;34m.\u001b[0m\u001b[0mwith_traceback\u001b[0m\u001b[0;34m(\u001b[0m\u001b[0mfiltered_tb\u001b[0m\u001b[0;34m)\u001b[0m \u001b[0;32mfrom\u001b[0m \u001b[0;32mNone\u001b[0m\u001b[0;34m\u001b[0m\u001b[0;34m\u001b[0m\u001b[0m\n\u001b[0m\u001b[1;32m     68\u001b[0m     \u001b[0;32mfinally\u001b[0m\u001b[0;34m:\u001b[0m\u001b[0;34m\u001b[0m\u001b[0;34m\u001b[0m\u001b[0m\n\u001b[1;32m     69\u001b[0m       \u001b[0;32mdel\u001b[0m \u001b[0mfiltered_tb\u001b[0m\u001b[0;34m\u001b[0m\u001b[0;34m\u001b[0m\u001b[0m\n",
            "\u001b[0;32m/usr/local/lib/python3.7/dist-packages/tensorflow/python/eager/execute.py\u001b[0m in \u001b[0;36mquick_execute\u001b[0;34m(op_name, num_outputs, inputs, attrs, ctx, name)\u001b[0m\n\u001b[1;32m     53\u001b[0m     \u001b[0mctx\u001b[0m\u001b[0;34m.\u001b[0m\u001b[0mensure_initialized\u001b[0m\u001b[0;34m(\u001b[0m\u001b[0;34m)\u001b[0m\u001b[0;34m\u001b[0m\u001b[0;34m\u001b[0m\u001b[0m\n\u001b[1;32m     54\u001b[0m     tensors = pywrap_tfe.TFE_Py_Execute(ctx._handle, device_name, op_name,\n\u001b[0;32m---> 55\u001b[0;31m                                         inputs, attrs, num_outputs)\n\u001b[0m\u001b[1;32m     56\u001b[0m   \u001b[0;32mexcept\u001b[0m \u001b[0mcore\u001b[0m\u001b[0;34m.\u001b[0m\u001b[0m_NotOkStatusException\u001b[0m \u001b[0;32mas\u001b[0m \u001b[0me\u001b[0m\u001b[0;34m:\u001b[0m\u001b[0;34m\u001b[0m\u001b[0;34m\u001b[0m\u001b[0m\n\u001b[1;32m     57\u001b[0m     \u001b[0;32mif\u001b[0m \u001b[0mname\u001b[0m \u001b[0;32mis\u001b[0m \u001b[0;32mnot\u001b[0m \u001b[0;32mNone\u001b[0m\u001b[0;34m:\u001b[0m\u001b[0;34m\u001b[0m\u001b[0;34m\u001b[0m\u001b[0m\n",
            "\u001b[0;31mUnimplementedError\u001b[0m: Graph execution error:\n\nDetected at node 'sequential_1/Cast' defined at (most recent call last):\n    File \"/usr/lib/python3.7/runpy.py\", line 193, in _run_module_as_main\n      \"__main__\", mod_spec)\n    File \"/usr/lib/python3.7/runpy.py\", line 85, in _run_code\n      exec(code, run_globals)\n    File \"/usr/local/lib/python3.7/dist-packages/ipykernel_launcher.py\", line 16, in <module>\n      app.launch_new_instance()\n    File \"/usr/local/lib/python3.7/dist-packages/traitlets/config/application.py\", line 846, in launch_instance\n      app.start()\n    File \"/usr/local/lib/python3.7/dist-packages/ipykernel/kernelapp.py\", line 612, in start\n      self.io_loop.start()\n    File \"/usr/local/lib/python3.7/dist-packages/tornado/platform/asyncio.py\", line 132, in start\n      self.asyncio_loop.run_forever()\n    File \"/usr/lib/python3.7/asyncio/base_events.py\", line 541, in run_forever\n      self._run_once()\n    File \"/usr/lib/python3.7/asyncio/base_events.py\", line 1786, in _run_once\n      handle._run()\n    File \"/usr/lib/python3.7/asyncio/events.py\", line 88, in _run\n      self._context.run(self._callback, *self._args)\n    File \"/usr/local/lib/python3.7/dist-packages/tornado/ioloop.py\", line 758, in _run_callback\n      ret = callback()\n    File \"/usr/local/lib/python3.7/dist-packages/tornado/stack_context.py\", line 300, in null_wrapper\n      return fn(*args, **kwargs)\n    File \"/usr/local/lib/python3.7/dist-packages/tornado/gen.py\", line 1233, in inner\n      self.run()\n    File \"/usr/local/lib/python3.7/dist-packages/tornado/gen.py\", line 1147, in run\n      yielded = self.gen.send(value)\n    File \"/usr/local/lib/python3.7/dist-packages/ipykernel/kernelbase.py\", line 365, in process_one\n      yield gen.maybe_future(dispatch(*args))\n    File \"/usr/local/lib/python3.7/dist-packages/tornado/gen.py\", line 326, in wrapper\n      yielded = next(result)\n    File \"/usr/local/lib/python3.7/dist-packages/ipykernel/kernelbase.py\", line 268, in dispatch_shell\n      yield gen.maybe_future(handler(stream, idents, msg))\n    File \"/usr/local/lib/python3.7/dist-packages/tornado/gen.py\", line 326, in wrapper\n      yielded = next(result)\n    File \"/usr/local/lib/python3.7/dist-packages/ipykernel/kernelbase.py\", line 545, in execute_request\n      user_expressions, allow_stdin,\n    File \"/usr/local/lib/python3.7/dist-packages/tornado/gen.py\", line 326, in wrapper\n      yielded = next(result)\n    File \"/usr/local/lib/python3.7/dist-packages/ipykernel/ipkernel.py\", line 306, in do_execute\n      res = shell.run_cell(code, store_history=store_history, silent=silent)\n    File \"/usr/local/lib/python3.7/dist-packages/ipykernel/zmqshell.py\", line 536, in run_cell\n      return super(ZMQInteractiveShell, self).run_cell(*args, **kwargs)\n    File \"/usr/local/lib/python3.7/dist-packages/IPython/core/interactiveshell.py\", line 2855, in run_cell\n      raw_cell, store_history, silent, shell_futures)\n    File \"/usr/local/lib/python3.7/dist-packages/IPython/core/interactiveshell.py\", line 2881, in _run_cell\n      return runner(coro)\n    File \"/usr/local/lib/python3.7/dist-packages/IPython/core/async_helpers.py\", line 68, in _pseudo_sync_runner\n      coro.send(None)\n    File \"/usr/local/lib/python3.7/dist-packages/IPython/core/interactiveshell.py\", line 3058, in run_cell_async\n      interactivity=interactivity, compiler=compiler, result=result)\n    File \"/usr/local/lib/python3.7/dist-packages/IPython/core/interactiveshell.py\", line 3249, in run_ast_nodes\n      if (await self.run_code(code, result,  async_=asy)):\n    File \"/usr/local/lib/python3.7/dist-packages/IPython/core/interactiveshell.py\", line 3326, in run_code\n      exec(code_obj, self.user_global_ns, self.user_ns)\n    File \"<ipython-input-55-42dc9aa8a9ca>\", line 2, in <module>\n      score1, acc1 = model_brnn.evaluate(x_test, y_test,batch_size=batch_size)\n    File \"/usr/local/lib/python3.7/dist-packages/keras/utils/traceback_utils.py\", line 64, in error_handler\n      return fn(*args, **kwargs)\n    File \"/usr/local/lib/python3.7/dist-packages/keras/engine/training.py\", line 1716, in evaluate\n      tmp_logs = self.test_function(iterator)\n    File \"/usr/local/lib/python3.7/dist-packages/keras/engine/training.py\", line 1525, in test_function\n      return step_function(self, iterator)\n    File \"/usr/local/lib/python3.7/dist-packages/keras/engine/training.py\", line 1514, in step_function\n      outputs = model.distribute_strategy.run(run_step, args=(data,))\n    File \"/usr/local/lib/python3.7/dist-packages/keras/engine/training.py\", line 1507, in run_step\n      outputs = model.test_step(data)\n    File \"/usr/local/lib/python3.7/dist-packages/keras/engine/training.py\", line 1471, in test_step\n      y_pred = self(x, training=False)\n    File \"/usr/local/lib/python3.7/dist-packages/keras/utils/traceback_utils.py\", line 64, in error_handler\n      return fn(*args, **kwargs)\n    File \"/usr/local/lib/python3.7/dist-packages/keras/engine/base_layer.py\", line 1096, in __call__\n      outputs = call_fn(inputs, *args, **kwargs)\n    File \"/usr/local/lib/python3.7/dist-packages/keras/utils/traceback_utils.py\", line 92, in error_handler\n      return fn(*args, **kwargs)\n    File \"/usr/local/lib/python3.7/dist-packages/keras/engine/sequential.py\", line 374, in call\n      return super(Sequential, self).call(inputs, training=training, mask=mask)\n    File \"/usr/local/lib/python3.7/dist-packages/keras/engine/functional.py\", line 452, in call\n      inputs, training=training, mask=mask)\n    File \"/usr/local/lib/python3.7/dist-packages/keras/engine/functional.py\", line 571, in _run_internal_graph\n      y = self._conform_to_reference_input(y, ref_input=x)\n    File \"/usr/local/lib/python3.7/dist-packages/keras/engine/functional.py\", line 671, in _conform_to_reference_input\n      tensor = tf.cast(tensor, dtype=ref_input.dtype)\nNode: 'sequential_1/Cast'\n2 root error(s) found.\n  (0) UNIMPLEMENTED:  Cast string to float is not supported\n\t [[{{node sequential_1/Cast}}]]\n  (1) CANCELLED:  Function was cancelled before it was started\n0 successful operations.\n0 derived errors ignored. [Op:__inference_test_function_84772]"
          ]
        }
      ]
    },
    {
      "cell_type": "code",
      "source": [
        "print(\"score:\",score1)\n",
        "print(\"Accuracy:\",acc1)"
      ],
      "metadata": {
        "id": "p_QXlaEY6q5o"
      },
      "execution_count": null,
      "outputs": []
    },
    {
      "cell_type": "markdown",
      "source": [
        "#### Dataset and Testing"
      ],
      "metadata": {
        "id": "Hyu41dPylXwZ"
      }
    },
    {
      "cell_type": "code",
      "source": [
        "validation_sentence = ['']\n",
        "validation_sentence_tokened = tokenizer.texts_to_sequences(validation_sentence)\n",
        "validation_sentence_padded = pad_sequences(validation_sentence_tokened,maxlen=1000,truncating='post',padding='post')\n",
        "print(validation_sentence[0])\n",
        "print(\"Possibility of Positive: {}\".format(model_lstm.predict(validation_sentence_padded)[0]))\n",
        "print(\"Possibility of Positive: {}\".format(model_brnn.predict(validation_sentence_padded)[0]))\n"
      ],
      "metadata": {
        "colab": {
          "base_uri": "https://localhost:8080/"
        },
        "id": "q_v-cxLklbId",
        "outputId": "ff26a175-003e-460a-884e-188b47ea4eab"
      },
      "execution_count": 56,
      "outputs": [
        {
          "output_type": "stream",
          "name": "stdout",
          "text": [
            "\n",
            "Possibility of Positive: [0.49700573]\n",
            "Possibility of Positive: [[0.5025478 ]\n",
            " [0.5025545 ]\n",
            " [0.4999538 ]\n",
            " [0.4956229 ]\n",
            " [0.49956587]\n",
            " [0.50256926]\n",
            " [0.5051894 ]\n",
            " [0.49910966]\n",
            " [0.5025278 ]\n",
            " [0.50278777]\n",
            " [0.49782783]\n",
            " [0.50844127]\n",
            " [0.5002413 ]\n",
            " [0.5042345 ]\n",
            " [0.503996  ]\n",
            " [0.50264275]\n",
            " [0.5017154 ]\n",
            " [0.5037805 ]\n",
            " [0.5022364 ]\n",
            " [0.5085233 ]\n",
            " [0.50110596]\n",
            " [0.50838464]\n",
            " [0.5035902 ]\n",
            " [0.50453424]\n",
            " [0.5043915 ]\n",
            " [0.5013037 ]\n",
            " [0.50457865]\n",
            " [0.5000444 ]\n",
            " [0.50325143]\n",
            " [0.5007869 ]\n",
            " [0.50300866]\n",
            " [0.5015478 ]\n",
            " [0.50293624]\n",
            " [0.501797  ]\n",
            " [0.50268656]\n",
            " [0.50191647]\n",
            " [0.50238323]\n",
            " [0.50203806]\n",
            " [0.5022464 ]\n",
            " [0.5020677 ]\n",
            " [0.50215656]\n",
            " [0.5021367 ]\n",
            " [0.50211316]\n",
            " [0.50213754]\n",
            " [0.50207025]\n",
            " [0.5021959 ]\n",
            " [0.50205326]\n",
            " [0.50221735]\n",
            " [0.5020766 ]\n",
            " [0.50215036]\n",
            " [0.5021341 ]\n",
            " [0.5020993 ]\n",
            " [0.5021694 ]\n",
            " [0.5020844 ]\n",
            " [0.502175  ]\n",
            " [0.5020861 ]\n",
            " [0.5021702 ]\n",
            " [0.5020961 ]\n",
            " [0.5021622 ]\n",
            " [0.5021028 ]\n",
            " [0.5021565 ]\n",
            " [0.50210696]\n",
            " [0.5021547 ]\n",
            " [0.5021124 ]\n",
            " [0.5021475 ]\n",
            " [0.50212246]\n",
            " [0.5021362 ]\n",
            " [0.5021332 ]\n",
            " [0.502127  ]\n",
            " [0.50214005]\n",
            " [0.50212353]\n",
            " [0.50214064]\n",
            " [0.50212467]\n",
            " [0.50213844]\n",
            " [0.5021271 ]\n",
            " [0.5021369 ]\n",
            " [0.50212765]\n",
            " [0.50213706]\n",
            " [0.5021276 ]\n",
            " [0.50213677]\n",
            " [0.50212824]\n",
            " [0.5021353 ]\n",
            " [0.5021302 ]\n",
            " [0.50213337]\n",
            " [0.50213194]\n",
            " [0.50213194]\n",
            " [0.5021329 ]\n",
            " [0.50213164]\n",
            " [0.5021326 ]\n",
            " [0.5021322 ]\n",
            " [0.50213206]\n",
            " [0.50213253]\n",
            " [0.50213206]\n",
            " [0.5021321 ]\n",
            " [0.50213253]\n",
            " [0.50213164]\n",
            " [0.5021329 ]\n",
            " [0.50213146]\n",
            " [0.5021328 ]\n",
            " [0.5021317 ]\n",
            " [0.5021325 ]\n",
            " [0.502132  ]\n",
            " [0.5021323 ]\n",
            " [0.502132  ]\n",
            " [0.5021324 ]\n",
            " [0.50213176]\n",
            " [0.5021327 ]\n",
            " [0.5021317 ]\n",
            " [0.50213253]\n",
            " [0.502132  ]\n",
            " [0.50213224]\n",
            " [0.50213224]\n",
            " [0.502132  ]\n",
            " [0.5021323 ]\n",
            " [0.50213206]\n",
            " [0.5021322 ]\n",
            " [0.5021324 ]\n",
            " [0.5021318 ]\n",
            " [0.50213253]\n",
            " [0.50213194]\n",
            " [0.50213224]\n",
            " [0.50213236]\n",
            " [0.5021318 ]\n",
            " [0.5021327 ]\n",
            " [0.5021316 ]\n",
            " [0.5021327 ]\n",
            " [0.50213176]\n",
            " [0.5021324 ]\n",
            " [0.50213206]\n",
            " [0.5021321 ]\n",
            " [0.5021324 ]\n",
            " [0.50213194]\n",
            " [0.5021325 ]\n",
            " [0.5021319 ]\n",
            " [0.5021325 ]\n",
            " [0.5021319 ]\n",
            " [0.5021324 ]\n",
            " [0.50213194]\n",
            " [0.5021324 ]\n",
            " [0.502132  ]\n",
            " [0.5021323 ]\n",
            " [0.5021321 ]\n",
            " [0.5021322 ]\n",
            " [0.5021323 ]\n",
            " [0.50213194]\n",
            " [0.5021325 ]\n",
            " [0.5021318 ]\n",
            " [0.50213265]\n",
            " [0.50213164]\n",
            " [0.5021327 ]\n",
            " [0.50213176]\n",
            " [0.5021325 ]\n",
            " [0.50213206]\n",
            " [0.5021321 ]\n",
            " [0.50213236]\n",
            " [0.50213194]\n",
            " [0.5021325 ]\n",
            " [0.50213194]\n",
            " [0.50213236]\n",
            " [0.50213194]\n",
            " [0.5021326 ]\n",
            " [0.50213164]\n",
            " [0.50213295]\n",
            " [0.50213134]\n",
            " [0.502133  ]\n",
            " [0.5021314 ]\n",
            " [0.50213283]\n",
            " [0.50213164]\n",
            " [0.50213265]\n",
            " [0.50213176]\n",
            " [0.50213265]\n",
            " [0.50213164]\n",
            " [0.5021328 ]\n",
            " [0.5021316 ]\n",
            " [0.5021326 ]\n",
            " [0.502132  ]\n",
            " [0.5021321 ]\n",
            " [0.5021324 ]\n",
            " [0.5021318 ]\n",
            " [0.5021326 ]\n",
            " [0.5021318 ]\n",
            " [0.5021325 ]\n",
            " [0.50213206]\n",
            " [0.5021323 ]\n",
            " [0.5021321 ]\n",
            " [0.5021323 ]\n",
            " [0.50213206]\n",
            " [0.50213236]\n",
            " [0.5021319 ]\n",
            " [0.50213253]\n",
            " [0.50213176]\n",
            " [0.50213253]\n",
            " [0.50213194]\n",
            " [0.50213224]\n",
            " [0.50213224]\n",
            " [0.502132  ]\n",
            " [0.50213236]\n",
            " [0.50213194]\n",
            " [0.5021324 ]\n",
            " [0.50213194]\n",
            " [0.50213236]\n",
            " [0.502132  ]\n",
            " [0.5021325 ]\n",
            " [0.5021318 ]\n",
            " [0.50213265]\n",
            " [0.50213164]\n",
            " [0.5021327 ]\n",
            " [0.50213164]\n",
            " [0.50213265]\n",
            " [0.50213164]\n",
            " [0.5021327 ]\n",
            " [0.5021317 ]\n",
            " [0.50213265]\n",
            " [0.5021317 ]\n",
            " [0.50213265]\n",
            " [0.50213176]\n",
            " [0.5021326 ]\n",
            " [0.5021319 ]\n",
            " [0.50213236]\n",
            " [0.502132  ]\n",
            " [0.5021323 ]\n",
            " [0.5021322 ]\n",
            " [0.5021321 ]\n",
            " [0.50213224]\n",
            " [0.502132  ]\n",
            " [0.5021325 ]\n",
            " [0.50213194]\n",
            " [0.50213236]\n",
            " [0.50213206]\n",
            " [0.50213224]\n",
            " [0.50213224]\n",
            " [0.50213206]\n",
            " [0.5021323 ]\n",
            " [0.5021321 ]\n",
            " [0.5021322 ]\n",
            " [0.5021323 ]\n",
            " [0.502132  ]\n",
            " [0.50213236]\n",
            " [0.50213194]\n",
            " [0.5021324 ]\n",
            " [0.50213206]\n",
            " [0.5021321 ]\n",
            " [0.50213236]\n",
            " [0.5021319 ]\n",
            " [0.50213253]\n",
            " [0.5021319 ]\n",
            " [0.50213253]\n",
            " [0.5021319 ]\n",
            " [0.5021324 ]\n",
            " [0.50213194]\n",
            " [0.50213236]\n",
            " [0.5021321 ]\n",
            " [0.5021322 ]\n",
            " [0.5021322 ]\n",
            " [0.50213224]\n",
            " [0.50213206]\n",
            " [0.5021325 ]\n",
            " [0.5021317 ]\n",
            " [0.5021328 ]\n",
            " [0.5021316 ]\n",
            " [0.5021328 ]\n",
            " [0.50213164]\n",
            " [0.50213253]\n",
            " [0.502132  ]\n",
            " [0.50213224]\n",
            " [0.5021322 ]\n",
            " [0.5021322 ]\n",
            " [0.5021322 ]\n",
            " [0.50213224]\n",
            " [0.50213206]\n",
            " [0.5021324 ]\n",
            " [0.50213194]\n",
            " [0.50213236]\n",
            " [0.5021322 ]\n",
            " [0.502132  ]\n",
            " [0.50213253]\n",
            " [0.5021317 ]\n",
            " [0.5021327 ]\n",
            " [0.5021317 ]\n",
            " [0.5021326 ]\n",
            " [0.5021319 ]\n",
            " [0.50213236]\n",
            " [0.5021321 ]\n",
            " [0.5021321 ]\n",
            " [0.5021324 ]\n",
            " [0.5021317 ]\n",
            " [0.50213283]\n",
            " [0.5021314 ]\n",
            " [0.502133  ]\n",
            " [0.50213134]\n",
            " [0.502133  ]\n",
            " [0.50213134]\n",
            " [0.5021329 ]\n",
            " [0.5021316 ]\n",
            " [0.50213265]\n",
            " [0.50213176]\n",
            " [0.50213253]\n",
            " [0.5021319 ]\n",
            " [0.5021324 ]\n",
            " [0.50213206]\n",
            " [0.5021322 ]\n",
            " [0.5021323 ]\n",
            " [0.50213194]\n",
            " [0.50213253]\n",
            " [0.50213176]\n",
            " [0.50213265]\n",
            " [0.50213176]\n",
            " [0.5021325 ]\n",
            " [0.502132  ]\n",
            " [0.50213224]\n",
            " [0.5021322 ]\n",
            " [0.5021321 ]\n",
            " [0.50213224]\n",
            " [0.5021321 ]\n",
            " [0.5021322 ]\n",
            " [0.5021322 ]\n",
            " [0.50213224]\n",
            " [0.50213194]\n",
            " [0.5021325 ]\n",
            " [0.5021318 ]\n",
            " [0.50213253]\n",
            " [0.502132  ]\n",
            " [0.50213224]\n",
            " [0.50213224]\n",
            " [0.502132  ]\n",
            " [0.5021324 ]\n",
            " [0.5021319 ]\n",
            " [0.5021326 ]\n",
            " [0.50213164]\n",
            " [0.5021328 ]\n",
            " [0.5021315 ]\n",
            " [0.50213283]\n",
            " [0.5021315 ]\n",
            " [0.5021327 ]\n",
            " [0.50213176]\n",
            " [0.50213253]\n",
            " [0.5021319 ]\n",
            " [0.5021325 ]\n",
            " [0.50213194]\n",
            " [0.50213236]\n",
            " [0.502132  ]\n",
            " [0.5021323 ]\n",
            " [0.5021322 ]\n",
            " [0.5021321 ]\n",
            " [0.50213236]\n",
            " [0.50213194]\n",
            " [0.5021324 ]\n",
            " [0.50213194]\n",
            " [0.50213236]\n",
            " [0.5021321 ]\n",
            " [0.5021322 ]\n",
            " [0.5021321 ]\n",
            " [0.5021323 ]\n",
            " [0.502132  ]\n",
            " [0.50213236]\n",
            " [0.5021321 ]\n",
            " [0.5021322 ]\n",
            " [0.50213224]\n",
            " [0.5021322 ]\n",
            " [0.50213206]\n",
            " [0.50213236]\n",
            " [0.50213194]\n",
            " [0.5021324 ]\n",
            " [0.50213194]\n",
            " [0.5021323 ]\n",
            " [0.50213224]\n",
            " [0.50213194]\n",
            " [0.5021325 ]\n",
            " [0.5021319 ]\n",
            " [0.5021326 ]\n",
            " [0.5021317 ]\n",
            " [0.5021326 ]\n",
            " [0.50213176]\n",
            " [0.50213253]\n",
            " [0.5021318 ]\n",
            " [0.50213253]\n",
            " [0.5021319 ]\n",
            " [0.50213253]\n",
            " [0.5021318 ]\n",
            " [0.50213253]\n",
            " [0.50213194]\n",
            " [0.5021323 ]\n",
            " [0.5021323 ]\n",
            " [0.5021319 ]\n",
            " [0.50213253]\n",
            " [0.5021318 ]\n",
            " [0.5021324 ]\n",
            " [0.50213206]\n",
            " [0.5021322 ]\n",
            " [0.50213224]\n",
            " [0.5021321 ]\n",
            " [0.5021322 ]\n",
            " [0.5021322 ]\n",
            " [0.5021321 ]\n",
            " [0.5021322 ]\n",
            " [0.5021321 ]\n",
            " [0.5021323 ]\n",
            " [0.502132  ]\n",
            " [0.50213253]\n",
            " [0.50213176]\n",
            " [0.5021326 ]\n",
            " [0.50213176]\n",
            " [0.5021325 ]\n",
            " [0.50213194]\n",
            " [0.5021324 ]\n",
            " [0.5021319 ]\n",
            " [0.5021326 ]\n",
            " [0.50213176]\n",
            " [0.5021324 ]\n",
            " [0.5021321 ]\n",
            " [0.5021322 ]\n",
            " [0.5021323 ]\n",
            " [0.502132  ]\n",
            " [0.50213224]\n",
            " [0.50213224]\n",
            " [0.502132  ]\n",
            " [0.5021325 ]\n",
            " [0.50213194]\n",
            " [0.5021323 ]\n",
            " [0.50213206]\n",
            " [0.5021322 ]\n",
            " [0.5021322 ]\n",
            " [0.5021321 ]\n",
            " [0.50213236]\n",
            " [0.50213194]\n",
            " [0.5021324 ]\n",
            " [0.50213194]\n",
            " [0.50213236]\n",
            " [0.50213206]\n",
            " [0.50213224]\n",
            " [0.50213206]\n",
            " [0.5021323 ]\n",
            " [0.502132  ]\n",
            " [0.50213236]\n",
            " [0.502132  ]\n",
            " [0.50213224]\n",
            " [0.5021323 ]\n",
            " [0.502132  ]\n",
            " [0.5021324 ]\n",
            " [0.50213194]\n",
            " [0.5021324 ]\n",
            " [0.502132  ]\n",
            " [0.50213224]\n",
            " [0.50213224]\n",
            " [0.50213206]\n",
            " [0.50213236]\n",
            " [0.50213206]\n",
            " [0.5021322 ]\n",
            " [0.50213224]\n",
            " [0.50213206]\n",
            " [0.50213236]\n",
            " [0.50213206]\n",
            " [0.50213224]\n",
            " [0.50213224]\n",
            " [0.50213194]\n",
            " [0.50213253]\n",
            " [0.5021318 ]\n",
            " [0.50213253]\n",
            " [0.5021319 ]\n",
            " [0.5021325 ]\n",
            " [0.5021319 ]\n",
            " [0.5021325 ]\n",
            " [0.5021318 ]\n",
            " [0.50213253]\n",
            " [0.50213176]\n",
            " [0.5021326 ]\n",
            " [0.5021317 ]\n",
            " [0.5021327 ]\n",
            " [0.5021316 ]\n",
            " [0.5021327 ]\n",
            " [0.5021317 ]\n",
            " [0.50213253]\n",
            " [0.5021319 ]\n",
            " [0.5021324 ]\n",
            " [0.50213206]\n",
            " [0.50213224]\n",
            " [0.5021322 ]\n",
            " [0.50213206]\n",
            " [0.5021323 ]\n",
            " [0.502132  ]\n",
            " [0.5021323 ]\n",
            " [0.5021322 ]\n",
            " [0.5021321 ]\n",
            " [0.50213236]\n",
            " [0.50213194]\n",
            " [0.5021324 ]\n",
            " [0.502132  ]\n",
            " [0.50213236]\n",
            " [0.50213206]\n",
            " [0.50213224]\n",
            " [0.50213206]\n",
            " [0.50213236]\n",
            " [0.50213194]\n",
            " [0.5021325 ]\n",
            " [0.5021319 ]\n",
            " [0.5021325 ]\n",
            " [0.502132  ]\n",
            " [0.50213224]\n",
            " [0.5021321 ]\n",
            " [0.5021322 ]\n",
            " [0.5021322 ]\n",
            " [0.50213224]\n",
            " [0.5021322 ]\n",
            " [0.5021322 ]\n",
            " [0.5021322 ]\n",
            " [0.5021321 ]\n",
            " [0.5021323 ]\n",
            " [0.50213194]\n",
            " [0.5021324 ]\n",
            " [0.50213194]\n",
            " [0.50213236]\n",
            " [0.50213206]\n",
            " [0.5021322 ]\n",
            " [0.5021323 ]\n",
            " [0.502132  ]\n",
            " [0.5021324 ]\n",
            " [0.50213194]\n",
            " [0.5021324 ]\n",
            " [0.50213194]\n",
            " [0.5021324 ]\n",
            " [0.50213194]\n",
            " [0.5021324 ]\n",
            " [0.50213194]\n",
            " [0.5021323 ]\n",
            " [0.5021321 ]\n",
            " [0.50213206]\n",
            " [0.5021324 ]\n",
            " [0.5021318 ]\n",
            " [0.50213253]\n",
            " [0.5021319 ]\n",
            " [0.50213236]\n",
            " [0.50213206]\n",
            " [0.50213224]\n",
            " [0.5021321 ]\n",
            " [0.5021323 ]\n",
            " [0.502132  ]\n",
            " [0.50213236]\n",
            " [0.5021321 ]\n",
            " [0.50213206]\n",
            " [0.50213236]\n",
            " [0.50213194]\n",
            " [0.50213236]\n",
            " [0.502132  ]\n",
            " [0.5021323 ]\n",
            " [0.5021321 ]\n",
            " [0.50213224]\n",
            " [0.50213206]\n",
            " [0.50213224]\n",
            " [0.50213206]\n",
            " [0.50213224]\n",
            " [0.5021322 ]\n",
            " [0.5021321 ]\n",
            " [0.5021323 ]\n",
            " [0.502132  ]\n",
            " [0.5021323 ]\n",
            " [0.5021321 ]\n",
            " [0.5021322 ]\n",
            " [0.50213224]\n",
            " [0.50213206]\n",
            " [0.50213236]\n",
            " [0.502132  ]\n",
            " [0.50213236]\n",
            " [0.502132  ]\n",
            " [0.50213236]\n",
            " [0.502132  ]\n",
            " [0.5021323 ]\n",
            " [0.50213194]\n",
            " [0.50213253]\n",
            " [0.5021317 ]\n",
            " [0.5021328 ]\n",
            " [0.50213146]\n",
            " [0.50213295]\n",
            " [0.5021314 ]\n",
            " [0.50213295]\n",
            " [0.5021315 ]\n",
            " [0.50213283]\n",
            " [0.5021315 ]\n",
            " [0.50213283]\n",
            " [0.50213164]\n",
            " [0.50213253]\n",
            " [0.502132  ]\n",
            " [0.5021321 ]\n",
            " [0.5021325 ]\n",
            " [0.50213176]\n",
            " [0.50213265]\n",
            " [0.50213164]\n",
            " [0.50213283]\n",
            " [0.50213146]\n",
            " [0.5021331 ]\n",
            " [0.5021312 ]\n",
            " [0.50213313]\n",
            " [0.5021313 ]\n",
            " [0.50213295]\n",
            " [0.5021315 ]\n",
            " [0.5021328 ]\n",
            " [0.5021316 ]\n",
            " [0.5021328 ]\n",
            " [0.50213164]\n",
            " [0.50213265]\n",
            " [0.50213194]\n",
            " [0.5021321 ]\n",
            " [0.5021326 ]\n",
            " [0.5021315 ]\n",
            " [0.502133  ]\n",
            " [0.5021312 ]\n",
            " [0.50213313]\n",
            " [0.5021313 ]\n",
            " [0.50213295]\n",
            " [0.5021315 ]\n",
            " [0.5021327 ]\n",
            " [0.50213164]\n",
            " [0.5021328 ]\n",
            " [0.5021316 ]\n",
            " [0.5021327 ]\n",
            " [0.5021317 ]\n",
            " [0.50213253]\n",
            " [0.502132  ]\n",
            " [0.5021323 ]\n",
            " [0.50213206]\n",
            " [0.5021322 ]\n",
            " [0.5021322 ]\n",
            " [0.50213206]\n",
            " [0.50213236]\n",
            " [0.5021319 ]\n",
            " [0.5021326 ]\n",
            " [0.50213176]\n",
            " [0.50213253]\n",
            " [0.50213194]\n",
            " [0.5021323 ]\n",
            " [0.5021321 ]\n",
            " [0.50213224]\n",
            " [0.50213206]\n",
            " [0.5021323 ]\n",
            " [0.50213206]\n",
            " [0.50213236]\n",
            " [0.502132  ]\n",
            " [0.5021324 ]\n",
            " [0.5021319 ]\n",
            " [0.5021325 ]\n",
            " [0.50213194]\n",
            " [0.5021323 ]\n",
            " [0.5021321 ]\n",
            " [0.5021322 ]\n",
            " [0.5021323 ]\n",
            " [0.50213206]\n",
            " [0.50213236]\n",
            " [0.50213194]\n",
            " [0.5021324 ]\n",
            " [0.50213194]\n",
            " [0.50213236]\n",
            " [0.502132  ]\n",
            " [0.5021323 ]\n",
            " [0.50213206]\n",
            " [0.50213224]\n",
            " [0.502132  ]\n",
            " [0.5021324 ]\n",
            " [0.50213194]\n",
            " [0.50213236]\n",
            " [0.50213206]\n",
            " [0.5021322 ]\n",
            " [0.5021323 ]\n",
            " [0.50213206]\n",
            " [0.5021323 ]\n",
            " [0.50213206]\n",
            " [0.50213224]\n",
            " [0.50213224]\n",
            " [0.5021321 ]\n",
            " [0.5021322 ]\n",
            " [0.5021323 ]\n",
            " [0.50213194]\n",
            " [0.5021325 ]\n",
            " [0.5021319 ]\n",
            " [0.5021324 ]\n",
            " [0.502132  ]\n",
            " [0.5021323 ]\n",
            " [0.5021322 ]\n",
            " [0.5021321 ]\n",
            " [0.5021323 ]\n",
            " [0.50213206]\n",
            " [0.5021324 ]\n",
            " [0.50213194]\n",
            " [0.5021325 ]\n",
            " [0.5021318 ]\n",
            " [0.50213253]\n",
            " [0.5021319 ]\n",
            " [0.5021325 ]\n",
            " [0.5021319 ]\n",
            " [0.5021326 ]\n",
            " [0.5021317 ]\n",
            " [0.5021328 ]\n",
            " [0.50213146]\n",
            " [0.50213295]\n",
            " [0.5021314 ]\n",
            " [0.5021329 ]\n",
            " [0.5021315 ]\n",
            " [0.50213283]\n",
            " [0.5021316 ]\n",
            " [0.5021327 ]\n",
            " [0.5021317 ]\n",
            " [0.5021326 ]\n",
            " [0.50213176]\n",
            " [0.5021325 ]\n",
            " [0.502132  ]\n",
            " [0.50213224]\n",
            " [0.5021322 ]\n",
            " [0.5021322 ]\n",
            " [0.5021323 ]\n",
            " [0.5021319 ]\n",
            " [0.5021326 ]\n",
            " [0.50213176]\n",
            " [0.50213253]\n",
            " [0.5021319 ]\n",
            " [0.50213236]\n",
            " [0.5021322 ]\n",
            " [0.502132  ]\n",
            " [0.5021325 ]\n",
            " [0.50213176]\n",
            " [0.5021327 ]\n",
            " [0.50213164]\n",
            " [0.5021327 ]\n",
            " [0.50213164]\n",
            " [0.5021326 ]\n",
            " [0.5021319 ]\n",
            " [0.50213236]\n",
            " [0.5021321 ]\n",
            " [0.5021321 ]\n",
            " [0.5021323 ]\n",
            " [0.50213194]\n",
            " [0.5021325 ]\n",
            " [0.5021319 ]\n",
            " [0.50213253]\n",
            " [0.5021318 ]\n",
            " [0.50213265]\n",
            " [0.5021317 ]\n",
            " [0.5021327 ]\n",
            " [0.50213176]\n",
            " [0.5021324 ]\n",
            " [0.502132  ]\n",
            " [0.50213224]\n",
            " [0.5021322 ]\n",
            " [0.50213224]\n",
            " [0.5021321 ]\n",
            " [0.5021322 ]\n",
            " [0.50213224]\n",
            " [0.50213206]\n",
            " [0.5021323 ]\n",
            " [0.502132  ]\n",
            " [0.5021324 ]\n",
            " [0.50213176]\n",
            " [0.50213265]\n",
            " [0.50213164]\n",
            " [0.5021328 ]\n",
            " [0.5021316 ]\n",
            " [0.5021327 ]\n",
            " [0.5021318 ]\n",
            " [0.50213236]\n",
            " [0.5021321 ]\n",
            " [0.5021322 ]\n",
            " [0.5021321 ]\n",
            " [0.50213224]\n",
            " [0.5021321 ]\n",
            " [0.5021323 ]\n",
            " [0.50213206]\n",
            " [0.50213224]\n",
            " [0.50213224]\n",
            " [0.50213206]\n",
            " [0.50213236]\n",
            " [0.502132  ]\n",
            " [0.5021323 ]\n",
            " [0.5021321 ]\n",
            " [0.5021322 ]\n",
            " [0.5021322 ]\n",
            " [0.5021322 ]\n",
            " [0.5021322 ]\n",
            " [0.5021322 ]\n",
            " [0.5021322 ]\n",
            " [0.5021322 ]\n",
            " [0.5021321 ]\n",
            " [0.5021322 ]\n",
            " [0.50213224]\n",
            " [0.50213206]\n",
            " [0.5021324 ]\n",
            " [0.50213194]\n",
            " [0.5021324 ]\n",
            " [0.50213194]\n",
            " [0.5021323 ]\n",
            " [0.5021321 ]\n",
            " [0.5021321 ]\n",
            " [0.5021323 ]\n",
            " [0.502132  ]\n",
            " [0.5021323 ]\n",
            " [0.5021321 ]\n",
            " [0.5021322 ]\n",
            " [0.50213224]\n",
            " [0.50213206]\n",
            " [0.5021323 ]\n",
            " [0.5021321 ]\n",
            " [0.50213224]\n",
            " [0.5021321 ]\n",
            " [0.5021323 ]\n",
            " [0.50213206]\n",
            " [0.5021323 ]\n",
            " [0.502132  ]\n",
            " [0.5021323 ]\n",
            " [0.5021321 ]\n",
            " [0.50213206]\n",
            " [0.50213253]\n",
            " [0.5021316 ]\n",
            " [0.50213295]\n",
            " [0.5021314 ]\n",
            " [0.50213295]\n",
            " [0.5021316 ]\n",
            " [0.50213265]\n",
            " [0.5021318 ]\n",
            " [0.5021324 ]\n",
            " [0.50213194]\n",
            " [0.50213236]\n",
            " [0.502132  ]\n",
            " [0.5021323 ]\n",
            " [0.5021321 ]\n",
            " [0.50213224]\n",
            " [0.5021322 ]\n",
            " [0.5021321 ]\n",
            " [0.5021322 ]\n",
            " [0.5021321 ]\n",
            " [0.5021322 ]\n",
            " [0.5021323 ]\n",
            " [0.5021321 ]\n",
            " [0.5021322 ]\n",
            " [0.50213224]\n",
            " [0.5021321 ]\n",
            " [0.5021321 ]\n",
            " [0.5021323 ]\n",
            " [0.5021318 ]\n",
            " [0.5021327 ]\n",
            " [0.5021316 ]\n",
            " [0.5021327 ]\n",
            " [0.5021317 ]\n",
            " [0.5021326 ]\n",
            " [0.50213176]\n",
            " [0.5021326 ]\n",
            " [0.50213176]\n",
            " [0.5021326 ]\n",
            " [0.5021317 ]\n",
            " [0.50213265]\n",
            " [0.5021317 ]\n",
            " [0.50213253]\n",
            " [0.502132  ]\n",
            " [0.50213224]\n",
            " [0.50213224]\n",
            " [0.5021321 ]\n",
            " [0.5021321 ]\n",
            " [0.5021323 ]\n",
            " [0.50213194]\n",
            " [0.50213253]\n",
            " [0.50213176]\n",
            " [0.50213253]\n",
            " [0.50213194]\n",
            " [0.5021323 ]\n",
            " [0.5021321 ]\n",
            " [0.5021322 ]\n",
            " [0.5021322 ]\n",
            " [0.50213224]\n",
            " [0.5021322 ]\n",
            " [0.5021321 ]\n",
            " [0.50213236]\n",
            " [0.50213194]\n",
            " [0.5021324 ]\n",
            " [0.50213194]\n",
            " [0.5021325 ]\n",
            " [0.5021318 ]\n",
            " [0.5021326 ]\n",
            " [0.50213164]\n",
            " [0.5021328 ]\n",
            " [0.50213164]\n",
            " [0.5021326 ]\n",
            " [0.50213206]\n",
            " [0.5021321 ]\n",
            " [0.50213236]\n",
            " [0.502132  ]\n",
            " [0.5021323 ]\n",
            " [0.5021321 ]\n",
            " [0.5021322 ]\n",
            " [0.50213224]\n",
            " [0.5021322 ]\n",
            " [0.5021322 ]\n",
            " [0.50213224]\n",
            " [0.502132  ]\n",
            " [0.5021324 ]\n",
            " [0.50213194]\n",
            " [0.50213236]\n",
            " [0.5021321 ]\n",
            " [0.50213206]\n",
            " [0.5021325 ]\n",
            " [0.50213176]\n",
            " [0.50213265]\n",
            " [0.5021316 ]\n",
            " [0.5021328 ]\n",
            " [0.50213164]\n",
            " [0.5021326 ]\n",
            " [0.5021319 ]\n",
            " [0.5021324 ]\n",
            " [0.50213206]\n",
            " [0.50213224]\n",
            " [0.5021322 ]\n",
            " [0.5021322 ]\n",
            " [0.5021321 ]\n",
            " [0.5021322 ]\n",
            " [0.50213224]\n",
            " [0.5021321 ]\n",
            " [0.50213224]\n",
            " [0.5021322 ]\n",
            " [0.50213206]\n",
            " [0.5021324 ]\n",
            " [0.5021318 ]\n",
            " [0.5021326 ]\n",
            " [0.5021318 ]\n",
            " [0.5021325 ]\n",
            " [0.50213194]\n",
            " [0.5021323 ]\n",
            " [0.5021323 ]\n",
            " [0.5021319 ]\n",
            " [0.5021328 ]\n",
            " [0.5021314 ]\n",
            " [0.50213295]\n",
            " [0.5021314 ]\n",
            " [0.50213253]\n",
            " [0.5021321 ]\n",
            " [0.50213194]\n",
            " [0.50213295]\n",
            " [0.5021317 ]\n",
            " [0.5021326 ]\n",
            " [0.50213194]\n",
            " [0.5021309 ]\n",
            " [0.50213313]\n",
            " [0.5021316 ]\n",
            " [0.50213385]\n",
            " [0.50213104]\n",
            " [0.5021358 ]\n",
            " [0.50212765]\n",
            " [0.50213367]\n",
            " [0.5021278 ]\n",
            " [0.50213814]\n",
            " [0.5021243 ]\n",
            " [0.50214654]\n",
            " [0.5021312 ]\n",
            " [0.50212127]\n",
            " [0.5021469 ]\n",
            " [0.50210696]\n",
            " [0.5021328 ]\n",
            " [0.50214946]\n",
            " [0.5021194 ]\n",
            " [0.5021747 ]\n",
            " [0.5020787 ]\n",
            " [0.5022126 ]\n",
            " [0.50197124]\n",
            " [0.5022962 ]\n",
            " [0.50202334]\n",
            " [0.50206536]\n",
            " [0.50224566]\n",
            " [0.50208855]\n",
            " [0.50209206]\n",
            " [0.50218236]\n",
            " [0.5019553 ]\n",
            " [0.5021894 ]\n",
            " [0.5015914 ]\n",
            " [0.5027245 ]\n",
            " [0.501401  ]\n",
            " [0.50257516]\n",
            " [0.5017806 ]\n",
            " [0.5014618 ]\n",
            " [0.50231445]\n",
            " [0.50201166]\n",
            " [0.5027245 ]\n",
            " [0.50141156]\n",
            " [0.50205   ]\n",
            " [0.50011426]\n",
            " [0.50184435]\n",
            " [0.49842143]\n",
            " [0.5034026 ]\n",
            " [0.49859682]\n",
            " [0.49939266]\n",
            " [0.50506634]\n",
            " [0.49678382]\n",
            " [0.50101835]\n",
            " [0.50039184]\n",
            " [0.4922246 ]\n",
            " [0.5061432 ]\n",
            " [0.5018407 ]\n",
            " [0.49975473]\n",
            " [0.49975342]\n",
            " [0.504751  ]\n",
            " [0.49316278]\n",
            " [0.5016602 ]\n",
            " [0.5005063 ]\n",
            " [0.5051041 ]\n",
            " [0.49815065]\n",
            " [0.49915284]\n",
            " [0.5079468 ]\n",
            " [0.5009073 ]]\n"
          ]
        }
      ]
    },
    {
      "cell_type": "code",
      "source": [
        "validation_sentence = ['The film borrows from Indian mythology and folk tales, which is fantastic. The effort and passion invested in creating the universe in this film, replete with minute detailing, are worthy of appreciation. And while doing so, the makers lovingly doff their hats to movies like the Harry Potter franchise. The film shines in divisions like the VFX. The film’s colour palette has been created thoughtfully, and the depiction of the astras created out of the powers of nature and mythological characters is beautiful. The action choreography, especially in the chase sequence before interval, deserves whistles and claps, too.']\n",
        "validation_sentence_tokened = tokenizer.texts_to_sequences(validation_sentence)\n",
        "validation_sentence_padded = pad_sequences(validation_sentence_tokened,maxlen=1000,truncating='post',padding='post')\n",
        "print(validation_sentence[0])\n",
        "print(\"Possibility of Positive: {}\".format(model_lstm.predict(validation_sentence_padded)[0]))\n",
        "print(\"Possibility of Positive: {}\".format(model_brnn.predict(validation_sentence_padded)[0]))\n"
      ],
      "metadata": {
        "id": "_Lt01crf7JhX"
      },
      "execution_count": null,
      "outputs": []
    },
    {
      "cell_type": "code",
      "source": [],
      "metadata": {
        "id": "8_DS3FFc7jF4"
      },
      "execution_count": null,
      "outputs": []
    }
  ]
}